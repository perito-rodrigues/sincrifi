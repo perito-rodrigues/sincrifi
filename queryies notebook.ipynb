{
    "metadata": {
        "kernelspec": {
            "name": "SQL",
            "display_name": "SQL",
            "language": "sql"
        },
        "language_info": {
            "name": "sql",
            "version": ""
        }
    },
    "nbformat_minor": 2,
    "nbformat": 4,
    "cells": [
        {
            "cell_type": "code",
            "source": [
                "\r\n",
                "select FORMAT(SUM(VALOR_TRANSACAO), 'C') AS TOTAL from ORIGEM_DESTINO"
            ],
            "metadata": {
                "azdata_cell_guid": "12634eb4-2bec-4d8e-872d-49ac09e8e0d0"
            },
            "outputs": [
                {
                    "output_type": "display_data",
                    "data": {
                        "text/html": "(1 row affected)"
                    },
                    "metadata": {}
                },
                {
                    "output_type": "display_data",
                    "data": {
                        "text/html": "Total execution time: 00:00:00.018"
                    },
                    "metadata": {}
                },
                {
                    "output_type": "execute_result",
                    "execution_count": 4,
                    "data": {
                        "application/vnd.dataresource+json": {
                            "schema": {
                                "fields": [
                                    {
                                        "name": "TOTAL"
                                    }
                                ]
                            },
                            "data": [
                                {
                                    "0": "R$ 11.380.750,00"
                                }
                            ]
                        },
                        "text/html": "<table><tr><th>TOTAL</th></tr><tr><td>R$ 11.380.750,00</td></tr></table>"
                    },
                    "metadata": {}
                }
            ],
            "execution_count": 4
        },
        {
            "cell_type": "code",
            "source": [
                "SELECT t.NOME_TITULAR AS NOME, FORMAT(t.VALOR_RENDA, 'C') AS RENDA, t.CPF_CNPJ_TITULAR AS 'CPF/CNPJ',  t.TELEFONE_PESSOA AS FONE, \r\n",
                "\r\n",
                "FORMAT(ISNULL(\r\n",
                "(SELECT SUM(VALOR_LANCAMENTO) AS CREDITOS\r\n",
                "    FROM EXTRATO e \r\n",
                "    WHERE e.NUMERO_BANCO = t.NUMERO_BANCO \r\n",
                "    AND e.NUMERO_AGENCIA = t.NUMERO_AGENCIA \r\n",
                "    AND e.NUMERO_CONTA LIKE t.NUMERO_CONTA \r\n",
                "    AND e.TIPO_LANCAMENTO BETWEEN 201 AND 219 ) \r\n",
                "-    \r\n",
                "(SELECT SUM(VALOR_LANCAMENTO)  AS DEBITOS\r\n",
                "    FROM EXTRATO e \r\n",
                "    WHERE e.NUMERO_BANCO = t.NUMERO_BANCO \r\n",
                "    AND e.NUMERO_AGENCIA = t.NUMERO_AGENCIA \r\n",
                "    AND e.NUMERO_CONTA LIKE t.NUMERO_CONTA \r\n",
                "    AND e.TIPO_LANCAMENTO BETWEEN 101 AND 122 ), '0'),\r\n",
                "    'C') AS MOVIMENTOU\r\n",
                "\r\n",
                "FROM TITULARES t ORDER BY NOME"
            ],
            "metadata": {
                "azdata_cell_guid": "9c723436-48d0-4734-8de9-866484aece6f"
            },
            "outputs": [
                {
                    "output_type": "display_data",
                    "data": {
                        "text/html": "(6 rows affected)"
                    },
                    "metadata": {}
                },
                {
                    "output_type": "display_data",
                    "data": {
                        "text/html": "Total execution time: 00:00:00.130"
                    },
                    "metadata": {}
                },
                {
                    "output_type": "execute_result",
                    "execution_count": 14,
                    "data": {
                        "application/vnd.dataresource+json": {
                            "schema": {
                                "fields": [
                                    {
                                        "name": "NOME"
                                    },
                                    {
                                        "name": "RENDA"
                                    },
                                    {
                                        "name": "CPF/CNPJ"
                                    },
                                    {
                                        "name": "FONE"
                                    },
                                    {
                                        "name": "MOVIMENTOU"
                                    }
                                ]
                            },
                            "data": [
                                {
                                    "0": "EMPRESA DO INVESTIGADO 200",
                                    "1": "R$ 300.002,00",
                                    "2": "59717553000617",
                                    "3": "3138989898",
                                    "4": "-R$ 3.775.450,00"
                                },
                                {
                                    "0": "FULANO DA SILVA (PESSOA NO MESMO BANCO)",
                                    "1": "R$ 0,00",
                                    "2": "55555555121",
                                    "3": "",
                                    "4": "R$ 0,00"
                                },
                                {
                                    "0": "INVESTIGADO 200",
                                    "1": "R$ 400.000,00",
                                    "2": "20050506870",
                                    "3": "6140004545",
                                    "4": "R$ 554.800,00"
                                },
                                {
                                    "0": "INVESTIGADO 765",
                                    "1": "R$ 400.000,00",
                                    "2": "76527514700",
                                    "3": "6140004545",
                                    "4": "-R$ 3.775.450,00"
                                },
                                {
                                    "0": "JOAO ALMEIDA",
                                    "1": "R$ 0,00",
                                    "2": "35463200009",
                                    "3": "",
                                    "4": "R$ 0,00"
                                },
                                {
                                    "0": "MARLENE MATOS",
                                    "1": "R$ 500.000,00",
                                    "2": "12345678909",
                                    "3": "6248989898",
                                    "4": "R$ 0,00"
                                }
                            ]
                        },
                        "text/html": "<table><tr><th>NOME</th><th>RENDA</th><th>CPF/CNPJ</th><th>FONE</th><th>MOVIMENTOU</th></tr><tr><td>EMPRESA DO INVESTIGADO 200</td><td>R$ 300.002,00</td><td>59717553000617</td><td>3138989898</td><td>-R$ 3.775.450,00</td></tr><tr><td>FULANO DA SILVA (PESSOA NO MESMO BANCO)</td><td>R$ 0,00</td><td>55555555121</td><td></td><td>R$ 0,00</td></tr><tr><td>INVESTIGADO 200</td><td>R$ 400.000,00</td><td>20050506870</td><td>6140004545</td><td>R$ 554.800,00</td></tr><tr><td>INVESTIGADO 765</td><td>R$ 400.000,00</td><td>76527514700</td><td>6140004545</td><td>-R$ 3.775.450,00</td></tr><tr><td>JOAO ALMEIDA</td><td>R$ 0,00</td><td>35463200009</td><td></td><td>R$ 0,00</td></tr><tr><td>MARLENE MATOS</td><td>R$ 500.000,00</td><td>12345678909</td><td>6248989898</td><td>R$ 0,00</td></tr></table>"
                    },
                    "metadata": {}
                }
            ],
            "execution_count": 14
        },
        {
            "cell_type": "code",
            "source": [
                "SELECT t.NOME_TITULAR AS NOME, FORMAT(t.VALOR_RENDA, 'C') AS RENDA, t.CPF_CNPJ_TITULAR AS 'CPF/CNPJ',  t.TELEFONE_PESSOA AS FONE, \r\n",
                "\r\n",
                "FORMAT(ISNULL(\r\n",
                "(SELECT TOP(1)VALOR_SALDO \r\n",
                "    FROM EXTRATO e \r\n",
                "    WHERE e.NUMERO_BANCO = t.NUMERO_BANCO \r\n",
                "    AND e.NUMERO_AGENCIA = t.NUMERO_AGENCIA \r\n",
                "    AND e.NUMERO_CONTA LIKE t.NUMERO_CONTA \r\n",
                "    AND e.TIPO_LANCAMENTO BETWEEN 201 AND 219\r\n",
                "    ORDER BY e.CODIGO_CHAVE_EXTRATO DESC) \r\n",
                ", '0'),\r\n",
                "    'C') AS MOVIMENTOU\r\n",
                "\r\n",
                "FROM TITULARES t ORDER BY NOME"
            ],
            "metadata": {
                "azdata_cell_guid": "4ff8e5bf-9719-461b-b3b6-7edab0ce33fc"
            },
            "outputs": [
                {
                    "output_type": "display_data",
                    "data": {
                        "text/html": "(6 rows affected)"
                    },
                    "metadata": {}
                },
                {
                    "output_type": "display_data",
                    "data": {
                        "text/html": "Total execution time: 00:00:00.125"
                    },
                    "metadata": {}
                },
                {
                    "output_type": "execute_result",
                    "execution_count": 16,
                    "data": {
                        "application/vnd.dataresource+json": {
                            "schema": {
                                "fields": [
                                    {
                                        "name": "NOME"
                                    },
                                    {
                                        "name": "RENDA"
                                    },
                                    {
                                        "name": "CPF/CNPJ"
                                    },
                                    {
                                        "name": "FONE"
                                    },
                                    {
                                        "name": "MOVIMENTOU"
                                    }
                                ]
                            },
                            "data": [
                                {
                                    "0": "EMPRESA DO INVESTIGADO 200",
                                    "1": "R$ 300.002,00",
                                    "2": "59717553000617",
                                    "3": "3138989898",
                                    "4": "R$ 4.383.850,00"
                                },
                                {
                                    "0": "FULANO DA SILVA (PESSOA NO MESMO BANCO)",
                                    "1": "R$ 0,00",
                                    "2": "55555555121",
                                    "3": "",
                                    "4": "R$ 0,00"
                                },
                                {
                                    "0": "INVESTIGADO 200",
                                    "1": "R$ 400.000,00",
                                    "2": "20050506870",
                                    "3": "6140004545",
                                    "4": "R$ 5.914.800,00"
                                },
                                {
                                    "0": "INVESTIGADO 765",
                                    "1": "R$ 400.000,00",
                                    "2": "76527514700",
                                    "3": "6140004545",
                                    "4": "R$ 4.383.850,00"
                                },
                                {
                                    "0": "JOAO ALMEIDA",
                                    "1": "R$ 0,00",
                                    "2": "35463200009",
                                    "3": "",
                                    "4": "R$ 0,00"
                                },
                                {
                                    "0": "MARLENE MATOS",
                                    "1": "R$ 500.000,00",
                                    "2": "12345678909",
                                    "3": "6248989898",
                                    "4": "R$ 0,00"
                                }
                            ]
                        },
                        "text/html": "<table><tr><th>NOME</th><th>RENDA</th><th>CPF/CNPJ</th><th>FONE</th><th>MOVIMENTOU</th></tr><tr><td>EMPRESA DO INVESTIGADO 200</td><td>R$ 300.002,00</td><td>59717553000617</td><td>3138989898</td><td>R$ 4.383.850,00</td></tr><tr><td>FULANO DA SILVA (PESSOA NO MESMO BANCO)</td><td>R$ 0,00</td><td>55555555121</td><td></td><td>R$ 0,00</td></tr><tr><td>INVESTIGADO 200</td><td>R$ 400.000,00</td><td>20050506870</td><td>6140004545</td><td>R$ 5.914.800,00</td></tr><tr><td>INVESTIGADO 765</td><td>R$ 400.000,00</td><td>76527514700</td><td>6140004545</td><td>R$ 4.383.850,00</td></tr><tr><td>JOAO ALMEIDA</td><td>R$ 0,00</td><td>35463200009</td><td></td><td>R$ 0,00</td></tr><tr><td>MARLENE MATOS</td><td>R$ 500.000,00</td><td>12345678909</td><td>6248989898</td><td>R$ 0,00</td></tr></table>"
                    },
                    "metadata": {}
                }
            ],
            "execution_count": 16
        },
        {
            "cell_type": "code",
            "source": [
                "SELECT NOME_AGENCIA AS NOME, NUMERO_BANCO+'/'+NUMERO_AGENCIA AS 'BANCO/AGÊNCIA', ENDERECO_CIDADE AS CIDADE, ENDERECO_CEP AS CEP, ENDERECO_UF AS UF, ENDERECO_PAIS AS 'PAÍS', TELEFONE_AGENCIA AS FONE, DATA_ABERTURA_AGENCIA AS ABERTURA, ISNULL(DATA_FECHAMENTO_AGENCIA, '-') AS FECHAMENTO FROM AGENCIAS ORDER BY NOME_AGENCIA"
            ],
            "metadata": {
                "azdata_cell_guid": "bd00d230-123e-48a6-9599-cc008c3610a9"
            },
            "outputs": [
                {
                    "output_type": "error",
                    "ename": "",
                    "evalue": "Msg 8114, Level 16, State 5, Line 1\r\nErro ao converter tipo de dados varchar em numeric.",
                    "traceback": []
                },
                {
                    "output_type": "display_data",
                    "data": {
                        "text/html": "Total execution time: 00:00:00.253"
                    },
                    "metadata": {}
                },
                {
                    "output_type": "execute_result",
                    "execution_count": 18,
                    "data": {
                        "application/vnd.dataresource+json": {
                            "schema": {
                                "fields": [
                                    {
                                        "name": "NOME"
                                    },
                                    {
                                        "name": "BANCO/AGÊNCIA"
                                    },
                                    {
                                        "name": "CIDADE"
                                    },
                                    {
                                        "name": "CEP"
                                    },
                                    {
                                        "name": "UF"
                                    },
                                    {
                                        "name": "PAÍS"
                                    },
                                    {
                                        "name": "FONE"
                                    },
                                    {
                                        "name": "ABERTURA"
                                    },
                                    {
                                        "name": "FECHAMENTO"
                                    }
                                ]
                            },
                            "data": []
                        },
                        "text/html": "<table><tr><th>NOME</th><th>BANCO/AGÊNCIA</th><th>CIDADE</th><th>CEP</th><th>UF</th><th>PAÍS</th><th>FONE</th><th>ABERTURA</th><th>FECHAMENTO</th></tr></table>"
                    },
                    "metadata": {}
                }
            ],
            "execution_count": 18
        },
        {
            "cell_type": "code",
            "source": [
                " SELECT DISTINCT\n",
                "ROW_NUMBER() OVER (ORDER BY e.DATA_LANCAMENTO, e.CODIGO_CHAVE_EXTRATO ASC) AS 'SEQUENCE',\n",
                "e.CODIGO_CHAVE_EXTRATO AS 'ID_LANCAMENTO',\n",
                "FORMAT(e.VALOR_LANCAMENTO, 'C') AS 'VALOR_LANÇAMENTO',\n",
                "ISNULL(l.CODIGO, 0) as 'TIPO_LANCAMENTO_N',\n",
                "l.DESCRICAO AS 'TIPO_DE_LANÇAMENTO',\n",
                "e.NUMERO_DOCUMENTO AS 'N_DOCUMENTO',\n",
                "e.NUMERO_BANCO as 'BANCO_EXTRATO',\n",
                "a.NOME_AGENCIA AS 'AGÊNCIA_EXTRATO',\n",
                "e.NUMERO_CONTA AS 'CONTA_EXTRATO',\n",
                "FORMAT(e.VALOR_SALDO, 'C') AS 'SALDO',\n",
                "t.NOME_TITULAR AS 'NOME EXTRATO' ,\n",
                "CONVERT(VARCHAR,e.DATA_LANCAMENTO, 103) AS 'DATA_DE_LANÇAMENTO',\n",
                "FORMAT(o.VALOR_TRANSACAO, 'C') AS 'VALOR_TRANSAÇÃO',\n",
                "o.NOME_PESSOA_OD AS 'NOME_OD',\n",
                "o.NUMERO_BANCO_OD AS 'BANCO_OD',\n",
                "o.NUMERO_AGENCIA_OD AS 'AGÊNCIA_OD',\n",
                "od.NOME_AGENCIA AS 'NOME_AGENCIA_OD',\n",
                "o.NUMERO_CONTA_OD AS 'CONTA_OD',\n",
                "o.NOME_ENDOSSANTE_CHEQUE AS 'NOME_ENDOSSSANTE_CHEQUE',\n",
                "o.DOC_ENDOSSANTE_CHEQUE AS 'DOC_ENDOSSANTE_CHEQUE',\n",
                "o.OBSERVACAO,\n",
                "e.DATA_LANCAMENTO, \n",
                "e.CODIGO_CHAVE_EXTRATO\n",
                "FROM EXTRATO e \n",
                "INNER JOIN ORIGEM_DESTINO o ON e.CODIGO_CHAVE_EXTRATO = o.CODIGO_CHAVE_EXTRATO \n",
                "INNER JOIN AGENCIAS a ON a.NUMERO_BANCO = e.NUMERO_BANCO AND a.NUMERO_AGENCIA = e.NUMERO_AGENCIA \n",
                "INNER JOIN TITULARES t ON t.NUMERO_BANCO = e.NUMERO_BANCO AND t.NUMERO_AGENCIA = e.NUMERO_AGENCIA AND t.NUMERO_CONTA = e.NUMERO_CONTA\n",
                "LEFT JOIN AGENCIAS od ON od.NUMERO_BANCO = o.NUMERO_BANCO_OD AND od.NUMERO_AGENCIA = o.NUMERO_AGENCIA_OD\n",
                "LEFT JOIN TIPO_LANCAMENTO l ON e.TIPO_LANCAMENTO = l.CODIGO\n",
                "order by e.DATA_LANCAMENTO, e.CODIGO_CHAVE_EXTRATO"
            ],
            "metadata": {
                "azdata_cell_guid": "d0eee701-cdd1-46e7-be80-de6e06e9499f"
            },
            "outputs": [
                {
                    "output_type": "display_data",
                    "data": {
                        "text/html": "(43 rows affected)"
                    },
                    "metadata": {}
                },
                {
                    "output_type": "display_data",
                    "data": {
                        "text/html": "Total execution time: 00:00:00.070"
                    },
                    "metadata": {}
                },
                {
                    "output_type": "execute_result",
                    "execution_count": 10,
                    "data": {
                        "application/vnd.dataresource+json": {
                            "schema": {
                                "fields": [
                                    {
                                        "name": "SEQUENCE"
                                    },
                                    {
                                        "name": "ID_LANCAMENTO"
                                    },
                                    {
                                        "name": "VALOR_LANÇAMENTO"
                                    },
                                    {
                                        "name": "TIPO_LANCAMENTO_N"
                                    },
                                    {
                                        "name": "TIPO_DE_LANÇAMENTO"
                                    },
                                    {
                                        "name": "N_DOCUMENTO"
                                    },
                                    {
                                        "name": "BANCO_EXTRATO"
                                    },
                                    {
                                        "name": "AGÊNCIA_EXTRATO"
                                    },
                                    {
                                        "name": "CONTA_EXTRATO"
                                    },
                                    {
                                        "name": "SALDO"
                                    },
                                    {
                                        "name": "NOME EXTRATO"
                                    },
                                    {
                                        "name": "DATA_DE_LANÇAMENTO"
                                    },
                                    {
                                        "name": "VALOR_TRANSAÇÃO"
                                    },
                                    {
                                        "name": "NOME_OD"
                                    },
                                    {
                                        "name": "BANCO_OD"
                                    },
                                    {
                                        "name": "AGÊNCIA_OD"
                                    },
                                    {
                                        "name": "NOME_AGENCIA_OD"
                                    },
                                    {
                                        "name": "CONTA_OD"
                                    },
                                    {
                                        "name": "NOME_ENDOSSSANTE_CHEQUE"
                                    },
                                    {
                                        "name": "DOC_ENDOSSANTE_CHEQUE"
                                    },
                                    {
                                        "name": "OBSERVACAO"
                                    },
                                    {
                                        "name": "DATA_LANCAMENTO"
                                    },
                                    {
                                        "name": "CODIGO_CHAVE_EXTRATO"
                                    }
                                ]
                            },
                            "data": [
                                {
                                    "0": "1",
                                    "1": "1",
                                    "2": "R$ 100.000,00",
                                    "3": "219",
                                    "4": "Pagamentos Salariais",
                                    "5": "123",
                                    "6": "888",
                                    "7": "AGENCIA 101",
                                    "8": "111111",
                                    "9": "R$ 5.100.000,00",
                                    "10": "INVESTIGADO 200",
                                    "11": "01/01/2006",
                                    "12": "R$ 100.000,00",
                                    "13": "EMPRESA",
                                    "14": "1",
                                    "15": "101",
                                    "16": "NULL",
                                    "17": "4455",
                                    "18": "",
                                    "19": "",
                                    "20": "DINHEIRO",
                                    "21": "2006-01-01 00:00:00.000",
                                    "22": "1"
                                },
                                {
                                    "0": "2",
                                    "1": "2",
                                    "2": "R$ 100.000,00",
                                    "3": "201",
                                    "4": "Depósitos",
                                    "5": "124",
                                    "6": "888",
                                    "7": "AGENCIA 101",
                                    "8": "111111",
                                    "9": "R$ 5.200.000,00",
                                    "10": "INVESTIGADO 200",
                                    "11": "01/01/2006",
                                    "12": "R$ 50.000,00",
                                    "13": "ENVOLVIDO 4",
                                    "14": "0",
                                    "15": "0",
                                    "16": "NULL",
                                    "17": "",
                                    "18": "",
                                    "19": "",
                                    "20": "",
                                    "21": "2006-01-01 00:00:00.000",
                                    "22": "2"
                                },
                                {
                                    "0": "3",
                                    "1": "2",
                                    "2": "R$ 100.000,00",
                                    "3": "201",
                                    "4": "Depósitos",
                                    "5": "124",
                                    "6": "888",
                                    "7": "AGENCIA 101",
                                    "8": "111111",
                                    "9": "R$ 5.200.000,00",
                                    "10": "INVESTIGADO 200",
                                    "11": "01/01/2006",
                                    "12": "R$ 50.000,00",
                                    "13": "ENVOLVIDO 4",
                                    "14": "0",
                                    "15": "0",
                                    "16": "NULL",
                                    "17": "",
                                    "18": "",
                                    "19": "",
                                    "20": "",
                                    "21": "2006-01-01 00:00:00.000",
                                    "22": "2"
                                },
                                {
                                    "0": "4",
                                    "1": "3",
                                    "2": "R$ 45.250,00",
                                    "3": "105",
                                    "4": "Tarifas",
                                    "5": "101",
                                    "6": "888",
                                    "7": "AGENCIA 101",
                                    "8": "111111",
                                    "9": "R$ 5.154.750,00",
                                    "10": "INVESTIGADO 200",
                                    "11": "01/01/2006",
                                    "12": "R$ 45.250,00",
                                    "13": "NOME DO CEDENTE",
                                    "14": "0",
                                    "15": "0",
                                    "16": "NULL",
                                    "17": "",
                                    "18": "",
                                    "19": "",
                                    "20": "",
                                    "21": "2006-01-01 00:00:00.000",
                                    "22": "3"
                                },
                                {
                                    "0": "5",
                                    "1": "4",
                                    "2": "R$ 400.000,00",
                                    "3": "117",
                                    "4": "Transferência entre Contas",
                                    "5": "0122",
                                    "6": "888",
                                    "7": "AGENCIA 101",
                                    "8": "111111",
                                    "9": "R$ 5.114.750,00",
                                    "10": "INVESTIGADO 200",
                                    "11": "01/01/2006",
                                    "12": "R$ 400.000,00",
                                    "13": "MARLENE MATOS",
                                    "14": "888",
                                    "15": "101",
                                    "16": "AGENCIA 101",
                                    "17": "222221",
                                    "18": "",
                                    "19": "",
                                    "20": "",
                                    "21": "2006-01-01 00:00:00.000",
                                    "22": "4"
                                },
                                {
                                    "0": "6",
                                    "1": "11",
                                    "2": "R$ 200.000,00",
                                    "3": "201",
                                    "4": "Depósitos",
                                    "5": "2123",
                                    "6": "888",
                                    "7": "AGENCIA 103",
                                    "8": "333331",
                                    "9": "R$ 5.914.800,00",
                                    "10": "INVESTIGADO 765",
                                    "11": "01/01/2006",
                                    "12": "R$ 150.000,00",
                                    "13": "FULANO DA SILVA",
                                    "14": "888",
                                    "15": "102",
                                    "16": "AGENCIA 102",
                                    "17": "456555",
                                    "18": "",
                                    "19": "",
                                    "20": "",
                                    "21": "2006-01-01 00:00:00.000",
                                    "22": "11"
                                },
                                {
                                    "0": "7",
                                    "1": "11",
                                    "2": "R$ 200.000,00",
                                    "3": "201",
                                    "4": "Depósitos",
                                    "5": "2123",
                                    "6": "888",
                                    "7": "AGENCIA 103",
                                    "8": "333331",
                                    "9": "R$ 5.914.800,00",
                                    "10": "EMPRESA DO INVESTIGADO 200",
                                    "11": "01/01/2006",
                                    "12": "R$ 150.000,00",
                                    "13": "FULANO DA SILVA",
                                    "14": "888",
                                    "15": "102",
                                    "16": "AGENCIA 102",
                                    "17": "456555",
                                    "18": "",
                                    "19": "",
                                    "20": "",
                                    "21": "2006-01-01 00:00:00.000",
                                    "22": "11"
                                },
                                {
                                    "0": "8",
                                    "1": "11",
                                    "2": "R$ 200.000,00",
                                    "3": "201",
                                    "4": "Depósitos",
                                    "5": "2123",
                                    "6": "888",
                                    "7": "AGENCIA 103",
                                    "8": "333331",
                                    "9": "R$ 5.914.800,00",
                                    "10": "INVESTIGADO 765",
                                    "11": "01/01/2006",
                                    "12": "R$ 50.000,00",
                                    "13": "CICLANO DE SOUZA",
                                    "14": "1",
                                    "15": "2315",
                                    "16": "NULL",
                                    "17": "9799",
                                    "18": "",
                                    "19": "",
                                    "20": "",
                                    "21": "2006-01-01 00:00:00.000",
                                    "22": "11"
                                },
                                {
                                    "0": "9",
                                    "1": "11",
                                    "2": "R$ 200.000,00",
                                    "3": "201",
                                    "4": "Depósitos",
                                    "5": "2123",
                                    "6": "888",
                                    "7": "AGENCIA 103",
                                    "8": "333331",
                                    "9": "R$ 5.914.800,00",
                                    "10": "EMPRESA DO INVESTIGADO 200",
                                    "11": "01/01/2006",
                                    "12": "R$ 50.000,00",
                                    "13": "CICLANO DE SOUZA",
                                    "14": "1",
                                    "15": "2315",
                                    "16": "NULL",
                                    "17": "9799",
                                    "18": "",
                                    "19": "",
                                    "20": "",
                                    "21": "2006-01-01 00:00:00.000",
                                    "22": "11"
                                },
                                {
                                    "0": "10",
                                    "1": "12",
                                    "2": "R$ 150.000,00",
                                    "3": "201",
                                    "4": "Depósitos",
                                    "5": "212301",
                                    "6": "888",
                                    "7": "AGENCIA 103",
                                    "8": "333331",
                                    "9": "R$ 6.064.800,00",
                                    "10": "INVESTIGADO 765",
                                    "11": "03/01/2006",
                                    "12": "R$ 150.000,00",
                                    "13": "FULANO DA SILVA",
                                    "14": "888",
                                    "15": "102",
                                    "16": "AGENCIA 102",
                                    "17": "456555",
                                    "18": "",
                                    "19": "",
                                    "20": "",
                                    "21": "2006-01-03 00:00:00.000",
                                    "22": "12"
                                },
                                {
                                    "0": "11",
                                    "1": "12",
                                    "2": "R$ 150.000,00",
                                    "3": "201",
                                    "4": "Depósitos",
                                    "5": "212301",
                                    "6": "888",
                                    "7": "AGENCIA 103",
                                    "8": "333331",
                                    "9": "R$ 6.064.800,00",
                                    "10": "EMPRESA DO INVESTIGADO 200",
                                    "11": "03/01/2006",
                                    "12": "R$ 150.000,00",
                                    "13": "FULANO DA SILVA",
                                    "14": "888",
                                    "15": "102",
                                    "16": "AGENCIA 102",
                                    "17": "456555",
                                    "18": "",
                                    "19": "",
                                    "20": "",
                                    "21": "2006-01-03 00:00:00.000",
                                    "22": "12"
                                },
                                {
                                    "0": "12",
                                    "1": "13",
                                    "2": "R$ 50.000,00",
                                    "3": "201",
                                    "4": "Depósitos",
                                    "5": "212302",
                                    "6": "888",
                                    "7": "AGENCIA 103",
                                    "8": "333331",
                                    "9": "R$ 6.065.300,00",
                                    "10": "INVESTIGADO 765",
                                    "11": "03/01/2006",
                                    "12": "R$ 50.000,00",
                                    "13": "CICLANO DE SOUZA",
                                    "14": "1",
                                    "15": "2315",
                                    "16": "NULL",
                                    "17": "9799",
                                    "18": "",
                                    "19": "",
                                    "20": "",
                                    "21": "2006-01-03 00:00:00.000",
                                    "22": "13"
                                },
                                {
                                    "0": "13",
                                    "1": "13",
                                    "2": "R$ 50.000,00",
                                    "3": "201",
                                    "4": "Depósitos",
                                    "5": "212302",
                                    "6": "888",
                                    "7": "AGENCIA 103",
                                    "8": "333331",
                                    "9": "R$ 6.065.300,00",
                                    "10": "EMPRESA DO INVESTIGADO 200",
                                    "11": "03/01/2006",
                                    "12": "R$ 50.000,00",
                                    "13": "CICLANO DE SOUZA",
                                    "14": "1",
                                    "15": "2315",
                                    "16": "NULL",
                                    "17": "9799",
                                    "18": "",
                                    "19": "",
                                    "20": "",
                                    "21": "2006-01-03 00:00:00.000",
                                    "22": "13"
                                },
                                {
                                    "0": "14",
                                    "1": "14",
                                    "2": "R$ 1.300.000,00",
                                    "3": "120",
                                    "4": "Transf. Interbancária (DOC, TED) ",
                                    "5": "2022",
                                    "6": "888",
                                    "7": "AGENCIA 103",
                                    "8": "333331",
                                    "9": "R$ 4.765.300,00",
                                    "10": "INVESTIGADO 765",
                                    "11": "03/01/2006",
                                    "12": "R$ 1.300.000,00",
                                    "13": "PESSOA QUE RECEBEU O DOC",
                                    "14": "104",
                                    "15": "2122",
                                    "16": "NULL",
                                    "17": "9890980",
                                    "18": "",
                                    "19": "",
                                    "20": "",
                                    "21": "2006-01-03 00:00:00.000",
                                    "22": "14"
                                },
                                {
                                    "0": "15",
                                    "1": "14",
                                    "2": "R$ 1.300.000,00",
                                    "3": "120",
                                    "4": "Transf. Interbancária (DOC, TED) ",
                                    "5": "2022",
                                    "6": "888",
                                    "7": "AGENCIA 103",
                                    "8": "333331",
                                    "9": "R$ 4.765.300,00",
                                    "10": "EMPRESA DO INVESTIGADO 200",
                                    "11": "03/01/2006",
                                    "12": "R$ 1.300.000,00",
                                    "13": "PESSOA QUE RECEBEU O DOC",
                                    "14": "104",
                                    "15": "2122",
                                    "16": "NULL",
                                    "17": "9890980",
                                    "18": "",
                                    "19": "",
                                    "20": "",
                                    "21": "2006-01-03 00:00:00.000",
                                    "22": "14"
                                },
                                {
                                    "0": "16",
                                    "1": "15",
                                    "2": "R$ 340.000,00",
                                    "3": "209",
                                    "4": "Transferência Interbancária (DOC, TED)",
                                    "5": "2654",
                                    "6": "888",
                                    "7": "AGENCIA 103",
                                    "8": "333331",
                                    "9": "R$ 4.799.300,00",
                                    "10": "INVESTIGADO 765",
                                    "11": "04/01/2006",
                                    "12": "R$ 340.000,00",
                                    "13": "EMPRESA QUE FEZ O TED",
                                    "14": "205",
                                    "15": "5",
                                    "16": "NULL",
                                    "17": "004756",
                                    "18": "",
                                    "19": "",
                                    "20": "",
                                    "21": "2006-01-04 00:00:00.000",
                                    "22": "15"
                                },
                                {
                                    "0": "17",
                                    "1": "15",
                                    "2": "R$ 340.000,00",
                                    "3": "209",
                                    "4": "Transferência Interbancária (DOC, TED)",
                                    "5": "2654",
                                    "6": "888",
                                    "7": "AGENCIA 103",
                                    "8": "333331",
                                    "9": "R$ 4.799.300,00",
                                    "10": "EMPRESA DO INVESTIGADO 200",
                                    "11": "04/01/2006",
                                    "12": "R$ 340.000,00",
                                    "13": "EMPRESA QUE FEZ O TED",
                                    "14": "205",
                                    "15": "5",
                                    "16": "NULL",
                                    "17": "004756",
                                    "18": "",
                                    "19": "",
                                    "20": "",
                                    "21": "2006-01-04 00:00:00.000",
                                    "22": "15"
                                },
                                {
                                    "0": "18",
                                    "1": "16",
                                    "2": "R$ 200.000,00",
                                    "3": "114",
                                    "4": "Saque Eletrônico",
                                    "5": "26546",
                                    "6": "888",
                                    "7": "AGENCIA 103",
                                    "8": "333331",
                                    "9": "R$ 4.599.300,00",
                                    "10": "INVESTIGADO 765",
                                    "11": "08/01/2006",
                                    "12": "R$ 200.000,00",
                                    "13": "",
                                    "14": "0",
                                    "15": "0",
                                    "16": "NULL",
                                    "17": "",
                                    "18": "",
                                    "19": "",
                                    "20": "",
                                    "21": "2006-01-08 00:00:00.000",
                                    "22": "16"
                                },
                                {
                                    "0": "19",
                                    "1": "16",
                                    "2": "R$ 200.000,00",
                                    "3": "114",
                                    "4": "Saque Eletrônico",
                                    "5": "26546",
                                    "6": "888",
                                    "7": "AGENCIA 103",
                                    "8": "333331",
                                    "9": "R$ 4.599.300,00",
                                    "10": "EMPRESA DO INVESTIGADO 200",
                                    "11": "08/01/2006",
                                    "12": "R$ 200.000,00",
                                    "13": "",
                                    "14": "0",
                                    "15": "0",
                                    "16": "NULL",
                                    "17": "",
                                    "18": "",
                                    "19": "",
                                    "20": "",
                                    "21": "2006-01-08 00:00:00.000",
                                    "22": "16"
                                },
                                {
                                    "0": "20",
                                    "1": "17",
                                    "2": "R$ 500.000,00",
                                    "3": "114",
                                    "4": "Saque Eletrônico",
                                    "5": "241651",
                                    "6": "888",
                                    "7": "AGENCIA 103",
                                    "8": "333331",
                                    "9": "R$ 4.099.300,00",
                                    "10": "INVESTIGADO 765",
                                    "11": "09/01/2006",
                                    "12": "R$ 500.000,00",
                                    "13": "",
                                    "14": "0",
                                    "15": "0",
                                    "16": "NULL",
                                    "17": "",
                                    "18": "",
                                    "19": "",
                                    "20": "",
                                    "21": "2006-01-09 00:00:00.000",
                                    "22": "17"
                                },
                                {
                                    "0": "21",
                                    "1": "17",
                                    "2": "R$ 500.000,00",
                                    "3": "114",
                                    "4": "Saque Eletrônico",
                                    "5": "241651",
                                    "6": "888",
                                    "7": "AGENCIA 103",
                                    "8": "333331",
                                    "9": "R$ 4.099.300,00",
                                    "10": "EMPRESA DO INVESTIGADO 200",
                                    "11": "09/01/2006",
                                    "12": "R$ 500.000,00",
                                    "13": "",
                                    "14": "0",
                                    "15": "0",
                                    "16": "NULL",
                                    "17": "",
                                    "18": "",
                                    "19": "",
                                    "20": "",
                                    "21": "2006-01-09 00:00:00.000",
                                    "22": "17"
                                },
                                {
                                    "0": "22",
                                    "1": "18",
                                    "2": "R$ 205.450,00",
                                    "3": "101",
                                    "4": "Cheques",
                                    "5": "254",
                                    "6": "888",
                                    "7": "AGENCIA 103",
                                    "8": "333331",
                                    "9": "R$ 3.893.850,00",
                                    "10": "INVESTIGADO 765",
                                    "11": "09/01/2006",
                                    "12": "R$ 205.450,00",
                                    "13": "NOME PESSOA DO VERSO",
                                    "14": "0",
                                    "15": "0",
                                    "16": "NULL",
                                    "17": "",
                                    "18": "JOSE ENDOSSOU ANVERSO",
                                    "19": "RG 777",
                                    "20": "",
                                    "21": "2006-01-09 00:00:00.000",
                                    "22": "18"
                                },
                                {
                                    "0": "23",
                                    "1": "18",
                                    "2": "R$ 205.450,00",
                                    "3": "101",
                                    "4": "Cheques",
                                    "5": "254",
                                    "6": "888",
                                    "7": "AGENCIA 103",
                                    "8": "333331",
                                    "9": "R$ 3.893.850,00",
                                    "10": "EMPRESA DO INVESTIGADO 200",
                                    "11": "09/01/2006",
                                    "12": "R$ 205.450,00",
                                    "13": "NOME PESSOA DO VERSO",
                                    "14": "0",
                                    "15": "0",
                                    "16": "NULL",
                                    "17": "",
                                    "18": "JOSE ENDOSSOU ANVERSO",
                                    "19": "RG 777",
                                    "20": "",
                                    "21": "2006-01-09 00:00:00.000",
                                    "22": "18"
                                },
                                {
                                    "0": "24",
                                    "1": "5",
                                    "2": "R$ 100.050,00",
                                    "3": "209",
                                    "4": "Transferência Interbancária (DOC, TED)",
                                    "5": "4654",
                                    "6": "888",
                                    "7": "AGENCIA 101",
                                    "8": "111111",
                                    "9": "R$ 5.214.800,00",
                                    "10": "INVESTIGADO 200",
                                    "11": "01/02/2006",
                                    "12": "R$ 100.050,00",
                                    "13": "CALDOS E COMPANHIA SA",
                                    "14": "104",
                                    "15": "2344",
                                    "16": "NULL",
                                    "17": "77777",
                                    "18": "",
                                    "19": "",
                                    "20": "",
                                    "21": "2006-02-01 00:00:00.000",
                                    "22": "5"
                                },
                                {
                                    "0": "25",
                                    "1": "6",
                                    "2": "R$ 100.000,00",
                                    "3": "114",
                                    "4": "Saque Eletrônico",
                                    "5": "46546",
                                    "6": "888",
                                    "7": "AGENCIA 101",
                                    "8": "111111",
                                    "9": "R$ 5.114.800,00",
                                    "10": "INVESTIGADO 200",
                                    "11": "01/02/2006",
                                    "12": "R$ 100.000,00",
                                    "13": "",
                                    "14": "0",
                                    "15": "0",
                                    "16": "NULL",
                                    "17": "",
                                    "18": "",
                                    "19": "",
                                    "20": "",
                                    "21": "2006-02-01 00:00:00.000",
                                    "22": "6"
                                },
                                {
                                    "0": "26",
                                    "1": "19",
                                    "2": "R$ 1.000.000,00",
                                    "3": "201",
                                    "4": "Depósitos",
                                    "5": "226",
                                    "6": "888",
                                    "7": "AGENCIA 103",
                                    "8": "333331",
                                    "9": "R$ 3.893.850,00",
                                    "10": "INVESTIGADO 765",
                                    "11": "01/02/2006",
                                    "12": "R$ 450.000,00",
                                    "13": "JOAO ALMEIDA",
                                    "14": "888",
                                    "15": "102",
                                    "16": "AGENCIA 102",
                                    "17": "07303",
                                    "18": "",
                                    "19": "",
                                    "20": "",
                                    "21": "2006-02-01 00:00:00.000",
                                    "22": "19"
                                },
                                {
                                    "0": "27",
                                    "1": "19",
                                    "2": "R$ 1.000.000,00",
                                    "3": "201",
                                    "4": "Depósitos",
                                    "5": "226",
                                    "6": "888",
                                    "7": "AGENCIA 103",
                                    "8": "333331",
                                    "9": "R$ 3.893.850,00",
                                    "10": "EMPRESA DO INVESTIGADO 200",
                                    "11": "01/02/2006",
                                    "12": "R$ 450.000,00",
                                    "13": "JOAO ALMEIDA",
                                    "14": "888",
                                    "15": "102",
                                    "16": "AGENCIA 102",
                                    "17": "07303",
                                    "18": "",
                                    "19": "",
                                    "20": "",
                                    "21": "2006-02-01 00:00:00.000",
                                    "22": "19"
                                },
                                {
                                    "0": "28",
                                    "1": "19",
                                    "2": "R$ 1.000.000,00",
                                    "3": "201",
                                    "4": "Depósitos",
                                    "5": "226",
                                    "6": "888",
                                    "7": "AGENCIA 103",
                                    "8": "333331",
                                    "9": "R$ 3.893.850,00",
                                    "10": "INVESTIGADO 765",
                                    "11": "01/02/2006",
                                    "12": "R$ 550.000,00",
                                    "13": "EMPRESA DO PAPAI",
                                    "14": "604",
                                    "15": "6016",
                                    "16": "NULL",
                                    "17": "6466001",
                                    "18": "",
                                    "19": "",
                                    "20": "",
                                    "21": "2006-02-01 00:00:00.000",
                                    "22": "19"
                                },
                                {
                                    "0": "29",
                                    "1": "19",
                                    "2": "R$ 1.000.000,00",
                                    "3": "201",
                                    "4": "Depósitos",
                                    "5": "226",
                                    "6": "888",
                                    "7": "AGENCIA 103",
                                    "8": "333331",
                                    "9": "R$ 3.893.850,00",
                                    "10": "EMPRESA DO INVESTIGADO 200",
                                    "11": "01/02/2006",
                                    "12": "R$ 550.000,00",
                                    "13": "EMPRESA DO PAPAI",
                                    "14": "604",
                                    "15": "6016",
                                    "16": "NULL",
                                    "17": "6466001",
                                    "18": "",
                                    "19": "",
                                    "20": "",
                                    "21": "2006-02-01 00:00:00.000",
                                    "22": "19"
                                },
                                {
                                    "0": "30",
                                    "1": "20",
                                    "2": "R$ 3.800.000,00",
                                    "3": "0",
                                    "4": "NULL",
                                    "5": "227",
                                    "6": "888",
                                    "7": "AGENCIA 103",
                                    "8": "333331",
                                    "9": "R$ 3.893.850,00",
                                    "10": "INVESTIGADO 765",
                                    "11": "02/02/2006",
                                    "12": "R$ 3.800.000,00",
                                    "13": "",
                                    "14": "0",
                                    "15": "0",
                                    "16": "NULL",
                                    "17": "",
                                    "18": "",
                                    "19": "",
                                    "20": "",
                                    "21": "2006-02-02 00:00:00.000",
                                    "22": "20"
                                },
                                {
                                    "0": "31",
                                    "1": "20",
                                    "2": "R$ 3.800.000,00",
                                    "3": "0",
                                    "4": "NULL",
                                    "5": "227",
                                    "6": "888",
                                    "7": "AGENCIA 103",
                                    "8": "333331",
                                    "9": "R$ 3.893.850,00",
                                    "10": "EMPRESA DO INVESTIGADO 200",
                                    "11": "02/02/2006",
                                    "12": "R$ 3.800.000,00",
                                    "13": "",
                                    "14": "0",
                                    "15": "0",
                                    "16": "NULL",
                                    "17": "",
                                    "18": "",
                                    "19": "",
                                    "20": "",
                                    "21": "2006-02-02 00:00:00.000",
                                    "22": "20"
                                },
                                {
                                    "0": "32",
                                    "1": "21",
                                    "2": "R$ 450.000,00",
                                    "3": "201",
                                    "4": "Depósitos",
                                    "5": "4500",
                                    "6": "888",
                                    "7": "AGENCIA 103",
                                    "8": "333331",
                                    "9": "R$ 4.343.850,00",
                                    "10": "INVESTIGADO 765",
                                    "11": "07/02/2006",
                                    "12": "R$ 450.000,00",
                                    "13": "JOAO ALMEIDA",
                                    "14": "888",
                                    "15": "102",
                                    "16": "AGENCIA 102",
                                    "17": "07303",
                                    "18": "",
                                    "19": "",
                                    "20": "",
                                    "21": "2006-02-07 00:00:00.000",
                                    "22": "21"
                                },
                                {
                                    "0": "33",
                                    "1": "21",
                                    "2": "R$ 450.000,00",
                                    "3": "201",
                                    "4": "Depósitos",
                                    "5": "4500",
                                    "6": "888",
                                    "7": "AGENCIA 103",
                                    "8": "333331",
                                    "9": "R$ 4.343.850,00",
                                    "10": "EMPRESA DO INVESTIGADO 200",
                                    "11": "07/02/2006",
                                    "12": "R$ 450.000,00",
                                    "13": "JOAO ALMEIDA",
                                    "14": "888",
                                    "15": "102",
                                    "16": "AGENCIA 102",
                                    "17": "07303",
                                    "18": "",
                                    "19": "",
                                    "20": "",
                                    "21": "2006-02-07 00:00:00.000",
                                    "22": "21"
                                },
                                {
                                    "0": "34",
                                    "1": "22",
                                    "2": "R$ 550.000,00",
                                    "3": "201",
                                    "4": "Depósitos",
                                    "5": "4501",
                                    "6": "888",
                                    "7": "AGENCIA 103",
                                    "8": "333331",
                                    "9": "R$ 4.893.850,00",
                                    "10": "INVESTIGADO 765",
                                    "11": "07/02/2006",
                                    "12": "R$ 550.000,00",
                                    "13": "EMPRESA DO PAPAI",
                                    "14": "604",
                                    "15": "6016",
                                    "16": "NULL",
                                    "17": "6466001",
                                    "18": "",
                                    "19": "",
                                    "20": "",
                                    "21": "2006-02-07 00:00:00.000",
                                    "22": "22"
                                },
                                {
                                    "0": "35",
                                    "1": "22",
                                    "2": "R$ 550.000,00",
                                    "3": "201",
                                    "4": "Depósitos",
                                    "5": "4501",
                                    "6": "888",
                                    "7": "AGENCIA 103",
                                    "8": "333331",
                                    "9": "R$ 4.893.850,00",
                                    "10": "EMPRESA DO INVESTIGADO 200",
                                    "11": "07/02/2006",
                                    "12": "R$ 550.000,00",
                                    "13": "EMPRESA DO PAPAI",
                                    "14": "604",
                                    "15": "6016",
                                    "16": "NULL",
                                    "17": "6466001",
                                    "18": "",
                                    "19": "",
                                    "20": "",
                                    "21": "2006-02-07 00:00:00.000",
                                    "22": "22"
                                },
                                {
                                    "0": "36",
                                    "1": "23",
                                    "2": "R$ 550.000,00",
                                    "3": "103",
                                    "4": "Estornos",
                                    "5": "4502",
                                    "6": "888",
                                    "7": "AGENCIA 103",
                                    "8": "333331",
                                    "9": "R$ 4.343.850,00",
                                    "10": "INVESTIGADO 765",
                                    "11": "07/02/2006",
                                    "12": "R$ 550.000,00",
                                    "13": "EMPRESA DO PAPAI",
                                    "14": "604",
                                    "15": "6016",
                                    "16": "NULL",
                                    "17": "6466001",
                                    "18": "",
                                    "19": "",
                                    "20": "",
                                    "21": "2006-02-07 00:00:00.000",
                                    "22": "23"
                                },
                                {
                                    "0": "37",
                                    "1": "23",
                                    "2": "R$ 550.000,00",
                                    "3": "103",
                                    "4": "Estornos",
                                    "5": "4502",
                                    "6": "888",
                                    "7": "AGENCIA 103",
                                    "8": "333331",
                                    "9": "R$ 4.343.850,00",
                                    "10": "EMPRESA DO INVESTIGADO 200",
                                    "11": "07/02/2006",
                                    "12": "R$ 550.000,00",
                                    "13": "EMPRESA DO PAPAI",
                                    "14": "604",
                                    "15": "6016",
                                    "16": "NULL",
                                    "17": "6466001",
                                    "18": "",
                                    "19": "",
                                    "20": "",
                                    "21": "2006-02-07 00:00:00.000",
                                    "22": "23"
                                },
                                {
                                    "0": "38",
                                    "1": "24",
                                    "2": "R$ 40.000,00",
                                    "3": "213",
                                    "4": "Transferência entre Contas",
                                    "5": "10333",
                                    "6": "888",
                                    "7": "AGENCIA 103",
                                    "8": "333331",
                                    "9": "R$ 4.383.850,00",
                                    "10": "INVESTIGADO 765",
                                    "11": "08/02/2006",
                                    "12": "R$ 40.000,00",
                                    "13": "INVESTIGADO",
                                    "14": "888",
                                    "15": "101",
                                    "16": "AGENCIA 101",
                                    "17": "111111",
                                    "18": "",
                                    "19": "",
                                    "20": "",
                                    "21": "2006-02-08 00:00:00.000",
                                    "22": "24"
                                },
                                {
                                    "0": "39",
                                    "1": "24",
                                    "2": "R$ 40.000,00",
                                    "3": "213",
                                    "4": "Transferência entre Contas",
                                    "5": "10333",
                                    "6": "888",
                                    "7": "AGENCIA 103",
                                    "8": "333331",
                                    "9": "R$ 4.383.850,00",
                                    "10": "EMPRESA DO INVESTIGADO 200",
                                    "11": "08/02/2006",
                                    "12": "R$ 40.000,00",
                                    "13": "INVESTIGADO",
                                    "14": "888",
                                    "15": "101",
                                    "16": "AGENCIA 101",
                                    "17": "111111",
                                    "18": "",
                                    "19": "",
                                    "20": "",
                                    "21": "2006-02-08 00:00:00.000",
                                    "22": "24"
                                },
                                {
                                    "0": "40",
                                    "1": "7",
                                    "2": "R$ 100.000,00",
                                    "3": "101",
                                    "4": "Cheques",
                                    "5": "041651",
                                    "6": "888",
                                    "7": "AGENCIA 101",
                                    "8": "111111",
                                    "9": "R$ 5.014.800,00",
                                    "10": "INVESTIGADO 200",
                                    "11": "01/03/2006",
                                    "12": "R$ 100.000,00",
                                    "13": "RECEBEDOR DO CHEQUE FINAL",
                                    "14": "0",
                                    "15": "0",
                                    "16": "NULL",
                                    "17": "",
                                    "18": "",
                                    "19": "",
                                    "20": "",
                                    "21": "2006-03-01 00:00:00.000",
                                    "22": "7"
                                },
                                {
                                    "0": "41",
                                    "1": "8",
                                    "2": "R$ 100.000,00",
                                    "3": "101",
                                    "4": "Cheques",
                                    "5": "254",
                                    "6": "888",
                                    "7": "AGENCIA 101",
                                    "8": "111111",
                                    "9": "R$ 4.914.800,00",
                                    "10": "INVESTIGADO 200",
                                    "11": "01/04/2006",
                                    "12": "R$ 100.000,00",
                                    "13": "PESSOA BENEFICIARIA DO CHEQUE FINAL",
                                    "14": "0",
                                    "15": "0",
                                    "16": "NULL",
                                    "17": "",
                                    "18": "NOME DO ENDOSSANTE",
                                    "19": "RG 12334 SSP/DF",
                                    "20": "SAQUE EM ESPECIE",
                                    "21": "2006-04-01 00:00:00.000",
                                    "22": "8"
                                },
                                {
                                    "0": "42",
                                    "1": "9",
                                    "2": "R$ 900.000,00",
                                    "3": "201",
                                    "4": "Depósitos",
                                    "5": "126",
                                    "6": "888",
                                    "7": "AGENCIA 101",
                                    "8": "111111",
                                    "9": "R$ 5.814.800,00",
                                    "10": "INVESTIGADO 200",
                                    "11": "01/05/2006",
                                    "12": "R$ 900.000,00",
                                    "13": "PJ MATERIAIS DE CONSTRUÇÃO",
                                    "14": "888",
                                    "15": "103",
                                    "16": "AGENCIA 103",
                                    "17": "333331",
                                    "18": "",
                                    "19": "",
                                    "20": "",
                                    "21": "2006-05-01 00:00:00.000",
                                    "22": "9"
                                },
                                {
                                    "0": "43",
                                    "1": "10",
                                    "2": "R$ 100.000,00",
                                    "3": "201",
                                    "4": "Depósitos",
                                    "5": "127",
                                    "6": "888",
                                    "7": "AGENCIA 101",
                                    "8": "111111",
                                    "9": "R$ 5.914.800,00",
                                    "10": "INVESTIGADO 200",
                                    "11": "01/05/2006",
                                    "12": "R$ 100.000,00",
                                    "13": "MARIA DA SILVA",
                                    "14": "104",
                                    "15": "2311",
                                    "16": "NULL",
                                    "17": "001004445",
                                    "18": "",
                                    "19": "",
                                    "20": "",
                                    "21": "2006-05-01 00:00:00.000",
                                    "22": "10"
                                }
                            ]
                        },
                        "text/html": "<table><tr><th>SEQUENCE</th><th>ID_LANCAMENTO</th><th>VALOR_LANÇAMENTO</th><th>TIPO_LANCAMENTO_N</th><th>TIPO_DE_LANÇAMENTO</th><th>N_DOCUMENTO</th><th>BANCO_EXTRATO</th><th>AGÊNCIA_EXTRATO</th><th>CONTA_EXTRATO</th><th>SALDO</th><th>NOME EXTRATO</th><th>DATA_DE_LANÇAMENTO</th><th>VALOR_TRANSAÇÃO</th><th>NOME_OD</th><th>BANCO_OD</th><th>AGÊNCIA_OD</th><th>NOME_AGENCIA_OD</th><th>CONTA_OD</th><th>NOME_ENDOSSSANTE_CHEQUE</th><th>DOC_ENDOSSANTE_CHEQUE</th><th>OBSERVACAO</th><th>DATA_LANCAMENTO</th><th>CODIGO_CHAVE_EXTRATO</th></tr><tr><td>1</td><td>1</td><td>R$ 100.000,00</td><td>219</td><td>Pagamentos Salariais</td><td>123</td><td>888</td><td>AGENCIA 101</td><td>111111</td><td>R$ 5.100.000,00</td><td>INVESTIGADO 200</td><td>01/01/2006</td><td>R$ 100.000,00</td><td>EMPRESA</td><td>1</td><td>101</td><td>NULL</td><td>4455</td><td></td><td></td><td>DINHEIRO</td><td>2006-01-01 00:00:00.000</td><td>1</td></tr><tr><td>2</td><td>2</td><td>R$ 100.000,00</td><td>201</td><td>Depósitos</td><td>124</td><td>888</td><td>AGENCIA 101</td><td>111111</td><td>R$ 5.200.000,00</td><td>INVESTIGADO 200</td><td>01/01/2006</td><td>R$ 50.000,00</td><td>ENVOLVIDO 4</td><td>0</td><td>0</td><td>NULL</td><td></td><td></td><td></td><td></td><td>2006-01-01 00:00:00.000</td><td>2</td></tr><tr><td>3</td><td>2</td><td>R$ 100.000,00</td><td>201</td><td>Depósitos</td><td>124</td><td>888</td><td>AGENCIA 101</td><td>111111</td><td>R$ 5.200.000,00</td><td>INVESTIGADO 200</td><td>01/01/2006</td><td>R$ 50.000,00</td><td>ENVOLVIDO 4</td><td>0</td><td>0</td><td>NULL</td><td></td><td></td><td></td><td></td><td>2006-01-01 00:00:00.000</td><td>2</td></tr><tr><td>4</td><td>3</td><td>R$ 45.250,00</td><td>105</td><td>Tarifas</td><td>101</td><td>888</td><td>AGENCIA 101</td><td>111111</td><td>R$ 5.154.750,00</td><td>INVESTIGADO 200</td><td>01/01/2006</td><td>R$ 45.250,00</td><td>NOME DO CEDENTE</td><td>0</td><td>0</td><td>NULL</td><td></td><td></td><td></td><td></td><td>2006-01-01 00:00:00.000</td><td>3</td></tr><tr><td>5</td><td>4</td><td>R$ 400.000,00</td><td>117</td><td>Transferência entre Contas</td><td>0122</td><td>888</td><td>AGENCIA 101</td><td>111111</td><td>R$ 5.114.750,00</td><td>INVESTIGADO 200</td><td>01/01/2006</td><td>R$ 400.000,00</td><td>MARLENE MATOS</td><td>888</td><td>101</td><td>AGENCIA 101</td><td>222221</td><td></td><td></td><td></td><td>2006-01-01 00:00:00.000</td><td>4</td></tr><tr><td>6</td><td>11</td><td>R$ 200.000,00</td><td>201</td><td>Depósitos</td><td>2123</td><td>888</td><td>AGENCIA 103</td><td>333331</td><td>R$ 5.914.800,00</td><td>INVESTIGADO 765</td><td>01/01/2006</td><td>R$ 150.000,00</td><td>FULANO DA SILVA</td><td>888</td><td>102</td><td>AGENCIA 102</td><td>456555</td><td></td><td></td><td></td><td>2006-01-01 00:00:00.000</td><td>11</td></tr><tr><td>7</td><td>11</td><td>R$ 200.000,00</td><td>201</td><td>Depósitos</td><td>2123</td><td>888</td><td>AGENCIA 103</td><td>333331</td><td>R$ 5.914.800,00</td><td>EMPRESA DO INVESTIGADO 200</td><td>01/01/2006</td><td>R$ 150.000,00</td><td>FULANO DA SILVA</td><td>888</td><td>102</td><td>AGENCIA 102</td><td>456555</td><td></td><td></td><td></td><td>2006-01-01 00:00:00.000</td><td>11</td></tr><tr><td>8</td><td>11</td><td>R$ 200.000,00</td><td>201</td><td>Depósitos</td><td>2123</td><td>888</td><td>AGENCIA 103</td><td>333331</td><td>R$ 5.914.800,00</td><td>INVESTIGADO 765</td><td>01/01/2006</td><td>R$ 50.000,00</td><td>CICLANO DE SOUZA</td><td>1</td><td>2315</td><td>NULL</td><td>9799</td><td></td><td></td><td></td><td>2006-01-01 00:00:00.000</td><td>11</td></tr><tr><td>9</td><td>11</td><td>R$ 200.000,00</td><td>201</td><td>Depósitos</td><td>2123</td><td>888</td><td>AGENCIA 103</td><td>333331</td><td>R$ 5.914.800,00</td><td>EMPRESA DO INVESTIGADO 200</td><td>01/01/2006</td><td>R$ 50.000,00</td><td>CICLANO DE SOUZA</td><td>1</td><td>2315</td><td>NULL</td><td>9799</td><td></td><td></td><td></td><td>2006-01-01 00:00:00.000</td><td>11</td></tr><tr><td>10</td><td>12</td><td>R$ 150.000,00</td><td>201</td><td>Depósitos</td><td>212301</td><td>888</td><td>AGENCIA 103</td><td>333331</td><td>R$ 6.064.800,00</td><td>INVESTIGADO 765</td><td>03/01/2006</td><td>R$ 150.000,00</td><td>FULANO DA SILVA</td><td>888</td><td>102</td><td>AGENCIA 102</td><td>456555</td><td></td><td></td><td></td><td>2006-01-03 00:00:00.000</td><td>12</td></tr><tr><td>11</td><td>12</td><td>R$ 150.000,00</td><td>201</td><td>Depósitos</td><td>212301</td><td>888</td><td>AGENCIA 103</td><td>333331</td><td>R$ 6.064.800,00</td><td>EMPRESA DO INVESTIGADO 200</td><td>03/01/2006</td><td>R$ 150.000,00</td><td>FULANO DA SILVA</td><td>888</td><td>102</td><td>AGENCIA 102</td><td>456555</td><td></td><td></td><td></td><td>2006-01-03 00:00:00.000</td><td>12</td></tr><tr><td>12</td><td>13</td><td>R$ 50.000,00</td><td>201</td><td>Depósitos</td><td>212302</td><td>888</td><td>AGENCIA 103</td><td>333331</td><td>R$ 6.065.300,00</td><td>INVESTIGADO 765</td><td>03/01/2006</td><td>R$ 50.000,00</td><td>CICLANO DE SOUZA</td><td>1</td><td>2315</td><td>NULL</td><td>9799</td><td></td><td></td><td></td><td>2006-01-03 00:00:00.000</td><td>13</td></tr><tr><td>13</td><td>13</td><td>R$ 50.000,00</td><td>201</td><td>Depósitos</td><td>212302</td><td>888</td><td>AGENCIA 103</td><td>333331</td><td>R$ 6.065.300,00</td><td>EMPRESA DO INVESTIGADO 200</td><td>03/01/2006</td><td>R$ 50.000,00</td><td>CICLANO DE SOUZA</td><td>1</td><td>2315</td><td>NULL</td><td>9799</td><td></td><td></td><td></td><td>2006-01-03 00:00:00.000</td><td>13</td></tr><tr><td>14</td><td>14</td><td>R$ 1.300.000,00</td><td>120</td><td>Transf. Interbancária (DOC, TED) </td><td>2022</td><td>888</td><td>AGENCIA 103</td><td>333331</td><td>R$ 4.765.300,00</td><td>INVESTIGADO 765</td><td>03/01/2006</td><td>R$ 1.300.000,00</td><td>PESSOA QUE RECEBEU O DOC</td><td>104</td><td>2122</td><td>NULL</td><td>9890980</td><td></td><td></td><td></td><td>2006-01-03 00:00:00.000</td><td>14</td></tr><tr><td>15</td><td>14</td><td>R$ 1.300.000,00</td><td>120</td><td>Transf. Interbancária (DOC, TED) </td><td>2022</td><td>888</td><td>AGENCIA 103</td><td>333331</td><td>R$ 4.765.300,00</td><td>EMPRESA DO INVESTIGADO 200</td><td>03/01/2006</td><td>R$ 1.300.000,00</td><td>PESSOA QUE RECEBEU O DOC</td><td>104</td><td>2122</td><td>NULL</td><td>9890980</td><td></td><td></td><td></td><td>2006-01-03 00:00:00.000</td><td>14</td></tr><tr><td>16</td><td>15</td><td>R$ 340.000,00</td><td>209</td><td>Transferência Interbancária (DOC, TED)</td><td>2654</td><td>888</td><td>AGENCIA 103</td><td>333331</td><td>R$ 4.799.300,00</td><td>INVESTIGADO 765</td><td>04/01/2006</td><td>R$ 340.000,00</td><td>EMPRESA QUE FEZ O TED</td><td>205</td><td>5</td><td>NULL</td><td>004756</td><td></td><td></td><td></td><td>2006-01-04 00:00:00.000</td><td>15</td></tr><tr><td>17</td><td>15</td><td>R$ 340.000,00</td><td>209</td><td>Transferência Interbancária (DOC, TED)</td><td>2654</td><td>888</td><td>AGENCIA 103</td><td>333331</td><td>R$ 4.799.300,00</td><td>EMPRESA DO INVESTIGADO 200</td><td>04/01/2006</td><td>R$ 340.000,00</td><td>EMPRESA QUE FEZ O TED</td><td>205</td><td>5</td><td>NULL</td><td>004756</td><td></td><td></td><td></td><td>2006-01-04 00:00:00.000</td><td>15</td></tr><tr><td>18</td><td>16</td><td>R$ 200.000,00</td><td>114</td><td>Saque Eletrônico</td><td>26546</td><td>888</td><td>AGENCIA 103</td><td>333331</td><td>R$ 4.599.300,00</td><td>INVESTIGADO 765</td><td>08/01/2006</td><td>R$ 200.000,00</td><td></td><td>0</td><td>0</td><td>NULL</td><td></td><td></td><td></td><td></td><td>2006-01-08 00:00:00.000</td><td>16</td></tr><tr><td>19</td><td>16</td><td>R$ 200.000,00</td><td>114</td><td>Saque Eletrônico</td><td>26546</td><td>888</td><td>AGENCIA 103</td><td>333331</td><td>R$ 4.599.300,00</td><td>EMPRESA DO INVESTIGADO 200</td><td>08/01/2006</td><td>R$ 200.000,00</td><td></td><td>0</td><td>0</td><td>NULL</td><td></td><td></td><td></td><td></td><td>2006-01-08 00:00:00.000</td><td>16</td></tr><tr><td>20</td><td>17</td><td>R$ 500.000,00</td><td>114</td><td>Saque Eletrônico</td><td>241651</td><td>888</td><td>AGENCIA 103</td><td>333331</td><td>R$ 4.099.300,00</td><td>INVESTIGADO 765</td><td>09/01/2006</td><td>R$ 500.000,00</td><td></td><td>0</td><td>0</td><td>NULL</td><td></td><td></td><td></td><td></td><td>2006-01-09 00:00:00.000</td><td>17</td></tr><tr><td>21</td><td>17</td><td>R$ 500.000,00</td><td>114</td><td>Saque Eletrônico</td><td>241651</td><td>888</td><td>AGENCIA 103</td><td>333331</td><td>R$ 4.099.300,00</td><td>EMPRESA DO INVESTIGADO 200</td><td>09/01/2006</td><td>R$ 500.000,00</td><td></td><td>0</td><td>0</td><td>NULL</td><td></td><td></td><td></td><td></td><td>2006-01-09 00:00:00.000</td><td>17</td></tr><tr><td>22</td><td>18</td><td>R$ 205.450,00</td><td>101</td><td>Cheques</td><td>254</td><td>888</td><td>AGENCIA 103</td><td>333331</td><td>R$ 3.893.850,00</td><td>INVESTIGADO 765</td><td>09/01/2006</td><td>R$ 205.450,00</td><td>NOME PESSOA DO VERSO</td><td>0</td><td>0</td><td>NULL</td><td></td><td>JOSE ENDOSSOU ANVERSO</td><td>RG 777</td><td></td><td>2006-01-09 00:00:00.000</td><td>18</td></tr><tr><td>23</td><td>18</td><td>R$ 205.450,00</td><td>101</td><td>Cheques</td><td>254</td><td>888</td><td>AGENCIA 103</td><td>333331</td><td>R$ 3.893.850,00</td><td>EMPRESA DO INVESTIGADO 200</td><td>09/01/2006</td><td>R$ 205.450,00</td><td>NOME PESSOA DO VERSO</td><td>0</td><td>0</td><td>NULL</td><td></td><td>JOSE ENDOSSOU ANVERSO</td><td>RG 777</td><td></td><td>2006-01-09 00:00:00.000</td><td>18</td></tr><tr><td>24</td><td>5</td><td>R$ 100.050,00</td><td>209</td><td>Transferência Interbancária (DOC, TED)</td><td>4654</td><td>888</td><td>AGENCIA 101</td><td>111111</td><td>R$ 5.214.800,00</td><td>INVESTIGADO 200</td><td>01/02/2006</td><td>R$ 100.050,00</td><td>CALDOS E COMPANHIA SA</td><td>104</td><td>2344</td><td>NULL</td><td>77777</td><td></td><td></td><td></td><td>2006-02-01 00:00:00.000</td><td>5</td></tr><tr><td>25</td><td>6</td><td>R$ 100.000,00</td><td>114</td><td>Saque Eletrônico</td><td>46546</td><td>888</td><td>AGENCIA 101</td><td>111111</td><td>R$ 5.114.800,00</td><td>INVESTIGADO 200</td><td>01/02/2006</td><td>R$ 100.000,00</td><td></td><td>0</td><td>0</td><td>NULL</td><td></td><td></td><td></td><td></td><td>2006-02-01 00:00:00.000</td><td>6</td></tr><tr><td>26</td><td>19</td><td>R$ 1.000.000,00</td><td>201</td><td>Depósitos</td><td>226</td><td>888</td><td>AGENCIA 103</td><td>333331</td><td>R$ 3.893.850,00</td><td>INVESTIGADO 765</td><td>01/02/2006</td><td>R$ 450.000,00</td><td>JOAO ALMEIDA</td><td>888</td><td>102</td><td>AGENCIA 102</td><td>07303</td><td></td><td></td><td></td><td>2006-02-01 00:00:00.000</td><td>19</td></tr><tr><td>27</td><td>19</td><td>R$ 1.000.000,00</td><td>201</td><td>Depósitos</td><td>226</td><td>888</td><td>AGENCIA 103</td><td>333331</td><td>R$ 3.893.850,00</td><td>EMPRESA DO INVESTIGADO 200</td><td>01/02/2006</td><td>R$ 450.000,00</td><td>JOAO ALMEIDA</td><td>888</td><td>102</td><td>AGENCIA 102</td><td>07303</td><td></td><td></td><td></td><td>2006-02-01 00:00:00.000</td><td>19</td></tr><tr><td>28</td><td>19</td><td>R$ 1.000.000,00</td><td>201</td><td>Depósitos</td><td>226</td><td>888</td><td>AGENCIA 103</td><td>333331</td><td>R$ 3.893.850,00</td><td>INVESTIGADO 765</td><td>01/02/2006</td><td>R$ 550.000,00</td><td>EMPRESA DO PAPAI</td><td>604</td><td>6016</td><td>NULL</td><td>6466001</td><td></td><td></td><td></td><td>2006-02-01 00:00:00.000</td><td>19</td></tr><tr><td>29</td><td>19</td><td>R$ 1.000.000,00</td><td>201</td><td>Depósitos</td><td>226</td><td>888</td><td>AGENCIA 103</td><td>333331</td><td>R$ 3.893.850,00</td><td>EMPRESA DO INVESTIGADO 200</td><td>01/02/2006</td><td>R$ 550.000,00</td><td>EMPRESA DO PAPAI</td><td>604</td><td>6016</td><td>NULL</td><td>6466001</td><td></td><td></td><td></td><td>2006-02-01 00:00:00.000</td><td>19</td></tr><tr><td>30</td><td>20</td><td>R$ 3.800.000,00</td><td>0</td><td>NULL</td><td>227</td><td>888</td><td>AGENCIA 103</td><td>333331</td><td>R$ 3.893.850,00</td><td>INVESTIGADO 765</td><td>02/02/2006</td><td>R$ 3.800.000,00</td><td></td><td>0</td><td>0</td><td>NULL</td><td></td><td></td><td></td><td></td><td>2006-02-02 00:00:00.000</td><td>20</td></tr><tr><td>31</td><td>20</td><td>R$ 3.800.000,00</td><td>0</td><td>NULL</td><td>227</td><td>888</td><td>AGENCIA 103</td><td>333331</td><td>R$ 3.893.850,00</td><td>EMPRESA DO INVESTIGADO 200</td><td>02/02/2006</td><td>R$ 3.800.000,00</td><td></td><td>0</td><td>0</td><td>NULL</td><td></td><td></td><td></td><td></td><td>2006-02-02 00:00:00.000</td><td>20</td></tr><tr><td>32</td><td>21</td><td>R$ 450.000,00</td><td>201</td><td>Depósitos</td><td>4500</td><td>888</td><td>AGENCIA 103</td><td>333331</td><td>R$ 4.343.850,00</td><td>INVESTIGADO 765</td><td>07/02/2006</td><td>R$ 450.000,00</td><td>JOAO ALMEIDA</td><td>888</td><td>102</td><td>AGENCIA 102</td><td>07303</td><td></td><td></td><td></td><td>2006-02-07 00:00:00.000</td><td>21</td></tr><tr><td>33</td><td>21</td><td>R$ 450.000,00</td><td>201</td><td>Depósitos</td><td>4500</td><td>888</td><td>AGENCIA 103</td><td>333331</td><td>R$ 4.343.850,00</td><td>EMPRESA DO INVESTIGADO 200</td><td>07/02/2006</td><td>R$ 450.000,00</td><td>JOAO ALMEIDA</td><td>888</td><td>102</td><td>AGENCIA 102</td><td>07303</td><td></td><td></td><td></td><td>2006-02-07 00:00:00.000</td><td>21</td></tr><tr><td>34</td><td>22</td><td>R$ 550.000,00</td><td>201</td><td>Depósitos</td><td>4501</td><td>888</td><td>AGENCIA 103</td><td>333331</td><td>R$ 4.893.850,00</td><td>INVESTIGADO 765</td><td>07/02/2006</td><td>R$ 550.000,00</td><td>EMPRESA DO PAPAI</td><td>604</td><td>6016</td><td>NULL</td><td>6466001</td><td></td><td></td><td></td><td>2006-02-07 00:00:00.000</td><td>22</td></tr><tr><td>35</td><td>22</td><td>R$ 550.000,00</td><td>201</td><td>Depósitos</td><td>4501</td><td>888</td><td>AGENCIA 103</td><td>333331</td><td>R$ 4.893.850,00</td><td>EMPRESA DO INVESTIGADO 200</td><td>07/02/2006</td><td>R$ 550.000,00</td><td>EMPRESA DO PAPAI</td><td>604</td><td>6016</td><td>NULL</td><td>6466001</td><td></td><td></td><td></td><td>2006-02-07 00:00:00.000</td><td>22</td></tr><tr><td>36</td><td>23</td><td>R$ 550.000,00</td><td>103</td><td>Estornos</td><td>4502</td><td>888</td><td>AGENCIA 103</td><td>333331</td><td>R$ 4.343.850,00</td><td>INVESTIGADO 765</td><td>07/02/2006</td><td>R$ 550.000,00</td><td>EMPRESA DO PAPAI</td><td>604</td><td>6016</td><td>NULL</td><td>6466001</td><td></td><td></td><td></td><td>2006-02-07 00:00:00.000</td><td>23</td></tr><tr><td>37</td><td>23</td><td>R$ 550.000,00</td><td>103</td><td>Estornos</td><td>4502</td><td>888</td><td>AGENCIA 103</td><td>333331</td><td>R$ 4.343.850,00</td><td>EMPRESA DO INVESTIGADO 200</td><td>07/02/2006</td><td>R$ 550.000,00</td><td>EMPRESA DO PAPAI</td><td>604</td><td>6016</td><td>NULL</td><td>6466001</td><td></td><td></td><td></td><td>2006-02-07 00:00:00.000</td><td>23</td></tr><tr><td>38</td><td>24</td><td>R$ 40.000,00</td><td>213</td><td>Transferência entre Contas</td><td>10333</td><td>888</td><td>AGENCIA 103</td><td>333331</td><td>R$ 4.383.850,00</td><td>INVESTIGADO 765</td><td>08/02/2006</td><td>R$ 40.000,00</td><td>INVESTIGADO</td><td>888</td><td>101</td><td>AGENCIA 101</td><td>111111</td><td></td><td></td><td></td><td>2006-02-08 00:00:00.000</td><td>24</td></tr><tr><td>39</td><td>24</td><td>R$ 40.000,00</td><td>213</td><td>Transferência entre Contas</td><td>10333</td><td>888</td><td>AGENCIA 103</td><td>333331</td><td>R$ 4.383.850,00</td><td>EMPRESA DO INVESTIGADO 200</td><td>08/02/2006</td><td>R$ 40.000,00</td><td>INVESTIGADO</td><td>888</td><td>101</td><td>AGENCIA 101</td><td>111111</td><td></td><td></td><td></td><td>2006-02-08 00:00:00.000</td><td>24</td></tr><tr><td>40</td><td>7</td><td>R$ 100.000,00</td><td>101</td><td>Cheques</td><td>041651</td><td>888</td><td>AGENCIA 101</td><td>111111</td><td>R$ 5.014.800,00</td><td>INVESTIGADO 200</td><td>01/03/2006</td><td>R$ 100.000,00</td><td>RECEBEDOR DO CHEQUE FINAL</td><td>0</td><td>0</td><td>NULL</td><td></td><td></td><td></td><td></td><td>2006-03-01 00:00:00.000</td><td>7</td></tr><tr><td>41</td><td>8</td><td>R$ 100.000,00</td><td>101</td><td>Cheques</td><td>254</td><td>888</td><td>AGENCIA 101</td><td>111111</td><td>R$ 4.914.800,00</td><td>INVESTIGADO 200</td><td>01/04/2006</td><td>R$ 100.000,00</td><td>PESSOA BENEFICIARIA DO CHEQUE FINAL</td><td>0</td><td>0</td><td>NULL</td><td></td><td>NOME DO ENDOSSANTE</td><td>RG 12334 SSP/DF</td><td>SAQUE EM ESPECIE</td><td>2006-04-01 00:00:00.000</td><td>8</td></tr><tr><td>42</td><td>9</td><td>R$ 900.000,00</td><td>201</td><td>Depósitos</td><td>126</td><td>888</td><td>AGENCIA 101</td><td>111111</td><td>R$ 5.814.800,00</td><td>INVESTIGADO 200</td><td>01/05/2006</td><td>R$ 900.000,00</td><td>PJ MATERIAIS DE CONSTRUÇÃO</td><td>888</td><td>103</td><td>AGENCIA 103</td><td>333331</td><td></td><td></td><td></td><td>2006-05-01 00:00:00.000</td><td>9</td></tr><tr><td>43</td><td>10</td><td>R$ 100.000,00</td><td>201</td><td>Depósitos</td><td>127</td><td>888</td><td>AGENCIA 101</td><td>111111</td><td>R$ 5.914.800,00</td><td>INVESTIGADO 200</td><td>01/05/2006</td><td>R$ 100.000,00</td><td>MARIA DA SILVA</td><td>104</td><td>2311</td><td>NULL</td><td>001004445</td><td></td><td></td><td></td><td>2006-05-01 00:00:00.000</td><td>10</td></tr></table>"
                    },
                    "metadata": {}
                }
            ],
            "execution_count": 10
        },
        {
            "cell_type": "code",
            "source": [
                "SELECT e.NUMERO_AGENCIA AS 'AGENCIA_A', \r\n",
                "e.NUMERO_CONTA AS 'CONTA_A',\r\n",
                "o.NUMERO_BANCO_OD AS 'BANCO_B', \r\n",
                "o.NUMERO_CONTA_OD 'CONTA_B', \r\n",
                "e.TIPO_LANCAMENTO,\r\n",
                "o.VALOR_TRANSACAO,\r\n",
                "t.DESCRICAO,\n",
                "o.CODIGO_CHAVE_OD,\r\n",
                "CONVERT(VARCHAR, e.DATA_LANCAMENTO, 103) AS 'DATA_LANCAMENTO'\r\n",
                "FROM ORIGEM_DESTINO o\r\n",
                "INNER JOIN EXTRATO e ON e.CODIGO_CHAVE_EXTRATO = o.CODIGO_CHAVE_EXTRATO\r\n",
                "INNER JOIN TIPO_LANCAMENTO t ON e.TIPO_LANCAMENTO = t.CODIGO\r\n",
                "ORDER BY DATA_LANCAMENTO\n",
                "\r\n",
                ""
            ],
            "metadata": {
                "azdata_cell_guid": "dab4a08a-e58b-461d-881c-33a9a032ae85"
            },
            "outputs": [
                {
                    "output_type": "display_data",
                    "data": {
                        "text/html": "(26 rows affected)"
                    },
                    "metadata": {}
                },
                {
                    "output_type": "display_data",
                    "data": {
                        "text/html": "Total execution time: 00:00:00.126"
                    },
                    "metadata": {}
                },
                {
                    "output_type": "execute_result",
                    "execution_count": 32,
                    "data": {
                        "application/vnd.dataresource+json": {
                            "schema": {
                                "fields": [
                                    {
                                        "name": "AGENCIA_A"
                                    },
                                    {
                                        "name": "CONTA_A"
                                    },
                                    {
                                        "name": "BANCO_B"
                                    },
                                    {
                                        "name": "CONTA_B"
                                    },
                                    {
                                        "name": "TIPO_LANCAMENTO"
                                    },
                                    {
                                        "name": "VALOR_TRANSACAO"
                                    },
                                    {
                                        "name": "DESCRICAO"
                                    },
                                    {
                                        "name": "CODIGO_CHAVE_OD"
                                    },
                                    {
                                        "name": "DATA_LANCAMENTO"
                                    }
                                ]
                            },
                            "data": [
                                {
                                    "0": "101",
                                    "1": "111111",
                                    "2": "1",
                                    "3": "4455",
                                    "4": "219",
                                    "5": "100000",
                                    "6": "Pagamentos Salariais",
                                    "7": "1001",
                                    "8": "01/01/2006"
                                },
                                {
                                    "0": "101",
                                    "1": "111111",
                                    "2": "0",
                                    "3": "",
                                    "4": "201",
                                    "5": "50000",
                                    "6": "Depósitos",
                                    "7": "1002",
                                    "8": "01/01/2006"
                                },
                                {
                                    "0": "101",
                                    "1": "111111",
                                    "2": "0",
                                    "3": "",
                                    "4": "201",
                                    "5": "50000",
                                    "6": "Depósitos",
                                    "7": "1003",
                                    "8": "01/01/2006"
                                },
                                {
                                    "0": "101",
                                    "1": "111111",
                                    "2": "0",
                                    "3": "",
                                    "4": "105",
                                    "5": "45250",
                                    "6": "Tarifas",
                                    "7": "1004",
                                    "8": "01/01/2006"
                                },
                                {
                                    "0": "101",
                                    "1": "111111",
                                    "2": "888",
                                    "3": "222221",
                                    "4": "117",
                                    "5": "400000",
                                    "6": "Transferência entre Contas",
                                    "7": "1005",
                                    "8": "01/01/2006"
                                },
                                {
                                    "0": "103",
                                    "1": "333331",
                                    "2": "888",
                                    "3": "456555",
                                    "4": "201",
                                    "5": "150000",
                                    "6": "Depósitos",
                                    "7": "1014",
                                    "8": "01/01/2006"
                                },
                                {
                                    "0": "103",
                                    "1": "333331",
                                    "2": "1",
                                    "3": "9799",
                                    "4": "201",
                                    "5": "50000",
                                    "6": "Depósitos",
                                    "7": "1015",
                                    "8": "01/01/2006"
                                },
                                {
                                    "0": "101",
                                    "1": "111111",
                                    "2": "104",
                                    "3": "77777",
                                    "4": "209",
                                    "5": "100050",
                                    "6": "Transferência Interbancária (DOC, TED)",
                                    "7": "1006",
                                    "8": "01/02/2006"
                                },
                                {
                                    "0": "101",
                                    "1": "111111",
                                    "2": "0",
                                    "3": "",
                                    "4": "114",
                                    "5": "100000",
                                    "6": "Saque Eletrônico",
                                    "7": "1009",
                                    "8": "01/02/2006"
                                },
                                {
                                    "0": "103",
                                    "1": "333331",
                                    "2": "888",
                                    "3": "07303",
                                    "4": "201",
                                    "5": "450000",
                                    "6": "Depósitos",
                                    "7": "1023",
                                    "8": "01/02/2006"
                                },
                                {
                                    "0": "103",
                                    "1": "333331",
                                    "2": "604",
                                    "3": "6466001",
                                    "4": "201",
                                    "5": "550000",
                                    "6": "Depósitos",
                                    "7": "1024",
                                    "8": "01/02/2006"
                                },
                                {
                                    "0": "101",
                                    "1": "111111",
                                    "2": "0",
                                    "3": "",
                                    "4": "101",
                                    "5": "100000",
                                    "6": "Cheques",
                                    "7": "1010",
                                    "8": "01/03/2006"
                                },
                                {
                                    "0": "101",
                                    "1": "111111",
                                    "2": "0",
                                    "3": "",
                                    "4": "101",
                                    "5": "100000",
                                    "6": "Cheques",
                                    "7": "1011",
                                    "8": "01/04/2006"
                                },
                                {
                                    "0": "101",
                                    "1": "111111",
                                    "2": "888",
                                    "3": "333331",
                                    "4": "201",
                                    "5": "900000",
                                    "6": "Depósitos",
                                    "7": "1012",
                                    "8": "01/05/2006"
                                },
                                {
                                    "0": "101",
                                    "1": "111111",
                                    "2": "104",
                                    "3": "001004445",
                                    "4": "201",
                                    "5": "100000",
                                    "6": "Depósitos",
                                    "7": "1013",
                                    "8": "01/05/2006"
                                },
                                {
                                    "0": "103",
                                    "1": "333331",
                                    "2": "888",
                                    "3": "456555",
                                    "4": "201",
                                    "5": "150000",
                                    "6": "Depósitos",
                                    "7": "1016",
                                    "8": "03/01/2006"
                                },
                                {
                                    "0": "103",
                                    "1": "333331",
                                    "2": "1",
                                    "3": "9799",
                                    "4": "201",
                                    "5": "50000",
                                    "6": "Depósitos",
                                    "7": "1017",
                                    "8": "03/01/2006"
                                },
                                {
                                    "0": "103",
                                    "1": "333331",
                                    "2": "104",
                                    "3": "9890980",
                                    "4": "120",
                                    "5": "1300000",
                                    "6": "Transf. Interbancária (DOC, TED) ",
                                    "7": "1018",
                                    "8": "03/01/2006"
                                },
                                {
                                    "0": "103",
                                    "1": "333331",
                                    "2": "205",
                                    "3": "004756",
                                    "4": "209",
                                    "5": "340000",
                                    "6": "Transferência Interbancária (DOC, TED)",
                                    "7": "1019",
                                    "8": "04/01/2006"
                                },
                                {
                                    "0": "103",
                                    "1": "333331",
                                    "2": "888",
                                    "3": "07303",
                                    "4": "201",
                                    "5": "450000",
                                    "6": "Depósitos",
                                    "7": "1026",
                                    "8": "07/02/2006"
                                },
                                {
                                    "0": "103",
                                    "1": "333331",
                                    "2": "604",
                                    "3": "6466001",
                                    "4": "201",
                                    "5": "550000",
                                    "6": "Depósitos",
                                    "7": "1027",
                                    "8": "07/02/2006"
                                },
                                {
                                    "0": "103",
                                    "1": "333331",
                                    "2": "604",
                                    "3": "6466001",
                                    "4": "103",
                                    "5": "550000",
                                    "6": "Estornos",
                                    "7": "1028",
                                    "8": "07/02/2006"
                                },
                                {
                                    "0": "103",
                                    "1": "333331",
                                    "2": "0",
                                    "3": "",
                                    "4": "114",
                                    "5": "200000",
                                    "6": "Saque Eletrônico",
                                    "7": "1020",
                                    "8": "08/01/2006"
                                },
                                {
                                    "0": "103",
                                    "1": "333331",
                                    "2": "888",
                                    "3": "111111",
                                    "4": "213",
                                    "5": "40000",
                                    "6": "Transferência entre Contas",
                                    "7": "1029",
                                    "8": "08/02/2006"
                                },
                                {
                                    "0": "103",
                                    "1": "333331",
                                    "2": "0",
                                    "3": "",
                                    "4": "114",
                                    "5": "500000",
                                    "6": "Saque Eletrônico",
                                    "7": "1021",
                                    "8": "09/01/2006"
                                },
                                {
                                    "0": "103",
                                    "1": "333331",
                                    "2": "0",
                                    "3": "",
                                    "4": "101",
                                    "5": "205450",
                                    "6": "Cheques",
                                    "7": "1022",
                                    "8": "09/01/2006"
                                }
                            ]
                        },
                        "text/html": "<table><tr><th>AGENCIA_A</th><th>CONTA_A</th><th>BANCO_B</th><th>CONTA_B</th><th>TIPO_LANCAMENTO</th><th>VALOR_TRANSACAO</th><th>DESCRICAO</th><th>CODIGO_CHAVE_OD</th><th>DATA_LANCAMENTO</th></tr><tr><td>101</td><td>111111</td><td>1</td><td>4455</td><td>219</td><td>100000</td><td>Pagamentos Salariais</td><td>1001</td><td>01/01/2006</td></tr><tr><td>101</td><td>111111</td><td>0</td><td></td><td>201</td><td>50000</td><td>Depósitos</td><td>1002</td><td>01/01/2006</td></tr><tr><td>101</td><td>111111</td><td>0</td><td></td><td>201</td><td>50000</td><td>Depósitos</td><td>1003</td><td>01/01/2006</td></tr><tr><td>101</td><td>111111</td><td>0</td><td></td><td>105</td><td>45250</td><td>Tarifas</td><td>1004</td><td>01/01/2006</td></tr><tr><td>101</td><td>111111</td><td>888</td><td>222221</td><td>117</td><td>400000</td><td>Transferência entre Contas</td><td>1005</td><td>01/01/2006</td></tr><tr><td>103</td><td>333331</td><td>888</td><td>456555</td><td>201</td><td>150000</td><td>Depósitos</td><td>1014</td><td>01/01/2006</td></tr><tr><td>103</td><td>333331</td><td>1</td><td>9799</td><td>201</td><td>50000</td><td>Depósitos</td><td>1015</td><td>01/01/2006</td></tr><tr><td>101</td><td>111111</td><td>104</td><td>77777</td><td>209</td><td>100050</td><td>Transferência Interbancária (DOC, TED)</td><td>1006</td><td>01/02/2006</td></tr><tr><td>101</td><td>111111</td><td>0</td><td></td><td>114</td><td>100000</td><td>Saque Eletrônico</td><td>1009</td><td>01/02/2006</td></tr><tr><td>103</td><td>333331</td><td>888</td><td>07303</td><td>201</td><td>450000</td><td>Depósitos</td><td>1023</td><td>01/02/2006</td></tr><tr><td>103</td><td>333331</td><td>604</td><td>6466001</td><td>201</td><td>550000</td><td>Depósitos</td><td>1024</td><td>01/02/2006</td></tr><tr><td>101</td><td>111111</td><td>0</td><td></td><td>101</td><td>100000</td><td>Cheques</td><td>1010</td><td>01/03/2006</td></tr><tr><td>101</td><td>111111</td><td>0</td><td></td><td>101</td><td>100000</td><td>Cheques</td><td>1011</td><td>01/04/2006</td></tr><tr><td>101</td><td>111111</td><td>888</td><td>333331</td><td>201</td><td>900000</td><td>Depósitos</td><td>1012</td><td>01/05/2006</td></tr><tr><td>101</td><td>111111</td><td>104</td><td>001004445</td><td>201</td><td>100000</td><td>Depósitos</td><td>1013</td><td>01/05/2006</td></tr><tr><td>103</td><td>333331</td><td>888</td><td>456555</td><td>201</td><td>150000</td><td>Depósitos</td><td>1016</td><td>03/01/2006</td></tr><tr><td>103</td><td>333331</td><td>1</td><td>9799</td><td>201</td><td>50000</td><td>Depósitos</td><td>1017</td><td>03/01/2006</td></tr><tr><td>103</td><td>333331</td><td>104</td><td>9890980</td><td>120</td><td>1300000</td><td>Transf. Interbancária (DOC, TED) </td><td>1018</td><td>03/01/2006</td></tr><tr><td>103</td><td>333331</td><td>205</td><td>004756</td><td>209</td><td>340000</td><td>Transferência Interbancária (DOC, TED)</td><td>1019</td><td>04/01/2006</td></tr><tr><td>103</td><td>333331</td><td>888</td><td>07303</td><td>201</td><td>450000</td><td>Depósitos</td><td>1026</td><td>07/02/2006</td></tr><tr><td>103</td><td>333331</td><td>604</td><td>6466001</td><td>201</td><td>550000</td><td>Depósitos</td><td>1027</td><td>07/02/2006</td></tr><tr><td>103</td><td>333331</td><td>604</td><td>6466001</td><td>103</td><td>550000</td><td>Estornos</td><td>1028</td><td>07/02/2006</td></tr><tr><td>103</td><td>333331</td><td>0</td><td></td><td>114</td><td>200000</td><td>Saque Eletrônico</td><td>1020</td><td>08/01/2006</td></tr><tr><td>103</td><td>333331</td><td>888</td><td>111111</td><td>213</td><td>40000</td><td>Transferência entre Contas</td><td>1029</td><td>08/02/2006</td></tr><tr><td>103</td><td>333331</td><td>0</td><td></td><td>114</td><td>500000</td><td>Saque Eletrônico</td><td>1021</td><td>09/01/2006</td></tr><tr><td>103</td><td>333331</td><td>0</td><td></td><td>101</td><td>205450</td><td>Cheques</td><td>1022</td><td>09/01/2006</td></tr></table>"
                    },
                    "metadata": {}
                }
            ],
            "execution_count": 32
        },
        {
            "cell_type": "code",
            "source": [
                "SELECT CONVERT(VARCHAR,NUMERO_AGENCIA_OD)+'/'+CONVERT(VARCHAR,NUMERO_CONTA_OD)  AS NODE FROM ORIGEM_DESTINO UNION SELECT CONVERT(VARCHAR,NUMERO_AGENCIA)+'/'+CONVERT(VARCHAR,NUMERO_CONTA)  FROM EXTRATO"
            ],
            "metadata": {
                "azdata_cell_guid": "f171fe77-64af-4a20-b400-6bba9b166d52"
            },
            "outputs": [
                {
                    "output_type": "display_data",
                    "data": {
                        "text/html": "(13 rows affected)"
                    },
                    "metadata": {}
                },
                {
                    "output_type": "display_data",
                    "data": {
                        "text/html": "Total execution time: 00:00:00.005"
                    },
                    "metadata": {}
                },
                {
                    "output_type": "execute_result",
                    "execution_count": 14,
                    "data": {
                        "application/vnd.dataresource+json": {
                            "schema": {
                                "fields": [
                                    {
                                        "name": "NODE"
                                    }
                                ]
                            },
                            "data": [
                                {
                                    "0": "0/"
                                },
                                {
                                    "0": "101/111111"
                                },
                                {
                                    "0": "101/222221"
                                },
                                {
                                    "0": "101/4455"
                                },
                                {
                                    "0": "102/07303"
                                },
                                {
                                    "0": "102/456555"
                                },
                                {
                                    "0": "103/333331"
                                },
                                {
                                    "0": "2122/9890980"
                                },
                                {
                                    "0": "2311/001004445"
                                },
                                {
                                    "0": "2315/9799"
                                },
                                {
                                    "0": "2344/77777"
                                },
                                {
                                    "0": "5/004756"
                                },
                                {
                                    "0": "6016/6466001"
                                }
                            ]
                        },
                        "text/html": "<table><tr><th>NODE</th></tr><tr><td>0/</td></tr><tr><td>101/111111</td></tr><tr><td>101/222221</td></tr><tr><td>101/4455</td></tr><tr><td>102/07303</td></tr><tr><td>102/456555</td></tr><tr><td>103/333331</td></tr><tr><td>2122/9890980</td></tr><tr><td>2311/001004445</td></tr><tr><td>2315/9799</td></tr><tr><td>2344/77777</td></tr><tr><td>5/004756</td></tr><tr><td>6016/6466001</td></tr></table>"
                    },
                    "metadata": {}
                }
            ],
            "execution_count": 14
        },
        {
            "cell_type": "code",
            "source": [
                "SELECT CONVERT(CHAR, max(DATA_LANCAMENTO), 103), CONVERT(CHAR, min(DATA_LANCAMENTO), 103) FROM extrato"
            ],
            "metadata": {
                "azdata_cell_guid": "cee5284d-8d91-4eb3-8a60-47234aa80e10"
            },
            "outputs": [
                {
                    "output_type": "display_data",
                    "data": {
                        "text/html": "(1 row affected)"
                    },
                    "metadata": {}
                },
                {
                    "output_type": "display_data",
                    "data": {
                        "text/html": "Total execution time: 00:00:00.004"
                    },
                    "metadata": {}
                },
                {
                    "output_type": "execute_result",
                    "execution_count": 18,
                    "data": {
                        "application/vnd.dataresource+json": {
                            "schema": {
                                "fields": [
                                    {
                                        "name": "(No column name)"
                                    },
                                    {
                                        "name": "(No column name)"
                                    }
                                ]
                            },
                            "data": [
                                {
                                    "0": "01/05/2006                    ",
                                    "1": "01/01/2006                    "
                                }
                            ]
                        },
                        "text/html": "<table><tr><th>(No column name)</th><th>(No column name)</th></tr><tr><td>01/05/2006                    </td><td>01/01/2006                    </td></tr></table>"
                    },
                    "metadata": {}
                }
            ],
            "execution_count": 18
        },
        {
            "cell_type": "code",
            "source": [
                "SELECT DB_NAME() AS [Current Database];  "
            ],
            "metadata": {
                "azdata_cell_guid": "40a1937c-85bc-4c7e-aa52-2a68b919ea46"
            },
            "outputs": [
                {
                    "output_type": "display_data",
                    "data": {
                        "text/html": "(1 row affected)"
                    },
                    "metadata": {}
                },
                {
                    "output_type": "display_data",
                    "data": {
                        "text/html": "Total execution time: 00:00:00.297"
                    },
                    "metadata": {}
                },
                {
                    "output_type": "execute_result",
                    "execution_count": 20,
                    "data": {
                        "application/vnd.dataresource+json": {
                            "schema": {
                                "fields": [
                                    {
                                        "name": "Current Database"
                                    }
                                ]
                            },
                            "data": [
                                {
                                    "0": "SINCRIFI"
                                }
                            ]
                        },
                        "text/html": "<table><tr><th>Current Database</th></tr><tr><td>SINCRIFI</td></tr></table>"
                    },
                    "metadata": {}
                }
            ],
            "execution_count": 20
        },
        {
            "cell_type": "code",
            "source": [
                "SELECT t.NOME_TITULAR AS 'NOME TITULAR', t.NUMERO_BANCO AS 'BANCO', t.NUMERO_AGENCIA AS 'AGÊNCIA', t.NUMERO_CONTA AS 'CONTA', a.NOME_AGENCIA AS 'NOME AGÊNCIA', c.DATA_ABERTURA_CONTA AS 'DATA DE ABERTURA', c.DATA_ENCERRAMENTO_CONTA AS 'DATA DE ENCERRAMENTO'  FROM TITULARES t\r\n",
                "INNER JOIN AGENCIAS a ON a.NUMERO_BANCO = t.NUMERO_BANCO AND a.NUMERO_AGENCIA = t.NUMERO_AGENCIA\r\n",
                "INNER JOIN CONTAS c ON c.NUMERO_BANCO = a.NUMERO_BANCO AND c.NUMERO_AGENCIA = t.NUMERO_AGENCIA "
            ],
            "metadata": {
                "azdata_cell_guid": "1a3ca443-b2d9-43c4-b8c8-482433bbe66b"
            },
            "outputs": [
                {
                    "output_type": "display_data",
                    "data": {
                        "text/html": "(10 rows affected)"
                    },
                    "metadata": {}
                },
                {
                    "output_type": "display_data",
                    "data": {
                        "text/html": "Total execution time: 00:00:00.123"
                    },
                    "metadata": {}
                },
                {
                    "output_type": "execute_result",
                    "execution_count": 7,
                    "data": {
                        "application/vnd.dataresource+json": {
                            "schema": {
                                "fields": [
                                    {
                                        "name": "NOME TITULAR"
                                    },
                                    {
                                        "name": "BANCO"
                                    },
                                    {
                                        "name": "AGÊNCIA"
                                    },
                                    {
                                        "name": "CONTA"
                                    },
                                    {
                                        "name": "NOME AGÊNCIA"
                                    },
                                    {
                                        "name": "DATA DE ABERTURA"
                                    },
                                    {
                                        "name": "DATA DE ENCERRAMENTO"
                                    }
                                ]
                            },
                            "data": [
                                {
                                    "0": "FULANO DA SILVA (PESSOA NO MESMO BANCO)",
                                    "1": "888",
                                    "2": "102",
                                    "3": "456555",
                                    "4": "AGENCIA 102",
                                    "5": "NULL",
                                    "6": "NULL"
                                },
                                {
                                    "0": "FULANO DA SILVA (PESSOA NO MESMO BANCO)",
                                    "1": "888",
                                    "2": "102",
                                    "3": "456555",
                                    "4": "AGENCIA 102",
                                    "5": "NULL",
                                    "6": "NULL"
                                },
                                {
                                    "0": "JOAO ALMEIDA",
                                    "1": "888",
                                    "2": "102",
                                    "3": "07303",
                                    "4": "AGENCIA 102",
                                    "5": "NULL",
                                    "6": "NULL"
                                },
                                {
                                    "0": "JOAO ALMEIDA",
                                    "1": "888",
                                    "2": "102",
                                    "3": "07303",
                                    "4": "AGENCIA 102",
                                    "5": "NULL",
                                    "6": "NULL"
                                },
                                {
                                    "0": "INVESTIGADO 765",
                                    "1": "888",
                                    "2": "103",
                                    "3": "333331",
                                    "4": "AGENCIA 103",
                                    "5": "2001-01-01 00:00:00.000",
                                    "6": "NULL"
                                },
                                {
                                    "0": "INVESTIGADO 200",
                                    "1": "888",
                                    "2": "101",
                                    "3": "111111",
                                    "4": "AGENCIA 101",
                                    "5": "2001-01-01 00:00:00.000",
                                    "6": "2006-12-31 00:00:00.000"
                                },
                                {
                                    "0": "INVESTIGADO 200",
                                    "1": "888",
                                    "2": "101",
                                    "3": "111111",
                                    "4": "AGENCIA 101",
                                    "5": "2001-01-01 00:00:00.000",
                                    "6": "NULL"
                                },
                                {
                                    "0": "MARLENE MATOS",
                                    "1": "888",
                                    "2": "101",
                                    "3": "222221",
                                    "4": "AGENCIA 101",
                                    "5": "2001-01-01 00:00:00.000",
                                    "6": "2006-12-31 00:00:00.000"
                                },
                                {
                                    "0": "MARLENE MATOS",
                                    "1": "888",
                                    "2": "101",
                                    "3": "222221",
                                    "4": "AGENCIA 101",
                                    "5": "2001-01-01 00:00:00.000",
                                    "6": "NULL"
                                },
                                {
                                    "0": "EMPRESA DO INVESTIGADO 200",
                                    "1": "888",
                                    "2": "103",
                                    "3": "333331",
                                    "4": "AGENCIA 103",
                                    "5": "2001-01-01 00:00:00.000",
                                    "6": "NULL"
                                }
                            ]
                        },
                        "text/html": "<table><tr><th>NOME TITULAR</th><th>BANCO</th><th>AGÊNCIA</th><th>CONTA</th><th>NOME AGÊNCIA</th><th>DATA DE ABERTURA</th><th>DATA DE ENCERRAMENTO</th></tr><tr><td>FULANO DA SILVA (PESSOA NO MESMO BANCO)</td><td>888</td><td>102</td><td>456555</td><td>AGENCIA 102</td><td>NULL</td><td>NULL</td></tr><tr><td>FULANO DA SILVA (PESSOA NO MESMO BANCO)</td><td>888</td><td>102</td><td>456555</td><td>AGENCIA 102</td><td>NULL</td><td>NULL</td></tr><tr><td>JOAO ALMEIDA</td><td>888</td><td>102</td><td>07303</td><td>AGENCIA 102</td><td>NULL</td><td>NULL</td></tr><tr><td>JOAO ALMEIDA</td><td>888</td><td>102</td><td>07303</td><td>AGENCIA 102</td><td>NULL</td><td>NULL</td></tr><tr><td>INVESTIGADO 765</td><td>888</td><td>103</td><td>333331</td><td>AGENCIA 103</td><td>2001-01-01 00:00:00.000</td><td>NULL</td></tr><tr><td>INVESTIGADO 200</td><td>888</td><td>101</td><td>111111</td><td>AGENCIA 101</td><td>2001-01-01 00:00:00.000</td><td>2006-12-31 00:00:00.000</td></tr><tr><td>INVESTIGADO 200</td><td>888</td><td>101</td><td>111111</td><td>AGENCIA 101</td><td>2001-01-01 00:00:00.000</td><td>NULL</td></tr><tr><td>MARLENE MATOS</td><td>888</td><td>101</td><td>222221</td><td>AGENCIA 101</td><td>2001-01-01 00:00:00.000</td><td>2006-12-31 00:00:00.000</td></tr><tr><td>MARLENE MATOS</td><td>888</td><td>101</td><td>222221</td><td>AGENCIA 101</td><td>2001-01-01 00:00:00.000</td><td>NULL</td></tr><tr><td>EMPRESA DO INVESTIGADO 200</td><td>888</td><td>103</td><td>333331</td><td>AGENCIA 103</td><td>2001-01-01 00:00:00.000</td><td>NULL</td></tr></table>"
                    },
                    "metadata": {}
                }
            ],
            "execution_count": 7
        },
        {
            "cell_type": "code",
            "source": [
                "SELECT * FROM ORIGEM_DESTINO"
            ],
            "metadata": {
                "azdata_cell_guid": "f71eed48-d404-446a-bc99-957ed97c358b",
                "tags": []
            },
            "outputs": [
                {
                    "output_type": "display_data",
                    "data": {
                        "text/html": "(27 rows affected)"
                    },
                    "metadata": {}
                },
                {
                    "output_type": "display_data",
                    "data": {
                        "text/html": "Total execution time: 00:00:00.106"
                    },
                    "metadata": {}
                },
                {
                    "output_type": "execute_result",
                    "execution_count": 22,
                    "data": {
                        "application/vnd.dataresource+json": {
                            "schema": {
                                "fields": [
                                    {
                                        "name": "CODIGO_CHAVE_OD"
                                    },
                                    {
                                        "name": "CODIGO_CHAVE_EXTRATO"
                                    },
                                    {
                                        "name": "VALOR_TRANSACAO"
                                    },
                                    {
                                        "name": "NUMERO_DOCUMENTO_TRANSACAO"
                                    },
                                    {
                                        "name": "NUMERO_BANCO_OD"
                                    },
                                    {
                                        "name": "NUMERO_AGENCIA_OD"
                                    },
                                    {
                                        "name": "NUMERO_CONTA_OD"
                                    },
                                    {
                                        "name": "TIPO_CONTA_OD"
                                    },
                                    {
                                        "name": "TIPO_PESSOA_OD"
                                    },
                                    {
                                        "name": "CPF_CNPJ_OD"
                                    },
                                    {
                                        "name": "NOME_PESSOA_OD"
                                    },
                                    {
                                        "name": "NOME_DOC_IDENTIFICACAO_OD"
                                    },
                                    {
                                        "name": "NUMERO_DOC_IDENTIFICACAO_OD"
                                    },
                                    {
                                        "name": "CODIGO_DE_BARRAS"
                                    },
                                    {
                                        "name": "NOME_ENDOSSANTE_CHEQUE"
                                    },
                                    {
                                        "name": "DOC_ENDOSSANTE_CHEQUE"
                                    },
                                    {
                                        "name": "SITUACAO_IDENTIFICACAO"
                                    },
                                    {
                                        "name": "OBSERVACAO"
                                    }
                                ]
                            },
                            "data": [
                                {
                                    "0": "1001",
                                    "1": "1",
                                    "2": "100000",
                                    "3": "123",
                                    "4": "1",
                                    "5": "101",
                                    "6": "4455",
                                    "7": "1",
                                    "8": "2",
                                    "9": "1210313000137",
                                    "10": "EMPRESA",
                                    "11": "DE CARRO",
                                    "12": "",
                                    "13": "",
                                    "14": "",
                                    "15": "",
                                    "16": "0",
                                    "17": "DINHEIRO"
                                },
                                {
                                    "0": "1002",
                                    "1": "2",
                                    "2": "50000",
                                    "3": "1241",
                                    "4": "0",
                                    "5": "0",
                                    "6": "",
                                    "7": "0",
                                    "8": "1",
                                    "9": "0",
                                    "10": "ENVOLVIDO 4",
                                    "11": "RG",
                                    "12": "442456 SSP/PE",
                                    "13": "",
                                    "14": "",
                                    "15": "",
                                    "16": "0",
                                    "17": ""
                                },
                                {
                                    "0": "1003",
                                    "1": "2",
                                    "2": "50000",
                                    "3": "1242",
                                    "4": "0",
                                    "5": "0",
                                    "6": "",
                                    "7": "0",
                                    "8": "1",
                                    "9": "0",
                                    "10": "ENVOLVIDO 4",
                                    "11": "RG",
                                    "12": "442456 SSP/PE",
                                    "13": "",
                                    "14": "",
                                    "15": "",
                                    "16": "0",
                                    "17": ""
                                },
                                {
                                    "0": "1004",
                                    "1": "3",
                                    "2": "45250",
                                    "3": "101",
                                    "4": "0",
                                    "5": "0",
                                    "6": "",
                                    "7": "0",
                                    "8": "0",
                                    "9": "1666666000146",
                                    "10": "NOME DO CEDENTE",
                                    "11": "",
                                    "12": "",
                                    "13": "84610000001058100100509051499836863214040508",
                                    "14": "",
                                    "15": "",
                                    "16": "0",
                                    "17": ""
                                },
                                {
                                    "0": "1005",
                                    "1": "4",
                                    "2": "400000",
                                    "3": "0122",
                                    "4": "888",
                                    "5": "101",
                                    "6": "222221",
                                    "7": "1",
                                    "8": "1",
                                    "9": "12345678909",
                                    "10": "MARLENE MATOS",
                                    "11": "",
                                    "12": "",
                                    "13": "",
                                    "14": "",
                                    "15": "",
                                    "16": "0",
                                    "17": ""
                                },
                                {
                                    "0": "1006",
                                    "1": "5",
                                    "2": "100050",
                                    "3": "4654",
                                    "4": "104",
                                    "5": "2344",
                                    "6": "77777",
                                    "7": "1",
                                    "8": "2",
                                    "9": "11112222333359",
                                    "10": "CALDOS E COMPANHIA SA",
                                    "11": "",
                                    "12": "",
                                    "13": "",
                                    "14": "",
                                    "15": "",
                                    "16": "0",
                                    "17": ""
                                },
                                {
                                    "0": "1009",
                                    "1": "6",
                                    "2": "100000",
                                    "3": "46546",
                                    "4": "0",
                                    "5": "0",
                                    "6": "",
                                    "7": "0",
                                    "8": "0",
                                    "9": "0",
                                    "10": "",
                                    "11": "",
                                    "12": "",
                                    "13": "",
                                    "14": "",
                                    "15": "",
                                    "16": "0",
                                    "17": ""
                                },
                                {
                                    "0": "1010",
                                    "1": "7",
                                    "2": "100000",
                                    "3": "041651",
                                    "4": "0",
                                    "5": "0",
                                    "6": "",
                                    "7": "0",
                                    "8": "0",
                                    "9": "0",
                                    "10": "RECEBEDOR DO CHEQUE FINAL",
                                    "11": "",
                                    "12": "",
                                    "13": "",
                                    "14": "",
                                    "15": "",
                                    "16": "0",
                                    "17": ""
                                },
                                {
                                    "0": "1011",
                                    "1": "8",
                                    "2": "100000",
                                    "3": "254",
                                    "4": "0",
                                    "5": "0",
                                    "6": "",
                                    "7": "0",
                                    "8": "0",
                                    "9": "78943213204",
                                    "10": "PESSOA BENEFICIARIA DO CHEQUE FINAL",
                                    "11": "",
                                    "12": "",
                                    "13": "",
                                    "14": "NOME DO ENDOSSANTE",
                                    "15": "RG 12334 SSP/DF",
                                    "16": "0",
                                    "17": "SAQUE EM ESPECIE"
                                },
                                {
                                    "0": "1012",
                                    "1": "9",
                                    "2": "900000",
                                    "3": "126",
                                    "4": "888",
                                    "5": "103",
                                    "6": "333331",
                                    "7": "1",
                                    "8": "2",
                                    "9": "11112222111100",
                                    "10": "PJ MATERIAIS DE CONSTRUÇÃO",
                                    "11": "",
                                    "12": "",
                                    "13": "",
                                    "14": "",
                                    "15": "",
                                    "16": "0",
                                    "17": ""
                                },
                                {
                                    "0": "1013",
                                    "1": "10",
                                    "2": "100000",
                                    "3": "127",
                                    "4": "104",
                                    "5": "2311",
                                    "6": "001004445",
                                    "7": "0",
                                    "8": "1",
                                    "9": "66666666151",
                                    "10": "MARIA DA SILVA",
                                    "11": "",
                                    "12": "",
                                    "13": "",
                                    "14": "",
                                    "15": "",
                                    "16": "0",
                                    "17": ""
                                },
                                {
                                    "0": "1014",
                                    "1": "11",
                                    "2": "150000",
                                    "3": "2123",
                                    "4": "888",
                                    "5": "102",
                                    "6": "456555",
                                    "7": "1",
                                    "8": "1",
                                    "9": "55555555121",
                                    "10": "FULANO DA SILVA",
                                    "11": "",
                                    "12": "",
                                    "13": "",
                                    "14": "",
                                    "15": "",
                                    "16": "0",
                                    "17": ""
                                },
                                {
                                    "0": "1015",
                                    "1": "11",
                                    "2": "50000",
                                    "3": "2123",
                                    "4": "1",
                                    "5": "2315",
                                    "6": "9799",
                                    "7": "0",
                                    "8": "1",
                                    "9": "77777777181",
                                    "10": "CICLANO DE SOUZA",
                                    "11": "",
                                    "12": "",
                                    "13": "",
                                    "14": "",
                                    "15": "",
                                    "16": "0",
                                    "17": ""
                                },
                                {
                                    "0": "1016",
                                    "1": "12",
                                    "2": "150000",
                                    "3": "2123",
                                    "4": "888",
                                    "5": "102",
                                    "6": "456555",
                                    "7": "1",
                                    "8": "1",
                                    "9": "55555555121",
                                    "10": "FULANO DA SILVA",
                                    "11": "",
                                    "12": "",
                                    "13": "",
                                    "14": "",
                                    "15": "",
                                    "16": "0",
                                    "17": ""
                                },
                                {
                                    "0": "1017",
                                    "1": "13",
                                    "2": "50000",
                                    "3": "2123",
                                    "4": "1",
                                    "5": "2315",
                                    "6": "9799",
                                    "7": "0",
                                    "8": "1",
                                    "9": "77777777181",
                                    "10": "CICLANO DE SOUZA",
                                    "11": "",
                                    "12": "",
                                    "13": "",
                                    "14": "",
                                    "15": "",
                                    "16": "0",
                                    "17": ""
                                },
                                {
                                    "0": "1018",
                                    "1": "14",
                                    "2": "1300000",
                                    "3": "015",
                                    "4": "104",
                                    "5": "2122",
                                    "6": "9890980",
                                    "7": "0",
                                    "8": "1",
                                    "9": "1234567890",
                                    "10": "PESSOA QUE RECEBEU O DOC",
                                    "11": "",
                                    "12": "",
                                    "13": "",
                                    "14": "",
                                    "15": "",
                                    "16": "0",
                                    "17": ""
                                },
                                {
                                    "0": "1019",
                                    "1": "15",
                                    "2": "340000",
                                    "3": "016",
                                    "4": "205",
                                    "5": "5",
                                    "6": "004756",
                                    "7": "0",
                                    "8": "2",
                                    "9": "77778888777745",
                                    "10": "EMPRESA QUE FEZ O TED",
                                    "11": "",
                                    "12": "",
                                    "13": "",
                                    "14": "",
                                    "15": "",
                                    "16": "0",
                                    "17": ""
                                },
                                {
                                    "0": "1020",
                                    "1": "16",
                                    "2": "200000",
                                    "3": "017",
                                    "4": "0",
                                    "5": "0",
                                    "6": "",
                                    "7": "0",
                                    "8": "0",
                                    "9": "0",
                                    "10": "",
                                    "11": "",
                                    "12": "",
                                    "13": "",
                                    "14": "",
                                    "15": "",
                                    "16": "0",
                                    "17": ""
                                },
                                {
                                    "0": "1021",
                                    "1": "17",
                                    "2": "500000",
                                    "3": "018",
                                    "4": "0",
                                    "5": "0",
                                    "6": "",
                                    "7": "0",
                                    "8": "0",
                                    "9": "0",
                                    "10": "",
                                    "11": "",
                                    "12": "",
                                    "13": "",
                                    "14": "",
                                    "15": "",
                                    "16": "0",
                                    "17": ""
                                },
                                {
                                    "0": "1022",
                                    "1": "18",
                                    "2": "205450",
                                    "3": "001542",
                                    "4": "0",
                                    "5": "0",
                                    "6": "",
                                    "7": "0",
                                    "8": "0",
                                    "9": "0",
                                    "10": "NOME PESSOA DO VERSO",
                                    "11": "RG",
                                    "12": "78954",
                                    "13": "",
                                    "14": "JOSE ENDOSSOU ANVERSO",
                                    "15": "RG 777",
                                    "16": "0",
                                    "17": ""
                                },
                                {
                                    "0": "1023",
                                    "1": "19",
                                    "2": "450000",
                                    "3": "22601",
                                    "4": "888",
                                    "5": "102",
                                    "6": "07303",
                                    "7": "1",
                                    "8": "1",
                                    "9": "35463200009",
                                    "10": "JOAO ALMEIDA",
                                    "11": "",
                                    "12": "",
                                    "13": "",
                                    "14": "",
                                    "15": "",
                                    "16": "0",
                                    "17": ""
                                },
                                {
                                    "0": "1024",
                                    "1": "19",
                                    "2": "550000",
                                    "3": "22602",
                                    "4": "604",
                                    "5": "6016",
                                    "6": "6466001",
                                    "7": "0",
                                    "8": "2",
                                    "9": "3456273000133",
                                    "10": "EMPRESA DO PAPAI",
                                    "11": "",
                                    "12": "",
                                    "13": "",
                                    "14": "",
                                    "15": "",
                                    "16": "0",
                                    "17": ""
                                },
                                {
                                    "0": "1025",
                                    "1": "20",
                                    "2": "3800000",
                                    "3": "227",
                                    "4": "0",
                                    "5": "0",
                                    "6": "",
                                    "7": "0",
                                    "8": "0",
                                    "9": "0",
                                    "10": "",
                                    "11": "",
                                    "12": "",
                                    "13": "",
                                    "14": "",
                                    "15": "",
                                    "16": "0",
                                    "17": ""
                                },
                                {
                                    "0": "1026",
                                    "1": "21",
                                    "2": "450000",
                                    "3": "22601",
                                    "4": "888",
                                    "5": "102",
                                    "6": "07303",
                                    "7": "1",
                                    "8": "1",
                                    "9": "35463200009",
                                    "10": "JOAO ALMEIDA",
                                    "11": "",
                                    "12": "",
                                    "13": "",
                                    "14": "",
                                    "15": "",
                                    "16": "0",
                                    "17": ""
                                },
                                {
                                    "0": "1027",
                                    "1": "22",
                                    "2": "550000",
                                    "3": "22602",
                                    "4": "604",
                                    "5": "6016",
                                    "6": "6466001",
                                    "7": "0",
                                    "8": "2",
                                    "9": "3456273000133",
                                    "10": "EMPRESA DO PAPAI",
                                    "11": "",
                                    "12": "",
                                    "13": "",
                                    "14": "",
                                    "15": "",
                                    "16": "0",
                                    "17": ""
                                },
                                {
                                    "0": "1028",
                                    "1": "23",
                                    "2": "550000",
                                    "3": "22602",
                                    "4": "604",
                                    "5": "6016",
                                    "6": "6466001",
                                    "7": "0",
                                    "8": "2",
                                    "9": "3456273000133",
                                    "10": "EMPRESA DO PAPAI",
                                    "11": "",
                                    "12": "",
                                    "13": "",
                                    "14": "",
                                    "15": "",
                                    "16": "0",
                                    "17": ""
                                },
                                {
                                    "0": "1029",
                                    "1": "24",
                                    "2": "40000",
                                    "3": "10333",
                                    "4": "888",
                                    "5": "101",
                                    "6": "111111",
                                    "7": "0",
                                    "8": "1",
                                    "9": "20050506870",
                                    "10": "INVESTIGADO",
                                    "11": "200",
                                    "12": "",
                                    "13": "",
                                    "14": "",
                                    "15": "",
                                    "16": "0",
                                    "17": ""
                                }
                            ]
                        },
                        "text/html": "<table><tr><th>CODIGO_CHAVE_OD</th><th>CODIGO_CHAVE_EXTRATO</th><th>VALOR_TRANSACAO</th><th>NUMERO_DOCUMENTO_TRANSACAO</th><th>NUMERO_BANCO_OD</th><th>NUMERO_AGENCIA_OD</th><th>NUMERO_CONTA_OD</th><th>TIPO_CONTA_OD</th><th>TIPO_PESSOA_OD</th><th>CPF_CNPJ_OD</th><th>NOME_PESSOA_OD</th><th>NOME_DOC_IDENTIFICACAO_OD</th><th>NUMERO_DOC_IDENTIFICACAO_OD</th><th>CODIGO_DE_BARRAS</th><th>NOME_ENDOSSANTE_CHEQUE</th><th>DOC_ENDOSSANTE_CHEQUE</th><th>SITUACAO_IDENTIFICACAO</th><th>OBSERVACAO</th></tr><tr><td>1001</td><td>1</td><td>100000</td><td>123</td><td>1</td><td>101</td><td>4455</td><td>1</td><td>2</td><td>1210313000137</td><td>EMPRESA</td><td>DE CARRO</td><td></td><td></td><td></td><td></td><td>0</td><td>DINHEIRO</td></tr><tr><td>1002</td><td>2</td><td>50000</td><td>1241</td><td>0</td><td>0</td><td></td><td>0</td><td>1</td><td>0</td><td>ENVOLVIDO 4</td><td>RG</td><td>442456 SSP/PE</td><td></td><td></td><td></td><td>0</td><td></td></tr><tr><td>1003</td><td>2</td><td>50000</td><td>1242</td><td>0</td><td>0</td><td></td><td>0</td><td>1</td><td>0</td><td>ENVOLVIDO 4</td><td>RG</td><td>442456 SSP/PE</td><td></td><td></td><td></td><td>0</td><td></td></tr><tr><td>1004</td><td>3</td><td>45250</td><td>101</td><td>0</td><td>0</td><td></td><td>0</td><td>0</td><td>1666666000146</td><td>NOME DO CEDENTE</td><td></td><td></td><td>84610000001058100100509051499836863214040508</td><td></td><td></td><td>0</td><td></td></tr><tr><td>1005</td><td>4</td><td>400000</td><td>0122</td><td>888</td><td>101</td><td>222221</td><td>1</td><td>1</td><td>12345678909</td><td>MARLENE MATOS</td><td></td><td></td><td></td><td></td><td></td><td>0</td><td></td></tr><tr><td>1006</td><td>5</td><td>100050</td><td>4654</td><td>104</td><td>2344</td><td>77777</td><td>1</td><td>2</td><td>11112222333359</td><td>CALDOS E COMPANHIA SA</td><td></td><td></td><td></td><td></td><td></td><td>0</td><td></td></tr><tr><td>1009</td><td>6</td><td>100000</td><td>46546</td><td>0</td><td>0</td><td></td><td>0</td><td>0</td><td>0</td><td></td><td></td><td></td><td></td><td></td><td></td><td>0</td><td></td></tr><tr><td>1010</td><td>7</td><td>100000</td><td>041651</td><td>0</td><td>0</td><td></td><td>0</td><td>0</td><td>0</td><td>RECEBEDOR DO CHEQUE FINAL</td><td></td><td></td><td></td><td></td><td></td><td>0</td><td></td></tr><tr><td>1011</td><td>8</td><td>100000</td><td>254</td><td>0</td><td>0</td><td></td><td>0</td><td>0</td><td>78943213204</td><td>PESSOA BENEFICIARIA DO CHEQUE FINAL</td><td></td><td></td><td></td><td>NOME DO ENDOSSANTE</td><td>RG 12334 SSP/DF</td><td>0</td><td>SAQUE EM ESPECIE</td></tr><tr><td>1012</td><td>9</td><td>900000</td><td>126</td><td>888</td><td>103</td><td>333331</td><td>1</td><td>2</td><td>11112222111100</td><td>PJ MATERIAIS DE CONSTRUÇÃO</td><td></td><td></td><td></td><td></td><td></td><td>0</td><td></td></tr><tr><td>1013</td><td>10</td><td>100000</td><td>127</td><td>104</td><td>2311</td><td>001004445</td><td>0</td><td>1</td><td>66666666151</td><td>MARIA DA SILVA</td><td></td><td></td><td></td><td></td><td></td><td>0</td><td></td></tr><tr><td>1014</td><td>11</td><td>150000</td><td>2123</td><td>888</td><td>102</td><td>456555</td><td>1</td><td>1</td><td>55555555121</td><td>FULANO DA SILVA</td><td></td><td></td><td></td><td></td><td></td><td>0</td><td></td></tr><tr><td>1015</td><td>11</td><td>50000</td><td>2123</td><td>1</td><td>2315</td><td>9799</td><td>0</td><td>1</td><td>77777777181</td><td>CICLANO DE SOUZA</td><td></td><td></td><td></td><td></td><td></td><td>0</td><td></td></tr><tr><td>1016</td><td>12</td><td>150000</td><td>2123</td><td>888</td><td>102</td><td>456555</td><td>1</td><td>1</td><td>55555555121</td><td>FULANO DA SILVA</td><td></td><td></td><td></td><td></td><td></td><td>0</td><td></td></tr><tr><td>1017</td><td>13</td><td>50000</td><td>2123</td><td>1</td><td>2315</td><td>9799</td><td>0</td><td>1</td><td>77777777181</td><td>CICLANO DE SOUZA</td><td></td><td></td><td></td><td></td><td></td><td>0</td><td></td></tr><tr><td>1018</td><td>14</td><td>1300000</td><td>015</td><td>104</td><td>2122</td><td>9890980</td><td>0</td><td>1</td><td>1234567890</td><td>PESSOA QUE RECEBEU O DOC</td><td></td><td></td><td></td><td></td><td></td><td>0</td><td></td></tr><tr><td>1019</td><td>15</td><td>340000</td><td>016</td><td>205</td><td>5</td><td>004756</td><td>0</td><td>2</td><td>77778888777745</td><td>EMPRESA QUE FEZ O TED</td><td></td><td></td><td></td><td></td><td></td><td>0</td><td></td></tr><tr><td>1020</td><td>16</td><td>200000</td><td>017</td><td>0</td><td>0</td><td></td><td>0</td><td>0</td><td>0</td><td></td><td></td><td></td><td></td><td></td><td></td><td>0</td><td></td></tr><tr><td>1021</td><td>17</td><td>500000</td><td>018</td><td>0</td><td>0</td><td></td><td>0</td><td>0</td><td>0</td><td></td><td></td><td></td><td></td><td></td><td></td><td>0</td><td></td></tr><tr><td>1022</td><td>18</td><td>205450</td><td>001542</td><td>0</td><td>0</td><td></td><td>0</td><td>0</td><td>0</td><td>NOME PESSOA DO VERSO</td><td>RG</td><td>78954</td><td></td><td>JOSE ENDOSSOU ANVERSO</td><td>RG 777</td><td>0</td><td></td></tr><tr><td>1023</td><td>19</td><td>450000</td><td>22601</td><td>888</td><td>102</td><td>07303</td><td>1</td><td>1</td><td>35463200009</td><td>JOAO ALMEIDA</td><td></td><td></td><td></td><td></td><td></td><td>0</td><td></td></tr><tr><td>1024</td><td>19</td><td>550000</td><td>22602</td><td>604</td><td>6016</td><td>6466001</td><td>0</td><td>2</td><td>3456273000133</td><td>EMPRESA DO PAPAI</td><td></td><td></td><td></td><td></td><td></td><td>0</td><td></td></tr><tr><td>1025</td><td>20</td><td>3800000</td><td>227</td><td>0</td><td>0</td><td></td><td>0</td><td>0</td><td>0</td><td></td><td></td><td></td><td></td><td></td><td></td><td>0</td><td></td></tr><tr><td>1026</td><td>21</td><td>450000</td><td>22601</td><td>888</td><td>102</td><td>07303</td><td>1</td><td>1</td><td>35463200009</td><td>JOAO ALMEIDA</td><td></td><td></td><td></td><td></td><td></td><td>0</td><td></td></tr><tr><td>1027</td><td>22</td><td>550000</td><td>22602</td><td>604</td><td>6016</td><td>6466001</td><td>0</td><td>2</td><td>3456273000133</td><td>EMPRESA DO PAPAI</td><td></td><td></td><td></td><td></td><td></td><td>0</td><td></td></tr><tr><td>1028</td><td>23</td><td>550000</td><td>22602</td><td>604</td><td>6016</td><td>6466001</td><td>0</td><td>2</td><td>3456273000133</td><td>EMPRESA DO PAPAI</td><td></td><td></td><td></td><td></td><td></td><td>0</td><td></td></tr><tr><td>1029</td><td>24</td><td>40000</td><td>10333</td><td>888</td><td>101</td><td>111111</td><td>0</td><td>1</td><td>20050506870</td><td>INVESTIGADO</td><td>200</td><td></td><td></td><td></td><td></td><td>0</td><td></td></tr></table>"
                    },
                    "metadata": {}
                }
            ],
            "execution_count": 22
        },
        {
            "cell_type": "code",
            "source": [
                "SELECT CONVERT(CHAR, MIN(DATA_LANCAMENTO), 103) MINNIMA, CONVERT(CHAR, MAX(DATA_LANCAMENTO), 103) AS MAXIMA FROM EXTRATO"
            ],
            "metadata": {
                "azdata_cell_guid": "9d8ef8a6-03fe-46c0-b8d7-cb4a6158195c"
            },
            "outputs": [
                {
                    "output_type": "display_data",
                    "data": {
                        "text/html": "(1 row affected)"
                    },
                    "metadata": {}
                },
                {
                    "output_type": "display_data",
                    "data": {
                        "text/html": "Total execution time: 00:00:00.021"
                    },
                    "metadata": {}
                },
                {
                    "output_type": "execute_result",
                    "execution_count": 2,
                    "data": {
                        "application/vnd.dataresource+json": {
                            "schema": {
                                "fields": [
                                    {
                                        "name": "MINNIMA"
                                    },
                                    {
                                        "name": "MAXIMA"
                                    }
                                ]
                            },
                            "data": [
                                {
                                    "0": "01/01/2006                    ",
                                    "1": "01/05/2006                    "
                                }
                            ]
                        },
                        "text/html": "<table><tr><th>MINNIMA</th><th>MAXIMA</th></tr><tr><td>01/01/2006                    </td><td>01/05/2006                    </td></tr></table>"
                    },
                    "metadata": {}
                }
            ],
            "execution_count": 2
        },
        {
            "cell_type": "code",
            "source": [
                "SELECT \n",
                "                                o.CODIGO_CHAVE_EXTRATO, \n",
                "                                CONVERT(INT, e.TIPO_LANCAMENTO) AS TIPO_LANCAMENTO, \n",
                "                                CONVERT(CHAR, e.DATA_LANCAMENTO, 103) AS DATA_LANCAMENTO,\n",
                "                                CONVERT(CHAR, o.VALOR_TRANSACAO) AS VALOR_TRANSACAO,\n",
                "                                CONVERT(CHAR, e.NUMERO_BANCO) AS NUMERO_BANCO, \n",
                "                                CONVERT(CHAR, e.NUMERO_AGENCIA) AS NUMERO_AGENCIA, \n",
                "                                CONVERT(CHAR, e.NUMERO_CONTA) AS NUMERO_CONTA,\n",
                "                                t.NOME_TITULAR,\n",
                "                                CONVERT(CHAR, o.NUMERO_BANCO_OD) AS NUMERO_BANCO_OD, \n",
                "                                CONVERT(CHAR, o.NUMERO_AGENCIA_OD) AS NUMERO_AGENCIA_OD, \n",
                "                                CONVERT(CHAR, o.NUMERO_CONTA_OD) AS NUMERO_CONTA_OD, \n",
                "                                CONVERT(CHAR, o.NOME_PESSOA_OD) AS NOME_PESSOA_OD \n",
                "                                FROM EXTRATO e\n",
                "                                INNER JOIN ORIGEM_DESTINO o ON e.CODIGO_CHAVE_EXTRATO = o.CODIGO_CHAVE_EXTRATO\n",
                "                                INNER JOIN TITULARES t ON e.NUMERO_BANCO = t.NUMERO_BANCO AND e.NUMERO_AGENCIA = t.NUMERO_AGENCIA  \n",
                "                                AND e.NUMERO_CONTA = t.NUMERO_CONTA\n",
                "                                where e.DATA_LANCAMENTO BETWEEN CONVERT(DATE, '2006-01-01') AND CONVERT(DATE, '2006-05-01')\n",
                "                                ORDER BY e.DATA_LANCAMENTO"
            ],
            "metadata": {
                "azdata_cell_guid": "198deba6-0685-43bd-b856-835d319e07e3"
            },
            "outputs": [
                {
                    "output_type": "display_data",
                    "data": {
                        "text/html": "(43 rows affected)"
                    },
                    "metadata": {}
                },
                {
                    "output_type": "display_data",
                    "data": {
                        "text/html": "Total execution time: 00:00:00.102"
                    },
                    "metadata": {}
                },
                {
                    "output_type": "execute_result",
                    "execution_count": 3,
                    "data": {
                        "application/vnd.dataresource+json": {
                            "schema": {
                                "fields": [
                                    {
                                        "name": "CODIGO_CHAVE_EXTRATO"
                                    },
                                    {
                                        "name": "TIPO_LANCAMENTO"
                                    },
                                    {
                                        "name": "DATA_LANCAMENTO"
                                    },
                                    {
                                        "name": "VALOR_TRANSACAO"
                                    },
                                    {
                                        "name": "NUMERO_BANCO"
                                    },
                                    {
                                        "name": "NUMERO_AGENCIA"
                                    },
                                    {
                                        "name": "NUMERO_CONTA"
                                    },
                                    {
                                        "name": "NOME_TITULAR"
                                    },
                                    {
                                        "name": "NUMERO_BANCO_OD"
                                    },
                                    {
                                        "name": "NUMERO_AGENCIA_OD"
                                    },
                                    {
                                        "name": "NUMERO_CONTA_OD"
                                    },
                                    {
                                        "name": "NOME_PESSOA_OD"
                                    }
                                ]
                            },
                            "data": [
                                {
                                    "0": "11",
                                    "1": "201",
                                    "2": "01/01/2006                    ",
                                    "3": "150000                        ",
                                    "4": "888                           ",
                                    "5": "103                           ",
                                    "6": "333331                        ",
                                    "7": "INVESTIGADO 765",
                                    "8": "888                           ",
                                    "9": "102                           ",
                                    "10": "456555                        ",
                                    "11": "FULANO DA SILVA               "
                                },
                                {
                                    "0": "11",
                                    "1": "201",
                                    "2": "01/01/2006                    ",
                                    "3": "150000                        ",
                                    "4": "888                           ",
                                    "5": "103                           ",
                                    "6": "333331                        ",
                                    "7": "EMPRESA DO INVESTIGADO 200",
                                    "8": "888                           ",
                                    "9": "102                           ",
                                    "10": "456555                        ",
                                    "11": "FULANO DA SILVA               "
                                },
                                {
                                    "0": "11",
                                    "1": "201",
                                    "2": "01/01/2006                    ",
                                    "3": "50000                         ",
                                    "4": "888                           ",
                                    "5": "103                           ",
                                    "6": "333331                        ",
                                    "7": "INVESTIGADO 765",
                                    "8": "1                             ",
                                    "9": "2315                          ",
                                    "10": "9799                          ",
                                    "11": "CICLANO DE SOUZA              "
                                },
                                {
                                    "0": "11",
                                    "1": "201",
                                    "2": "01/01/2006                    ",
                                    "3": "50000                         ",
                                    "4": "888                           ",
                                    "5": "103                           ",
                                    "6": "333331                        ",
                                    "7": "EMPRESA DO INVESTIGADO 200",
                                    "8": "1                             ",
                                    "9": "2315                          ",
                                    "10": "9799                          ",
                                    "11": "CICLANO DE SOUZA              "
                                },
                                {
                                    "0": "1",
                                    "1": "219",
                                    "2": "01/01/2006                    ",
                                    "3": "100000                        ",
                                    "4": "888                           ",
                                    "5": "101                           ",
                                    "6": "111111                        ",
                                    "7": "INVESTIGADO 200",
                                    "8": "1                             ",
                                    "9": "101                           ",
                                    "10": "4455                          ",
                                    "11": "EMPRESA                       "
                                },
                                {
                                    "0": "2",
                                    "1": "201",
                                    "2": "01/01/2006                    ",
                                    "3": "50000                         ",
                                    "4": "888                           ",
                                    "5": "101                           ",
                                    "6": "111111                        ",
                                    "7": "INVESTIGADO 200",
                                    "8": "0                             ",
                                    "9": "0                             ",
                                    "10": "                              ",
                                    "11": "ENVOLVIDO 4                   "
                                },
                                {
                                    "0": "2",
                                    "1": "201",
                                    "2": "01/01/2006                    ",
                                    "3": "50000                         ",
                                    "4": "888                           ",
                                    "5": "101                           ",
                                    "6": "111111                        ",
                                    "7": "INVESTIGADO 200",
                                    "8": "0                             ",
                                    "9": "0                             ",
                                    "10": "                              ",
                                    "11": "ENVOLVIDO 4                   "
                                },
                                {
                                    "0": "3",
                                    "1": "105",
                                    "2": "01/01/2006                    ",
                                    "3": "45250                         ",
                                    "4": "888                           ",
                                    "5": "101                           ",
                                    "6": "111111                        ",
                                    "7": "INVESTIGADO 200",
                                    "8": "0                             ",
                                    "9": "0                             ",
                                    "10": "                              ",
                                    "11": "NOME DO CEDENTE               "
                                },
                                {
                                    "0": "4",
                                    "1": "117",
                                    "2": "01/01/2006                    ",
                                    "3": "400000                        ",
                                    "4": "888                           ",
                                    "5": "101                           ",
                                    "6": "111111                        ",
                                    "7": "INVESTIGADO 200",
                                    "8": "888                           ",
                                    "9": "101                           ",
                                    "10": "222221                        ",
                                    "11": "MARLENE MATOS                 "
                                },
                                {
                                    "0": "12",
                                    "1": "201",
                                    "2": "03/01/2006                    ",
                                    "3": "150000                        ",
                                    "4": "888                           ",
                                    "5": "103                           ",
                                    "6": "333331                        ",
                                    "7": "INVESTIGADO 765",
                                    "8": "888                           ",
                                    "9": "102                           ",
                                    "10": "456555                        ",
                                    "11": "FULANO DA SILVA               "
                                },
                                {
                                    "0": "12",
                                    "1": "201",
                                    "2": "03/01/2006                    ",
                                    "3": "150000                        ",
                                    "4": "888                           ",
                                    "5": "103                           ",
                                    "6": "333331                        ",
                                    "7": "EMPRESA DO INVESTIGADO 200",
                                    "8": "888                           ",
                                    "9": "102                           ",
                                    "10": "456555                        ",
                                    "11": "FULANO DA SILVA               "
                                },
                                {
                                    "0": "13",
                                    "1": "201",
                                    "2": "03/01/2006                    ",
                                    "3": "50000                         ",
                                    "4": "888                           ",
                                    "5": "103                           ",
                                    "6": "333331                        ",
                                    "7": "INVESTIGADO 765",
                                    "8": "1                             ",
                                    "9": "2315                          ",
                                    "10": "9799                          ",
                                    "11": "CICLANO DE SOUZA              "
                                },
                                {
                                    "0": "13",
                                    "1": "201",
                                    "2": "03/01/2006                    ",
                                    "3": "50000                         ",
                                    "4": "888                           ",
                                    "5": "103                           ",
                                    "6": "333331                        ",
                                    "7": "EMPRESA DO INVESTIGADO 200",
                                    "8": "1                             ",
                                    "9": "2315                          ",
                                    "10": "9799                          ",
                                    "11": "CICLANO DE SOUZA              "
                                },
                                {
                                    "0": "14",
                                    "1": "120",
                                    "2": "03/01/2006                    ",
                                    "3": "1300000                       ",
                                    "4": "888                           ",
                                    "5": "103                           ",
                                    "6": "333331                        ",
                                    "7": "INVESTIGADO 765",
                                    "8": "104                           ",
                                    "9": "2122                          ",
                                    "10": "9890980                       ",
                                    "11": "PESSOA QUE RECEBEU O DOC      "
                                },
                                {
                                    "0": "14",
                                    "1": "120",
                                    "2": "03/01/2006                    ",
                                    "3": "1300000                       ",
                                    "4": "888                           ",
                                    "5": "103                           ",
                                    "6": "333331                        ",
                                    "7": "EMPRESA DO INVESTIGADO 200",
                                    "8": "104                           ",
                                    "9": "2122                          ",
                                    "10": "9890980                       ",
                                    "11": "PESSOA QUE RECEBEU O DOC      "
                                },
                                {
                                    "0": "15",
                                    "1": "209",
                                    "2": "04/01/2006                    ",
                                    "3": "340000                        ",
                                    "4": "888                           ",
                                    "5": "103                           ",
                                    "6": "333331                        ",
                                    "7": "INVESTIGADO 765",
                                    "8": "205                           ",
                                    "9": "5                             ",
                                    "10": "004756                        ",
                                    "11": "EMPRESA QUE FEZ O TED         "
                                },
                                {
                                    "0": "15",
                                    "1": "209",
                                    "2": "04/01/2006                    ",
                                    "3": "340000                        ",
                                    "4": "888                           ",
                                    "5": "103                           ",
                                    "6": "333331                        ",
                                    "7": "EMPRESA DO INVESTIGADO 200",
                                    "8": "205                           ",
                                    "9": "5                             ",
                                    "10": "004756                        ",
                                    "11": "EMPRESA QUE FEZ O TED         "
                                },
                                {
                                    "0": "16",
                                    "1": "114",
                                    "2": "08/01/2006                    ",
                                    "3": "200000                        ",
                                    "4": "888                           ",
                                    "5": "103                           ",
                                    "6": "333331                        ",
                                    "7": "INVESTIGADO 765",
                                    "8": "0                             ",
                                    "9": "0                             ",
                                    "10": "                              ",
                                    "11": "                              "
                                },
                                {
                                    "0": "16",
                                    "1": "114",
                                    "2": "08/01/2006                    ",
                                    "3": "200000                        ",
                                    "4": "888                           ",
                                    "5": "103                           ",
                                    "6": "333331                        ",
                                    "7": "EMPRESA DO INVESTIGADO 200",
                                    "8": "0                             ",
                                    "9": "0                             ",
                                    "10": "                              ",
                                    "11": "                              "
                                },
                                {
                                    "0": "17",
                                    "1": "114",
                                    "2": "09/01/2006                    ",
                                    "3": "500000                        ",
                                    "4": "888                           ",
                                    "5": "103                           ",
                                    "6": "333331                        ",
                                    "7": "INVESTIGADO 765",
                                    "8": "0                             ",
                                    "9": "0                             ",
                                    "10": "                              ",
                                    "11": "                              "
                                },
                                {
                                    "0": "17",
                                    "1": "114",
                                    "2": "09/01/2006                    ",
                                    "3": "500000                        ",
                                    "4": "888                           ",
                                    "5": "103                           ",
                                    "6": "333331                        ",
                                    "7": "EMPRESA DO INVESTIGADO 200",
                                    "8": "0                             ",
                                    "9": "0                             ",
                                    "10": "                              ",
                                    "11": "                              "
                                },
                                {
                                    "0": "18",
                                    "1": "101",
                                    "2": "09/01/2006                    ",
                                    "3": "205450                        ",
                                    "4": "888                           ",
                                    "5": "103                           ",
                                    "6": "333331                        ",
                                    "7": "INVESTIGADO 765",
                                    "8": "0                             ",
                                    "9": "0                             ",
                                    "10": "                              ",
                                    "11": "NOME PESSOA DO VERSO          "
                                },
                                {
                                    "0": "18",
                                    "1": "101",
                                    "2": "09/01/2006                    ",
                                    "3": "205450                        ",
                                    "4": "888                           ",
                                    "5": "103                           ",
                                    "6": "333331                        ",
                                    "7": "EMPRESA DO INVESTIGADO 200",
                                    "8": "0                             ",
                                    "9": "0                             ",
                                    "10": "                              ",
                                    "11": "NOME PESSOA DO VERSO          "
                                },
                                {
                                    "0": "19",
                                    "1": "201",
                                    "2": "01/02/2006                    ",
                                    "3": "450000                        ",
                                    "4": "888                           ",
                                    "5": "103                           ",
                                    "6": "333331                        ",
                                    "7": "INVESTIGADO 765",
                                    "8": "888                           ",
                                    "9": "102                           ",
                                    "10": "07303                         ",
                                    "11": "JOAO ALMEIDA                  "
                                },
                                {
                                    "0": "19",
                                    "1": "201",
                                    "2": "01/02/2006                    ",
                                    "3": "450000                        ",
                                    "4": "888                           ",
                                    "5": "103                           ",
                                    "6": "333331                        ",
                                    "7": "EMPRESA DO INVESTIGADO 200",
                                    "8": "888                           ",
                                    "9": "102                           ",
                                    "10": "07303                         ",
                                    "11": "JOAO ALMEIDA                  "
                                },
                                {
                                    "0": "19",
                                    "1": "201",
                                    "2": "01/02/2006                    ",
                                    "3": "550000                        ",
                                    "4": "888                           ",
                                    "5": "103                           ",
                                    "6": "333331                        ",
                                    "7": "INVESTIGADO 765",
                                    "8": "604                           ",
                                    "9": "6016                          ",
                                    "10": "6466001                       ",
                                    "11": "EMPRESA DO PAPAI              "
                                },
                                {
                                    "0": "19",
                                    "1": "201",
                                    "2": "01/02/2006                    ",
                                    "3": "550000                        ",
                                    "4": "888                           ",
                                    "5": "103                           ",
                                    "6": "333331                        ",
                                    "7": "EMPRESA DO INVESTIGADO 200",
                                    "8": "604                           ",
                                    "9": "6016                          ",
                                    "10": "6466001                       ",
                                    "11": "EMPRESA DO PAPAI              "
                                },
                                {
                                    "0": "5",
                                    "1": "209",
                                    "2": "01/02/2006                    ",
                                    "3": "100050                        ",
                                    "4": "888                           ",
                                    "5": "101                           ",
                                    "6": "111111                        ",
                                    "7": "INVESTIGADO 200",
                                    "8": "104                           ",
                                    "9": "2344                          ",
                                    "10": "77777                         ",
                                    "11": "CALDOS E COMPANHIA SA         "
                                },
                                {
                                    "0": "6",
                                    "1": "114",
                                    "2": "01/02/2006                    ",
                                    "3": "100000                        ",
                                    "4": "888                           ",
                                    "5": "101                           ",
                                    "6": "111111                        ",
                                    "7": "INVESTIGADO 200",
                                    "8": "0                             ",
                                    "9": "0                             ",
                                    "10": "                              ",
                                    "11": "                              "
                                },
                                {
                                    "0": "20",
                                    "1": "122",
                                    "2": "02/02/2006                    ",
                                    "3": "3800000                       ",
                                    "4": "888                           ",
                                    "5": "103                           ",
                                    "6": "333331                        ",
                                    "7": "INVESTIGADO 765",
                                    "8": "0                             ",
                                    "9": "0                             ",
                                    "10": "                              ",
                                    "11": "                              "
                                },
                                {
                                    "0": "20",
                                    "1": "122",
                                    "2": "02/02/2006                    ",
                                    "3": "3800000                       ",
                                    "4": "888                           ",
                                    "5": "103                           ",
                                    "6": "333331                        ",
                                    "7": "EMPRESA DO INVESTIGADO 200",
                                    "8": "0                             ",
                                    "9": "0                             ",
                                    "10": "                              ",
                                    "11": "                              "
                                },
                                {
                                    "0": "21",
                                    "1": "201",
                                    "2": "07/02/2006                    ",
                                    "3": "450000                        ",
                                    "4": "888                           ",
                                    "5": "103                           ",
                                    "6": "333331                        ",
                                    "7": "INVESTIGADO 765",
                                    "8": "888                           ",
                                    "9": "102                           ",
                                    "10": "07303                         ",
                                    "11": "JOAO ALMEIDA                  "
                                },
                                {
                                    "0": "21",
                                    "1": "201",
                                    "2": "07/02/2006                    ",
                                    "3": "450000                        ",
                                    "4": "888                           ",
                                    "5": "103                           ",
                                    "6": "333331                        ",
                                    "7": "EMPRESA DO INVESTIGADO 200",
                                    "8": "888                           ",
                                    "9": "102                           ",
                                    "10": "07303                         ",
                                    "11": "JOAO ALMEIDA                  "
                                },
                                {
                                    "0": "22",
                                    "1": "201",
                                    "2": "07/02/2006                    ",
                                    "3": "550000                        ",
                                    "4": "888                           ",
                                    "5": "103                           ",
                                    "6": "333331                        ",
                                    "7": "INVESTIGADO 765",
                                    "8": "604                           ",
                                    "9": "6016                          ",
                                    "10": "6466001                       ",
                                    "11": "EMPRESA DO PAPAI              "
                                },
                                {
                                    "0": "22",
                                    "1": "201",
                                    "2": "07/02/2006                    ",
                                    "3": "550000                        ",
                                    "4": "888                           ",
                                    "5": "103                           ",
                                    "6": "333331                        ",
                                    "7": "EMPRESA DO INVESTIGADO 200",
                                    "8": "604                           ",
                                    "9": "6016                          ",
                                    "10": "6466001                       ",
                                    "11": "EMPRESA DO PAPAI              "
                                },
                                {
                                    "0": "23",
                                    "1": "103",
                                    "2": "07/02/2006                    ",
                                    "3": "550000                        ",
                                    "4": "888                           ",
                                    "5": "103                           ",
                                    "6": "333331                        ",
                                    "7": "INVESTIGADO 765",
                                    "8": "604                           ",
                                    "9": "6016                          ",
                                    "10": "6466001                       ",
                                    "11": "EMPRESA DO PAPAI              "
                                },
                                {
                                    "0": "23",
                                    "1": "103",
                                    "2": "07/02/2006                    ",
                                    "3": "550000                        ",
                                    "4": "888                           ",
                                    "5": "103                           ",
                                    "6": "333331                        ",
                                    "7": "EMPRESA DO INVESTIGADO 200",
                                    "8": "604                           ",
                                    "9": "6016                          ",
                                    "10": "6466001                       ",
                                    "11": "EMPRESA DO PAPAI              "
                                },
                                {
                                    "0": "24",
                                    "1": "213",
                                    "2": "08/02/2006                    ",
                                    "3": "40000                         ",
                                    "4": "888                           ",
                                    "5": "103                           ",
                                    "6": "333331                        ",
                                    "7": "INVESTIGADO 765",
                                    "8": "888                           ",
                                    "9": "101                           ",
                                    "10": "111111                        ",
                                    "11": "INVESTIGADO                   "
                                },
                                {
                                    "0": "24",
                                    "1": "213",
                                    "2": "08/02/2006                    ",
                                    "3": "40000                         ",
                                    "4": "888                           ",
                                    "5": "103                           ",
                                    "6": "333331                        ",
                                    "7": "EMPRESA DO INVESTIGADO 200",
                                    "8": "888                           ",
                                    "9": "101                           ",
                                    "10": "111111                        ",
                                    "11": "INVESTIGADO                   "
                                },
                                {
                                    "0": "7",
                                    "1": "101",
                                    "2": "01/03/2006                    ",
                                    "3": "100000                        ",
                                    "4": "888                           ",
                                    "5": "101                           ",
                                    "6": "111111                        ",
                                    "7": "INVESTIGADO 200",
                                    "8": "0                             ",
                                    "9": "0                             ",
                                    "10": "                              ",
                                    "11": "RECEBEDOR DO CHEQUE FINAL     "
                                },
                                {
                                    "0": "8",
                                    "1": "101",
                                    "2": "01/04/2006                    ",
                                    "3": "100000                        ",
                                    "4": "888                           ",
                                    "5": "101                           ",
                                    "6": "111111                        ",
                                    "7": "INVESTIGADO 200",
                                    "8": "0                             ",
                                    "9": "0                             ",
                                    "10": "                              ",
                                    "11": "PESSOA BENEFICIARIA DO CHEQUE "
                                },
                                {
                                    "0": "9",
                                    "1": "201",
                                    "2": "01/05/2006                    ",
                                    "3": "900000                        ",
                                    "4": "888                           ",
                                    "5": "101                           ",
                                    "6": "111111                        ",
                                    "7": "INVESTIGADO 200",
                                    "8": "888                           ",
                                    "9": "103                           ",
                                    "10": "333331                        ",
                                    "11": "PJ MATERIAIS DE CONSTRUÇÃO    "
                                },
                                {
                                    "0": "10",
                                    "1": "201",
                                    "2": "01/05/2006                    ",
                                    "3": "100000                        ",
                                    "4": "888                           ",
                                    "5": "101                           ",
                                    "6": "111111                        ",
                                    "7": "INVESTIGADO 200",
                                    "8": "104                           ",
                                    "9": "2311                          ",
                                    "10": "001004445                     ",
                                    "11": "MARIA DA SILVA                "
                                }
                            ]
                        },
                        "text/html": "<table><tr><th>CODIGO_CHAVE_EXTRATO</th><th>TIPO_LANCAMENTO</th><th>DATA_LANCAMENTO</th><th>VALOR_TRANSACAO</th><th>NUMERO_BANCO</th><th>NUMERO_AGENCIA</th><th>NUMERO_CONTA</th><th>NOME_TITULAR</th><th>NUMERO_BANCO_OD</th><th>NUMERO_AGENCIA_OD</th><th>NUMERO_CONTA_OD</th><th>NOME_PESSOA_OD</th></tr><tr><td>11</td><td>201</td><td>01/01/2006                    </td><td>150000                        </td><td>888                           </td><td>103                           </td><td>333331                        </td><td>INVESTIGADO 765</td><td>888                           </td><td>102                           </td><td>456555                        </td><td>FULANO DA SILVA               </td></tr><tr><td>11</td><td>201</td><td>01/01/2006                    </td><td>150000                        </td><td>888                           </td><td>103                           </td><td>333331                        </td><td>EMPRESA DO INVESTIGADO 200</td><td>888                           </td><td>102                           </td><td>456555                        </td><td>FULANO DA SILVA               </td></tr><tr><td>11</td><td>201</td><td>01/01/2006                    </td><td>50000                         </td><td>888                           </td><td>103                           </td><td>333331                        </td><td>INVESTIGADO 765</td><td>1                             </td><td>2315                          </td><td>9799                          </td><td>CICLANO DE SOUZA              </td></tr><tr><td>11</td><td>201</td><td>01/01/2006                    </td><td>50000                         </td><td>888                           </td><td>103                           </td><td>333331                        </td><td>EMPRESA DO INVESTIGADO 200</td><td>1                             </td><td>2315                          </td><td>9799                          </td><td>CICLANO DE SOUZA              </td></tr><tr><td>1</td><td>219</td><td>01/01/2006                    </td><td>100000                        </td><td>888                           </td><td>101                           </td><td>111111                        </td><td>INVESTIGADO 200</td><td>1                             </td><td>101                           </td><td>4455                          </td><td>EMPRESA                       </td></tr><tr><td>2</td><td>201</td><td>01/01/2006                    </td><td>50000                         </td><td>888                           </td><td>101                           </td><td>111111                        </td><td>INVESTIGADO 200</td><td>0                             </td><td>0                             </td><td>                              </td><td>ENVOLVIDO 4                   </td></tr><tr><td>2</td><td>201</td><td>01/01/2006                    </td><td>50000                         </td><td>888                           </td><td>101                           </td><td>111111                        </td><td>INVESTIGADO 200</td><td>0                             </td><td>0                             </td><td>                              </td><td>ENVOLVIDO 4                   </td></tr><tr><td>3</td><td>105</td><td>01/01/2006                    </td><td>45250                         </td><td>888                           </td><td>101                           </td><td>111111                        </td><td>INVESTIGADO 200</td><td>0                             </td><td>0                             </td><td>                              </td><td>NOME DO CEDENTE               </td></tr><tr><td>4</td><td>117</td><td>01/01/2006                    </td><td>400000                        </td><td>888                           </td><td>101                           </td><td>111111                        </td><td>INVESTIGADO 200</td><td>888                           </td><td>101                           </td><td>222221                        </td><td>MARLENE MATOS                 </td></tr><tr><td>12</td><td>201</td><td>03/01/2006                    </td><td>150000                        </td><td>888                           </td><td>103                           </td><td>333331                        </td><td>INVESTIGADO 765</td><td>888                           </td><td>102                           </td><td>456555                        </td><td>FULANO DA SILVA               </td></tr><tr><td>12</td><td>201</td><td>03/01/2006                    </td><td>150000                        </td><td>888                           </td><td>103                           </td><td>333331                        </td><td>EMPRESA DO INVESTIGADO 200</td><td>888                           </td><td>102                           </td><td>456555                        </td><td>FULANO DA SILVA               </td></tr><tr><td>13</td><td>201</td><td>03/01/2006                    </td><td>50000                         </td><td>888                           </td><td>103                           </td><td>333331                        </td><td>INVESTIGADO 765</td><td>1                             </td><td>2315                          </td><td>9799                          </td><td>CICLANO DE SOUZA              </td></tr><tr><td>13</td><td>201</td><td>03/01/2006                    </td><td>50000                         </td><td>888                           </td><td>103                           </td><td>333331                        </td><td>EMPRESA DO INVESTIGADO 200</td><td>1                             </td><td>2315                          </td><td>9799                          </td><td>CICLANO DE SOUZA              </td></tr><tr><td>14</td><td>120</td><td>03/01/2006                    </td><td>1300000                       </td><td>888                           </td><td>103                           </td><td>333331                        </td><td>INVESTIGADO 765</td><td>104                           </td><td>2122                          </td><td>9890980                       </td><td>PESSOA QUE RECEBEU O DOC      </td></tr><tr><td>14</td><td>120</td><td>03/01/2006                    </td><td>1300000                       </td><td>888                           </td><td>103                           </td><td>333331                        </td><td>EMPRESA DO INVESTIGADO 200</td><td>104                           </td><td>2122                          </td><td>9890980                       </td><td>PESSOA QUE RECEBEU O DOC      </td></tr><tr><td>15</td><td>209</td><td>04/01/2006                    </td><td>340000                        </td><td>888                           </td><td>103                           </td><td>333331                        </td><td>INVESTIGADO 765</td><td>205                           </td><td>5                             </td><td>004756                        </td><td>EMPRESA QUE FEZ O TED         </td></tr><tr><td>15</td><td>209</td><td>04/01/2006                    </td><td>340000                        </td><td>888                           </td><td>103                           </td><td>333331                        </td><td>EMPRESA DO INVESTIGADO 200</td><td>205                           </td><td>5                             </td><td>004756                        </td><td>EMPRESA QUE FEZ O TED         </td></tr><tr><td>16</td><td>114</td><td>08/01/2006                    </td><td>200000                        </td><td>888                           </td><td>103                           </td><td>333331                        </td><td>INVESTIGADO 765</td><td>0                             </td><td>0                             </td><td>                              </td><td>                              </td></tr><tr><td>16</td><td>114</td><td>08/01/2006                    </td><td>200000                        </td><td>888                           </td><td>103                           </td><td>333331                        </td><td>EMPRESA DO INVESTIGADO 200</td><td>0                             </td><td>0                             </td><td>                              </td><td>                              </td></tr><tr><td>17</td><td>114</td><td>09/01/2006                    </td><td>500000                        </td><td>888                           </td><td>103                           </td><td>333331                        </td><td>INVESTIGADO 765</td><td>0                             </td><td>0                             </td><td>                              </td><td>                              </td></tr><tr><td>17</td><td>114</td><td>09/01/2006                    </td><td>500000                        </td><td>888                           </td><td>103                           </td><td>333331                        </td><td>EMPRESA DO INVESTIGADO 200</td><td>0                             </td><td>0                             </td><td>                              </td><td>                              </td></tr><tr><td>18</td><td>101</td><td>09/01/2006                    </td><td>205450                        </td><td>888                           </td><td>103                           </td><td>333331                        </td><td>INVESTIGADO 765</td><td>0                             </td><td>0                             </td><td>                              </td><td>NOME PESSOA DO VERSO          </td></tr><tr><td>18</td><td>101</td><td>09/01/2006                    </td><td>205450                        </td><td>888                           </td><td>103                           </td><td>333331                        </td><td>EMPRESA DO INVESTIGADO 200</td><td>0                             </td><td>0                             </td><td>                              </td><td>NOME PESSOA DO VERSO          </td></tr><tr><td>19</td><td>201</td><td>01/02/2006                    </td><td>450000                        </td><td>888                           </td><td>103                           </td><td>333331                        </td><td>INVESTIGADO 765</td><td>888                           </td><td>102                           </td><td>07303                         </td><td>JOAO ALMEIDA                  </td></tr><tr><td>19</td><td>201</td><td>01/02/2006                    </td><td>450000                        </td><td>888                           </td><td>103                           </td><td>333331                        </td><td>EMPRESA DO INVESTIGADO 200</td><td>888                           </td><td>102                           </td><td>07303                         </td><td>JOAO ALMEIDA                  </td></tr><tr><td>19</td><td>201</td><td>01/02/2006                    </td><td>550000                        </td><td>888                           </td><td>103                           </td><td>333331                        </td><td>INVESTIGADO 765</td><td>604                           </td><td>6016                          </td><td>6466001                       </td><td>EMPRESA DO PAPAI              </td></tr><tr><td>19</td><td>201</td><td>01/02/2006                    </td><td>550000                        </td><td>888                           </td><td>103                           </td><td>333331                        </td><td>EMPRESA DO INVESTIGADO 200</td><td>604                           </td><td>6016                          </td><td>6466001                       </td><td>EMPRESA DO PAPAI              </td></tr><tr><td>5</td><td>209</td><td>01/02/2006                    </td><td>100050                        </td><td>888                           </td><td>101                           </td><td>111111                        </td><td>INVESTIGADO 200</td><td>104                           </td><td>2344                          </td><td>77777                         </td><td>CALDOS E COMPANHIA SA         </td></tr><tr><td>6</td><td>114</td><td>01/02/2006                    </td><td>100000                        </td><td>888                           </td><td>101                           </td><td>111111                        </td><td>INVESTIGADO 200</td><td>0                             </td><td>0                             </td><td>                              </td><td>                              </td></tr><tr><td>20</td><td>122</td><td>02/02/2006                    </td><td>3800000                       </td><td>888                           </td><td>103                           </td><td>333331                        </td><td>INVESTIGADO 765</td><td>0                             </td><td>0                             </td><td>                              </td><td>                              </td></tr><tr><td>20</td><td>122</td><td>02/02/2006                    </td><td>3800000                       </td><td>888                           </td><td>103                           </td><td>333331                        </td><td>EMPRESA DO INVESTIGADO 200</td><td>0                             </td><td>0                             </td><td>                              </td><td>                              </td></tr><tr><td>21</td><td>201</td><td>07/02/2006                    </td><td>450000                        </td><td>888                           </td><td>103                           </td><td>333331                        </td><td>INVESTIGADO 765</td><td>888                           </td><td>102                           </td><td>07303                         </td><td>JOAO ALMEIDA                  </td></tr><tr><td>21</td><td>201</td><td>07/02/2006                    </td><td>450000                        </td><td>888                           </td><td>103                           </td><td>333331                        </td><td>EMPRESA DO INVESTIGADO 200</td><td>888                           </td><td>102                           </td><td>07303                         </td><td>JOAO ALMEIDA                  </td></tr><tr><td>22</td><td>201</td><td>07/02/2006                    </td><td>550000                        </td><td>888                           </td><td>103                           </td><td>333331                        </td><td>INVESTIGADO 765</td><td>604                           </td><td>6016                          </td><td>6466001                       </td><td>EMPRESA DO PAPAI              </td></tr><tr><td>22</td><td>201</td><td>07/02/2006                    </td><td>550000                        </td><td>888                           </td><td>103                           </td><td>333331                        </td><td>EMPRESA DO INVESTIGADO 200</td><td>604                           </td><td>6016                          </td><td>6466001                       </td><td>EMPRESA DO PAPAI              </td></tr><tr><td>23</td><td>103</td><td>07/02/2006                    </td><td>550000                        </td><td>888                           </td><td>103                           </td><td>333331                        </td><td>INVESTIGADO 765</td><td>604                           </td><td>6016                          </td><td>6466001                       </td><td>EMPRESA DO PAPAI              </td></tr><tr><td>23</td><td>103</td><td>07/02/2006                    </td><td>550000                        </td><td>888                           </td><td>103                           </td><td>333331                        </td><td>EMPRESA DO INVESTIGADO 200</td><td>604                           </td><td>6016                          </td><td>6466001                       </td><td>EMPRESA DO PAPAI              </td></tr><tr><td>24</td><td>213</td><td>08/02/2006                    </td><td>40000                         </td><td>888                           </td><td>103                           </td><td>333331                        </td><td>INVESTIGADO 765</td><td>888                           </td><td>101                           </td><td>111111                        </td><td>INVESTIGADO                   </td></tr><tr><td>24</td><td>213</td><td>08/02/2006                    </td><td>40000                         </td><td>888                           </td><td>103                           </td><td>333331                        </td><td>EMPRESA DO INVESTIGADO 200</td><td>888                           </td><td>101                           </td><td>111111                        </td><td>INVESTIGADO                   </td></tr><tr><td>7</td><td>101</td><td>01/03/2006                    </td><td>100000                        </td><td>888                           </td><td>101                           </td><td>111111                        </td><td>INVESTIGADO 200</td><td>0                             </td><td>0                             </td><td>                              </td><td>RECEBEDOR DO CHEQUE FINAL     </td></tr><tr><td>8</td><td>101</td><td>01/04/2006                    </td><td>100000                        </td><td>888                           </td><td>101                           </td><td>111111                        </td><td>INVESTIGADO 200</td><td>0                             </td><td>0                             </td><td>                              </td><td>PESSOA BENEFICIARIA DO CHEQUE </td></tr><tr><td>9</td><td>201</td><td>01/05/2006                    </td><td>900000                        </td><td>888                           </td><td>101                           </td><td>111111                        </td><td>INVESTIGADO 200</td><td>888                           </td><td>103                           </td><td>333331                        </td><td>PJ MATERIAIS DE CONSTRUÇÃO    </td></tr><tr><td>10</td><td>201</td><td>01/05/2006                    </td><td>100000                        </td><td>888                           </td><td>101                           </td><td>111111                        </td><td>INVESTIGADO 200</td><td>104                           </td><td>2311                          </td><td>001004445                     </td><td>MARIA DA SILVA                </td></tr></table>"
                    },
                    "metadata": {}
                }
            ],
            "execution_count": 3
        },
        {
            "cell_type": "code",
            "source": [
                "SELECT * FROM \n",
                "(SELECT \n",
                "    DISTINCT\n",
                "    (SELECT TOP(1) NOME_TITULAR FROM TITULARES WHERE NUMERO_BANCO = e.NUMERO_BANCO AND NUMERO_AGENCIA = e.NUMERO_AGENCIA AND NUMERO_CONTA = e.NUMERO_CONTA ) AS 'TITULAR A',\n",
                "    CONCAT(e.NUMERO_BANCO,' / ',e.NUMERO_AGENCIA,' / ',e.NUMERO_CONTA) AS 'BANCO / AGÊNCIA / CONTA',\n",
                "    DESCRICAO AS 'TIPO DE LANÇAMENTO',\n",
                "    e.DESCRICAO_LANCAMENTO AS 'DESCRIÇÃO DO LANÇAMENTO',\n",
                "    FORMAT(o.VALOR_TRANSACAO, 'C') AS VALOR,\n",
                "    CONVERT(CHAR, e.DATA_LANCAMENTO, 103) AS 'DATA',\n",
                "    o.NOME_PESSOA_OD AS 'TITULAR B',\n",
                "    CONCAT(o.NUMERO_BANCO_OD,' / ',o.NUMERO_AGENCIA_OD,' / ',o.NUMERO_CONTA_OD) AS 'BANCO / AGÊNCIA / CONTA',\n",
                "    LOCAL_TRANSACAO AS 'LOCAL DA TRANSAÇÃO',\n",
                "    o.NOME_ENDOSSANTE_CHEQUE AS 'NOME ENDOSSANTE CHEQUE',\n",
                "    o.DOC_ENDOSSANTE_CHEQUE AS 'DOC ENDOSSANTE CHEQUE',\n",
                "    o.CODIGO_DE_BARRAS AS 'CÓDIGO DE BARRAS',\n",
                "    o.OBSERVACAO AS 'OBSERVAÇÃO'\n",
                "    FROM EXTRATO e\n",
                "    INNER JOIN ORIGEM_DESTINO o ON e.CODIGO_CHAVE_EXTRATO = o.CODIGO_CHAVE_EXTRATO\n",
                "    INNER JOIN TIPO_LANCAMENTO t ON t.CODIGO = e.TIPO_LANCAMENTO\n",
                "    WHERE \n",
                "    (e.NUMERO_AGENCIA = '0' AND e.NUMERO_CONTA = '' AND o.NUMERO_AGENCIA_OD = '101' AND o.NUMERO_CONTA_OD = '111111') \n",
                "    OR \n",
                "    (e.NUMERO_AGENCIA = '101' AND e.NUMERO_CONTA = '111111' AND o.NUMERO_AGENCIA_OD = '0' AND o.NUMERO_CONTA_OD = '') \n",
                "    AND\n",
                "    e.DATA_LANCAMENTO BETWEEN '01/01/2006' AND '2006-05-01'\n",
                ")\n",
                "ORDER BY "
            ],
            "metadata": {
                "azdata_cell_guid": "973e1edd-c701-4207-9910-3e61590cebd0"
            },
            "outputs": [
                {
                    "output_type": "display_data",
                    "data": {
                        "text/html": "(3 rows affected)"
                    },
                    "metadata": {}
                },
                {
                    "output_type": "display_data",
                    "data": {
                        "text/html": "Total execution time: 00:00:00.023"
                    },
                    "metadata": {}
                },
                {
                    "output_type": "execute_result",
                    "execution_count": 4,
                    "data": {
                        "application/vnd.dataresource+json": {
                            "schema": {
                                "fields": [
                                    {
                                        "name": "TITULAR A"
                                    },
                                    {
                                        "name": "BANCO / AGÊNCIA / CONTA"
                                    },
                                    {
                                        "name": "TIPO DE LANÇAMENTO"
                                    },
                                    {
                                        "name": "DESCRIÇÃO DO LANÇAMENTO"
                                    },
                                    {
                                        "name": "VALOR"
                                    },
                                    {
                                        "name": "DATA"
                                    },
                                    {
                                        "name": "TITULAR B"
                                    },
                                    {
                                        "name": "BANCO / AGÊNCIA / CONTA"
                                    },
                                    {
                                        "name": "LOCAL DA TRANSAÇÃO"
                                    },
                                    {
                                        "name": "NOME ENDOSSANTE CHEQUE"
                                    },
                                    {
                                        "name": "DOC ENDOSSANTE CHEQUE"
                                    },
                                    {
                                        "name": "CÓDIGO DE BARRAS"
                                    },
                                    {
                                        "name": "OBSERVAÇÃO"
                                    }
                                ]
                            },
                            "data": [
                                {
                                    "0": "INVESTIGADO 200",
                                    "1": "888 / 101 / 111111",
                                    "2": "Depósitos",
                                    "3": "DEPOSITO",
                                    "4": "R$ 50.000,00",
                                    "5": "01/01/2006                    ",
                                    "6": "ENVOLVIDO 4",
                                    "7": "0 / 0 / ",
                                    "8": "AGENCIA TESTE - BRASILIA/DF",
                                    "9": "",
                                    "10": "",
                                    "11": "",
                                    "12": ""
                                },
                                {
                                    "0": "INVESTIGADO 200",
                                    "1": "888 / 101 / 111111",
                                    "2": "Depósitos",
                                    "3": "DEPOSITO",
                                    "4": "R$ 50.000,00",
                                    "5": "01/01/2006                    ",
                                    "6": "ENVOLVIDO 4",
                                    "7": "0 / 0 / ",
                                    "8": "AGENCIA TESTE - BRASILIA/DF",
                                    "9": "",
                                    "10": "",
                                    "11": "",
                                    "12": ""
                                },
                                {
                                    "0": "INVESTIGADO 200",
                                    "1": "888 / 101 / 111111",
                                    "2": "Tarifas",
                                    "3": "PGTO LUZ",
                                    "4": "R$ 45.250,00",
                                    "5": "01/01/2006                    ",
                                    "6": "NOME DO CEDENTE",
                                    "7": "0 / 0 / ",
                                    "8": "TELEFONE",
                                    "9": "",
                                    "10": "",
                                    "11": "84610000001058100100509051499836863214040508",
                                    "12": ""
                                }
                            ]
                        },
                        "text/html": "<table><tr><th>TITULAR A</th><th>BANCO / AGÊNCIA / CONTA</th><th>TIPO DE LANÇAMENTO</th><th>DESCRIÇÃO DO LANÇAMENTO</th><th>VALOR</th><th>DATA</th><th>TITULAR B</th><th>BANCO / AGÊNCIA / CONTA</th><th>LOCAL DA TRANSAÇÃO</th><th>NOME ENDOSSANTE CHEQUE</th><th>DOC ENDOSSANTE CHEQUE</th><th>CÓDIGO DE BARRAS</th><th>OBSERVAÇÃO</th></tr><tr><td>INVESTIGADO 200</td><td>888 / 101 / 111111</td><td>Depósitos</td><td>DEPOSITO</td><td>R$ 50.000,00</td><td>01/01/2006                    </td><td>ENVOLVIDO 4</td><td>0 / 0 / </td><td>AGENCIA TESTE - BRASILIA/DF</td><td></td><td></td><td></td><td></td></tr><tr><td>INVESTIGADO 200</td><td>888 / 101 / 111111</td><td>Depósitos</td><td>DEPOSITO</td><td>R$ 50.000,00</td><td>01/01/2006                    </td><td>ENVOLVIDO 4</td><td>0 / 0 / </td><td>AGENCIA TESTE - BRASILIA/DF</td><td></td><td></td><td></td><td></td></tr><tr><td>INVESTIGADO 200</td><td>888 / 101 / 111111</td><td>Tarifas</td><td>PGTO LUZ</td><td>R$ 45.250,00</td><td>01/01/2006                    </td><td>NOME DO CEDENTE</td><td>0 / 0 / </td><td>TELEFONE</td><td></td><td></td><td>84610000001058100100509051499836863214040508</td><td></td></tr></table>"
                    },
                    "metadata": {}
                }
            ],
            "execution_count": 4
        },
        {
            "cell_type": "code",
            "source": [
                "SELECT * FROM ORIGEM_DESTINO o\n",
                "INNER JOIN EXTRATO e ON e.CODIGO_CHAVE_EXTRATO = o.CODIGO_CHAVE_EXTRATO"
            ],
            "metadata": {
                "azdata_cell_guid": "57b938d4-8943-44e6-9d77-6f2d4278b8e6"
            },
            "outputs": [
                {
                    "output_type": "display_data",
                    "data": {
                        "text/html": "(27 rows affected)"
                    },
                    "metadata": {}
                },
                {
                    "output_type": "display_data",
                    "data": {
                        "text/html": "Total execution time: 00:00:00.030"
                    },
                    "metadata": {}
                },
                {
                    "output_type": "execute_result",
                    "execution_count": 9,
                    "data": {
                        "application/vnd.dataresource+json": {
                            "schema": {
                                "fields": [
                                    {
                                        "name": "CODIGO_CHAVE_OD"
                                    },
                                    {
                                        "name": "CODIGO_CHAVE_EXTRATO"
                                    },
                                    {
                                        "name": "VALOR_TRANSACAO"
                                    },
                                    {
                                        "name": "NUMERO_DOCUMENTO_TRANSACAO"
                                    },
                                    {
                                        "name": "NUMERO_BANCO_OD"
                                    },
                                    {
                                        "name": "NUMERO_AGENCIA_OD"
                                    },
                                    {
                                        "name": "NUMERO_CONTA_OD"
                                    },
                                    {
                                        "name": "TIPO_CONTA_OD"
                                    },
                                    {
                                        "name": "TIPO_PESSOA_OD"
                                    },
                                    {
                                        "name": "CPF_CNPJ_OD"
                                    },
                                    {
                                        "name": "NOME_PESSOA_OD"
                                    },
                                    {
                                        "name": "NOME_DOC_IDENTIFICACAO_OD"
                                    },
                                    {
                                        "name": "NUMERO_DOC_IDENTIFICACAO_OD"
                                    },
                                    {
                                        "name": "CODIGO_DE_BARRAS"
                                    },
                                    {
                                        "name": "NOME_ENDOSSANTE_CHEQUE"
                                    },
                                    {
                                        "name": "DOC_ENDOSSANTE_CHEQUE"
                                    },
                                    {
                                        "name": "SITUACAO_IDENTIFICACAO"
                                    },
                                    {
                                        "name": "OBSERVACAO"
                                    },
                                    {
                                        "name": "CODIGO_CHAVE_EXTRATO"
                                    },
                                    {
                                        "name": "NUMERO_BANCO"
                                    },
                                    {
                                        "name": "NUMERO_AGENCIA"
                                    },
                                    {
                                        "name": "NUMERO_CONTA"
                                    },
                                    {
                                        "name": "TIPO_CONTA"
                                    },
                                    {
                                        "name": "DATA_LANCAMENTO"
                                    },
                                    {
                                        "name": "NUMERO_DOCUMENTO"
                                    },
                                    {
                                        "name": "DESCRICAO_LANCAMENTO"
                                    },
                                    {
                                        "name": "TIPO_LANCAMENTO"
                                    },
                                    {
                                        "name": "VALOR_LANCAMENTO"
                                    },
                                    {
                                        "name": "NATUREZA_LANCAMENTO"
                                    },
                                    {
                                        "name": "VALOR_SALDO"
                                    },
                                    {
                                        "name": "NATUREZA_SALDO"
                                    },
                                    {
                                        "name": "LOCAL_TRANSACAO"
                                    }
                                ]
                            },
                            "data": [
                                {
                                    "0": "1001",
                                    "1": "1",
                                    "2": "100000",
                                    "3": "123",
                                    "4": "1",
                                    "5": "101",
                                    "6": "4455",
                                    "7": "1",
                                    "8": "2",
                                    "9": "1210313000137",
                                    "10": "EMPRESA",
                                    "11": "DE CARRO",
                                    "12": "",
                                    "13": "",
                                    "14": "",
                                    "15": "",
                                    "16": "0",
                                    "17": "DINHEIRO",
                                    "18": "1",
                                    "19": "888",
                                    "20": "101",
                                    "21": "111111",
                                    "22": "1",
                                    "23": "2006-01-01 00:00:00.000",
                                    "24": "123",
                                    "25": "PAGTO SALARIO",
                                    "26": "219",
                                    "27": "100000",
                                    "28": "C",
                                    "29": "5100000",
                                    "30": "C",
                                    "31": "AGENCIA TESTE - BRASILIA/DF"
                                },
                                {
                                    "0": "1002",
                                    "1": "2",
                                    "2": "50000",
                                    "3": "1241",
                                    "4": "0",
                                    "5": "0",
                                    "6": "",
                                    "7": "0",
                                    "8": "1",
                                    "9": "0",
                                    "10": "ENVOLVIDO 4",
                                    "11": "RG",
                                    "12": "442456 SSP/PE",
                                    "13": "",
                                    "14": "",
                                    "15": "",
                                    "16": "0",
                                    "17": "",
                                    "18": "2",
                                    "19": "888",
                                    "20": "101",
                                    "21": "111111",
                                    "22": "1",
                                    "23": "2006-01-01 00:00:00.000",
                                    "24": "124",
                                    "25": "DEPOSITO",
                                    "26": "201",
                                    "27": "100000",
                                    "28": "C",
                                    "29": "5200000",
                                    "30": "C",
                                    "31": "AGENCIA TESTE - BRASILIA/DF"
                                },
                                {
                                    "0": "1003",
                                    "1": "2",
                                    "2": "50000",
                                    "3": "1242",
                                    "4": "0",
                                    "5": "0",
                                    "6": "",
                                    "7": "0",
                                    "8": "1",
                                    "9": "0",
                                    "10": "ENVOLVIDO 4",
                                    "11": "RG",
                                    "12": "442456 SSP/PE",
                                    "13": "",
                                    "14": "",
                                    "15": "",
                                    "16": "0",
                                    "17": "",
                                    "18": "2",
                                    "19": "888",
                                    "20": "101",
                                    "21": "111111",
                                    "22": "1",
                                    "23": "2006-01-01 00:00:00.000",
                                    "24": "124",
                                    "25": "DEPOSITO",
                                    "26": "201",
                                    "27": "100000",
                                    "28": "C",
                                    "29": "5200000",
                                    "30": "C",
                                    "31": "AGENCIA TESTE - BRASILIA/DF"
                                },
                                {
                                    "0": "1004",
                                    "1": "3",
                                    "2": "45250",
                                    "3": "101",
                                    "4": "0",
                                    "5": "0",
                                    "6": "",
                                    "7": "0",
                                    "8": "0",
                                    "9": "1666666000146",
                                    "10": "NOME DO CEDENTE",
                                    "11": "",
                                    "12": "",
                                    "13": "84610000001058100100509051499836863214040508",
                                    "14": "",
                                    "15": "",
                                    "16": "0",
                                    "17": "",
                                    "18": "3",
                                    "19": "888",
                                    "20": "101",
                                    "21": "111111",
                                    "22": "1",
                                    "23": "2006-01-01 00:00:00.000",
                                    "24": "101",
                                    "25": "PGTO LUZ",
                                    "26": "105",
                                    "27": "45250",
                                    "28": "D",
                                    "29": "5154750",
                                    "30": "C",
                                    "31": "TELEFONE"
                                },
                                {
                                    "0": "1005",
                                    "1": "4",
                                    "2": "400000",
                                    "3": "0122",
                                    "4": "888",
                                    "5": "101",
                                    "6": "222221",
                                    "7": "1",
                                    "8": "1",
                                    "9": "12345678909",
                                    "10": "MARLENE MATOS",
                                    "11": "",
                                    "12": "",
                                    "13": "",
                                    "14": "",
                                    "15": "",
                                    "16": "0",
                                    "17": "",
                                    "18": "4",
                                    "19": "888",
                                    "20": "101",
                                    "21": "111111",
                                    "22": "1",
                                    "23": "2006-01-01 00:00:00.000",
                                    "24": "0122",
                                    "25": "TRANSFER",
                                    "26": "117",
                                    "27": "400000",
                                    "28": "D",
                                    "29": "5114750",
                                    "30": "C",
                                    "31": "INTERNET"
                                },
                                {
                                    "0": "1006",
                                    "1": "5",
                                    "2": "100050",
                                    "3": "4654",
                                    "4": "104",
                                    "5": "2344",
                                    "6": "77777",
                                    "7": "1",
                                    "8": "2",
                                    "9": "11112222333359",
                                    "10": "CALDOS E COMPANHIA SA",
                                    "11": "",
                                    "12": "",
                                    "13": "",
                                    "14": "",
                                    "15": "",
                                    "16": "0",
                                    "17": "",
                                    "18": "5",
                                    "19": "888",
                                    "20": "101",
                                    "21": "111111",
                                    "22": "1",
                                    "23": "2006-02-01 00:00:00.000",
                                    "24": "4654",
                                    "25": "TED OUTRO BCO",
                                    "26": "209",
                                    "27": "100050",
                                    "28": "C",
                                    "29": "5214800",
                                    "30": "C",
                                    "31": "AGENCIA DA SERRA"
                                },
                                {
                                    "0": "1009",
                                    "1": "6",
                                    "2": "100000",
                                    "3": "46546",
                                    "4": "0",
                                    "5": "0",
                                    "6": "",
                                    "7": "0",
                                    "8": "0",
                                    "9": "0",
                                    "10": "",
                                    "11": "",
                                    "12": "",
                                    "13": "",
                                    "14": "",
                                    "15": "",
                                    "16": "0",
                                    "17": "",
                                    "18": "6",
                                    "19": "888",
                                    "20": "101",
                                    "21": "111111",
                                    "22": "1",
                                    "23": "2006-02-01 00:00:00.000",
                                    "24": "46546",
                                    "25": "SAQUE TERMINAL",
                                    "26": "114",
                                    "27": "100000",
                                    "28": "D",
                                    "29": "5114800",
                                    "30": "C",
                                    "31": "PAB ALTAMIRA - BELEM/PA"
                                },
                                {
                                    "0": "1010",
                                    "1": "7",
                                    "2": "100000",
                                    "3": "041651",
                                    "4": "0",
                                    "5": "0",
                                    "6": "",
                                    "7": "0",
                                    "8": "0",
                                    "9": "0",
                                    "10": "RECEBEDOR DO CHEQUE FINAL",
                                    "11": "",
                                    "12": "",
                                    "13": "",
                                    "14": "",
                                    "15": "",
                                    "16": "0",
                                    "17": "",
                                    "18": "7",
                                    "19": "888",
                                    "20": "101",
                                    "21": "111111",
                                    "22": "1",
                                    "23": "2006-03-01 00:00:00.000",
                                    "24": "041651",
                                    "25": "CHEQUE DESCONTADO",
                                    "26": "101",
                                    "27": "100000",
                                    "28": "D",
                                    "29": "5014800",
                                    "30": "C",
                                    "31": "AGENCIA DA LAGOA - RIO DE JANEIRO"
                                },
                                {
                                    "0": "1011",
                                    "1": "8",
                                    "2": "100000",
                                    "3": "254",
                                    "4": "0",
                                    "5": "0",
                                    "6": "",
                                    "7": "0",
                                    "8": "0",
                                    "9": "78943213204",
                                    "10": "PESSOA BENEFICIARIA DO CHEQUE FINAL",
                                    "11": "",
                                    "12": "",
                                    "13": "",
                                    "14": "NOME DO ENDOSSANTE",
                                    "15": "RG 12334 SSP/DF",
                                    "16": "0",
                                    "17": "SAQUE EM ESPECIE",
                                    "18": "8",
                                    "19": "888",
                                    "20": "101",
                                    "21": "111111",
                                    "22": "1",
                                    "23": "2006-04-01 00:00:00.000",
                                    "24": "254",
                                    "25": "CHEQUE DESCONTADO",
                                    "26": "101",
                                    "27": "100000",
                                    "28": "D",
                                    "29": "4914800",
                                    "30": "C",
                                    "31": "AGENCIA DA SERRA"
                                },
                                {
                                    "0": "1012",
                                    "1": "9",
                                    "2": "900000",
                                    "3": "126",
                                    "4": "888",
                                    "5": "103",
                                    "6": "333331",
                                    "7": "1",
                                    "8": "2",
                                    "9": "11112222111100",
                                    "10": "PJ MATERIAIS DE CONSTRUÇÃO",
                                    "11": "",
                                    "12": "",
                                    "13": "",
                                    "14": "",
                                    "15": "",
                                    "16": "0",
                                    "17": "",
                                    "18": "9",
                                    "19": "888",
                                    "20": "101",
                                    "21": "111111",
                                    "22": "1",
                                    "23": "2006-05-01 00:00:00.000",
                                    "24": "126",
                                    "25": "DEPOSITO CHEQUE",
                                    "26": "201",
                                    "27": "900000",
                                    "28": "C",
                                    "29": "5814800",
                                    "30": "C",
                                    "31": ""
                                },
                                {
                                    "0": "1013",
                                    "1": "10",
                                    "2": "100000",
                                    "3": "127",
                                    "4": "104",
                                    "5": "2311",
                                    "6": "001004445",
                                    "7": "0",
                                    "8": "1",
                                    "9": "66666666151",
                                    "10": "MARIA DA SILVA",
                                    "11": "",
                                    "12": "",
                                    "13": "",
                                    "14": "",
                                    "15": "",
                                    "16": "0",
                                    "17": "",
                                    "18": "10",
                                    "19": "888",
                                    "20": "101",
                                    "21": "111111",
                                    "22": "1",
                                    "23": "2006-05-01 00:00:00.000",
                                    "24": "127",
                                    "25": "DEPOSITO CHEQUE",
                                    "26": "201",
                                    "27": "100000",
                                    "28": "C",
                                    "29": "5914800",
                                    "30": "C",
                                    "31": "LOTERICA JK - BRASILIA/DF"
                                },
                                {
                                    "0": "1014",
                                    "1": "11",
                                    "2": "150000",
                                    "3": "2123",
                                    "4": "888",
                                    "5": "102",
                                    "6": "456555",
                                    "7": "1",
                                    "8": "1",
                                    "9": "55555555121",
                                    "10": "FULANO DA SILVA",
                                    "11": "",
                                    "12": "",
                                    "13": "",
                                    "14": "",
                                    "15": "",
                                    "16": "0",
                                    "17": "",
                                    "18": "11",
                                    "19": "888",
                                    "20": "103",
                                    "21": "333331",
                                    "22": "1",
                                    "23": "2006-01-01 00:00:00.000",
                                    "24": "2123",
                                    "25": "DEPOSITO CH BLOQ",
                                    "26": "201",
                                    "27": "200000",
                                    "28": "*",
                                    "29": "5914800",
                                    "30": "C",
                                    "31": ""
                                },
                                {
                                    "0": "1015",
                                    "1": "11",
                                    "2": "50000",
                                    "3": "2123",
                                    "4": "1",
                                    "5": "2315",
                                    "6": "9799",
                                    "7": "0",
                                    "8": "1",
                                    "9": "77777777181",
                                    "10": "CICLANO DE SOUZA",
                                    "11": "",
                                    "12": "",
                                    "13": "",
                                    "14": "",
                                    "15": "",
                                    "16": "0",
                                    "17": "",
                                    "18": "11",
                                    "19": "888",
                                    "20": "103",
                                    "21": "333331",
                                    "22": "1",
                                    "23": "2006-01-01 00:00:00.000",
                                    "24": "2123",
                                    "25": "DEPOSITO CH BLOQ",
                                    "26": "201",
                                    "27": "200000",
                                    "28": "*",
                                    "29": "5914800",
                                    "30": "C",
                                    "31": ""
                                },
                                {
                                    "0": "1016",
                                    "1": "12",
                                    "2": "150000",
                                    "3": "2123",
                                    "4": "888",
                                    "5": "102",
                                    "6": "456555",
                                    "7": "1",
                                    "8": "1",
                                    "9": "55555555121",
                                    "10": "FULANO DA SILVA",
                                    "11": "",
                                    "12": "",
                                    "13": "",
                                    "14": "",
                                    "15": "",
                                    "16": "0",
                                    "17": "",
                                    "18": "12",
                                    "19": "888",
                                    "20": "103",
                                    "21": "333331",
                                    "22": "1",
                                    "23": "2006-01-03 00:00:00.000",
                                    "24": "212301",
                                    "25": "LIBERACAO CH BLOQ",
                                    "26": "201",
                                    "27": "150000",
                                    "28": "C",
                                    "29": "6064800",
                                    "30": "C",
                                    "31": ""
                                },
                                {
                                    "0": "1017",
                                    "1": "13",
                                    "2": "50000",
                                    "3": "2123",
                                    "4": "1",
                                    "5": "2315",
                                    "6": "9799",
                                    "7": "0",
                                    "8": "1",
                                    "9": "77777777181",
                                    "10": "CICLANO DE SOUZA",
                                    "11": "",
                                    "12": "",
                                    "13": "",
                                    "14": "",
                                    "15": "",
                                    "16": "0",
                                    "17": "",
                                    "18": "13",
                                    "19": "888",
                                    "20": "103",
                                    "21": "333331",
                                    "22": "1",
                                    "23": "2006-01-03 00:00:00.000",
                                    "24": "212302",
                                    "25": "LIBERACAO CH BLOQ",
                                    "26": "201",
                                    "27": "50000",
                                    "28": "C",
                                    "29": "6065300",
                                    "30": "C",
                                    "31": ""
                                },
                                {
                                    "0": "1018",
                                    "1": "14",
                                    "2": "1300000",
                                    "3": "015",
                                    "4": "104",
                                    "5": "2122",
                                    "6": "9890980",
                                    "7": "0",
                                    "8": "1",
                                    "9": "1234567890",
                                    "10": "PESSOA QUE RECEBEU O DOC",
                                    "11": "",
                                    "12": "",
                                    "13": "",
                                    "14": "",
                                    "15": "",
                                    "16": "0",
                                    "17": "",
                                    "18": "14",
                                    "19": "888",
                                    "20": "103",
                                    "21": "333331",
                                    "22": "1",
                                    "23": "2006-01-03 00:00:00.000",
                                    "24": "2022",
                                    "25": "DOC",
                                    "26": "120",
                                    "27": "1300000",
                                    "28": "D",
                                    "29": "4765300",
                                    "30": "C",
                                    "31": ""
                                },
                                {
                                    "0": "1019",
                                    "1": "15",
                                    "2": "340000",
                                    "3": "016",
                                    "4": "205",
                                    "5": "5",
                                    "6": "004756",
                                    "7": "0",
                                    "8": "2",
                                    "9": "77778888777745",
                                    "10": "EMPRESA QUE FEZ O TED",
                                    "11": "",
                                    "12": "",
                                    "13": "",
                                    "14": "",
                                    "15": "",
                                    "16": "0",
                                    "17": "",
                                    "18": "15",
                                    "19": "888",
                                    "20": "103",
                                    "21": "333331",
                                    "22": "1",
                                    "23": "2006-01-04 00:00:00.000",
                                    "24": "2654",
                                    "25": "TED OUTRO BCO",
                                    "26": "209",
                                    "27": "340000",
                                    "28": "C",
                                    "29": "4799300",
                                    "30": "C",
                                    "31": ""
                                },
                                {
                                    "0": "1020",
                                    "1": "16",
                                    "2": "200000",
                                    "3": "017",
                                    "4": "0",
                                    "5": "0",
                                    "6": "",
                                    "7": "0",
                                    "8": "0",
                                    "9": "0",
                                    "10": "",
                                    "11": "",
                                    "12": "",
                                    "13": "",
                                    "14": "",
                                    "15": "",
                                    "16": "0",
                                    "17": "",
                                    "18": "16",
                                    "19": "888",
                                    "20": "103",
                                    "21": "333331",
                                    "22": "1",
                                    "23": "2006-01-08 00:00:00.000",
                                    "24": "26546",
                                    "25": "SAQUE TERMINAL",
                                    "26": "114",
                                    "27": "200000",
                                    "28": "D",
                                    "29": "4599300",
                                    "30": "C",
                                    "31": "SUPERMERCADO"
                                },
                                {
                                    "0": "1021",
                                    "1": "17",
                                    "2": "500000",
                                    "3": "018",
                                    "4": "0",
                                    "5": "0",
                                    "6": "",
                                    "7": "0",
                                    "8": "0",
                                    "9": "0",
                                    "10": "",
                                    "11": "",
                                    "12": "",
                                    "13": "",
                                    "14": "",
                                    "15": "",
                                    "16": "0",
                                    "17": "",
                                    "18": "17",
                                    "19": "888",
                                    "20": "103",
                                    "21": "333331",
                                    "22": "1",
                                    "23": "2006-01-09 00:00:00.000",
                                    "24": "241651",
                                    "25": "SAQUE 24H",
                                    "26": "114",
                                    "27": "500000",
                                    "28": "D",
                                    "29": "4099300",
                                    "30": "C",
                                    "31": "POSTO IGREJINHA - BRASILIA/DF"
                                },
                                {
                                    "0": "1022",
                                    "1": "18",
                                    "2": "205450",
                                    "3": "001542",
                                    "4": "0",
                                    "5": "0",
                                    "6": "",
                                    "7": "0",
                                    "8": "0",
                                    "9": "0",
                                    "10": "NOME PESSOA DO VERSO",
                                    "11": "RG",
                                    "12": "78954",
                                    "13": "",
                                    "14": "JOSE ENDOSSOU ANVERSO",
                                    "15": "RG 777",
                                    "16": "0",
                                    "17": "",
                                    "18": "18",
                                    "19": "888",
                                    "20": "103",
                                    "21": "333331",
                                    "22": "1",
                                    "23": "2006-01-09 00:00:00.000",
                                    "24": "254",
                                    "25": "CHEQUE PAGO",
                                    "26": "101",
                                    "27": "205450",
                                    "28": "D",
                                    "29": "3893850",
                                    "30": "C",
                                    "31": ""
                                },
                                {
                                    "0": "1023",
                                    "1": "19",
                                    "2": "450000",
                                    "3": "22601",
                                    "4": "888",
                                    "5": "102",
                                    "6": "07303",
                                    "7": "1",
                                    "8": "1",
                                    "9": "35463200009",
                                    "10": "JOAO ALMEIDA",
                                    "11": "",
                                    "12": "",
                                    "13": "",
                                    "14": "",
                                    "15": "",
                                    "16": "0",
                                    "17": "",
                                    "18": "19",
                                    "19": "888",
                                    "20": "103",
                                    "21": "333331",
                                    "22": "1",
                                    "23": "2006-02-01 00:00:00.000",
                                    "24": "226",
                                    "25": "DEPOSITO CH BLOQ",
                                    "26": "201",
                                    "27": "1000000",
                                    "28": "*",
                                    "29": "3893850",
                                    "30": "C",
                                    "31": "LOTERICA SAO GON"
                                },
                                {
                                    "0": "1024",
                                    "1": "19",
                                    "2": "550000",
                                    "3": "22602",
                                    "4": "604",
                                    "5": "6016",
                                    "6": "6466001",
                                    "7": "0",
                                    "8": "2",
                                    "9": "3456273000133",
                                    "10": "EMPRESA DO PAPAI",
                                    "11": "",
                                    "12": "",
                                    "13": "",
                                    "14": "",
                                    "15": "",
                                    "16": "0",
                                    "17": "",
                                    "18": "19",
                                    "19": "888",
                                    "20": "103",
                                    "21": "333331",
                                    "22": "1",
                                    "23": "2006-02-01 00:00:00.000",
                                    "24": "226",
                                    "25": "DEPOSITO CH BLOQ",
                                    "26": "201",
                                    "27": "1000000",
                                    "28": "*",
                                    "29": "3893850",
                                    "30": "C",
                                    "31": "LOTERICA SAO GON"
                                },
                                {
                                    "0": "1025",
                                    "1": "20",
                                    "2": "3800000",
                                    "3": "227",
                                    "4": "0",
                                    "5": "0",
                                    "6": "",
                                    "7": "0",
                                    "8": "0",
                                    "9": "0",
                                    "10": "",
                                    "11": "",
                                    "12": "",
                                    "13": "",
                                    "14": "",
                                    "15": "",
                                    "16": "0",
                                    "17": "",
                                    "18": "20",
                                    "19": "888",
                                    "20": "103",
                                    "21": "333331",
                                    "22": "1",
                                    "23": "2006-02-02 00:00:00.000",
                                    "24": "227",
                                    "25": "BLOQUEIO JUDICIAL",
                                    "26": "122",
                                    "27": "3800000",
                                    "28": "*",
                                    "29": "3893850",
                                    "30": "C",
                                    "31": ""
                                },
                                {
                                    "0": "1026",
                                    "1": "21",
                                    "2": "450000",
                                    "3": "22601",
                                    "4": "888",
                                    "5": "102",
                                    "6": "07303",
                                    "7": "1",
                                    "8": "1",
                                    "9": "35463200009",
                                    "10": "JOAO ALMEIDA",
                                    "11": "",
                                    "12": "",
                                    "13": "",
                                    "14": "",
                                    "15": "",
                                    "16": "0",
                                    "17": "",
                                    "18": "21",
                                    "19": "888",
                                    "20": "103",
                                    "21": "333331",
                                    "22": "1",
                                    "23": "2006-02-07 00:00:00.000",
                                    "24": "4500",
                                    "25": "LIBERACAO DE CH",
                                    "26": "201",
                                    "27": "450000",
                                    "28": "C",
                                    "29": "4343850",
                                    "30": "C",
                                    "31": ""
                                },
                                {
                                    "0": "1027",
                                    "1": "22",
                                    "2": "550000",
                                    "3": "22602",
                                    "4": "604",
                                    "5": "6016",
                                    "6": "6466001",
                                    "7": "0",
                                    "8": "2",
                                    "9": "3456273000133",
                                    "10": "EMPRESA DO PAPAI",
                                    "11": "",
                                    "12": "",
                                    "13": "",
                                    "14": "",
                                    "15": "",
                                    "16": "0",
                                    "17": "",
                                    "18": "22",
                                    "19": "888",
                                    "20": "103",
                                    "21": "333331",
                                    "22": "1",
                                    "23": "2006-02-07 00:00:00.000",
                                    "24": "4501",
                                    "25": "LIBERACAO DE CH",
                                    "26": "201",
                                    "27": "550000",
                                    "28": "C",
                                    "29": "4893850",
                                    "30": "C",
                                    "31": ""
                                },
                                {
                                    "0": "1028",
                                    "1": "23",
                                    "2": "550000",
                                    "3": "22602",
                                    "4": "604",
                                    "5": "6016",
                                    "6": "6466001",
                                    "7": "0",
                                    "8": "2",
                                    "9": "3456273000133",
                                    "10": "EMPRESA DO PAPAI",
                                    "11": "",
                                    "12": "",
                                    "13": "",
                                    "14": "",
                                    "15": "",
                                    "16": "0",
                                    "17": "",
                                    "18": "23",
                                    "19": "888",
                                    "20": "103",
                                    "21": "333331",
                                    "22": "1",
                                    "23": "2006-02-07 00:00:00.000",
                                    "24": "4502",
                                    "25": "ESTORNO CH DEVOL",
                                    "26": "103",
                                    "27": "550000",
                                    "28": "D",
                                    "29": "4343850",
                                    "30": "C",
                                    "31": ""
                                },
                                {
                                    "0": "1029",
                                    "1": "24",
                                    "2": "40000",
                                    "3": "10333",
                                    "4": "888",
                                    "5": "101",
                                    "6": "111111",
                                    "7": "0",
                                    "8": "1",
                                    "9": "20050506870",
                                    "10": "INVESTIGADO",
                                    "11": "200",
                                    "12": "",
                                    "13": "",
                                    "14": "",
                                    "15": "",
                                    "16": "0",
                                    "17": "",
                                    "18": "24",
                                    "19": "888",
                                    "20": "103",
                                    "21": "333331",
                                    "22": "1",
                                    "23": "2006-02-08 00:00:00.000",
                                    "24": "10333",
                                    "25": "TRANSFER AUTOMATICO",
                                    "26": "213",
                                    "27": "40000",
                                    "28": "C",
                                    "29": "4383850",
                                    "30": "C",
                                    "31": ""
                                }
                            ]
                        },
                        "text/html": "<table><tr><th>CODIGO_CHAVE_OD</th><th>CODIGO_CHAVE_EXTRATO</th><th>VALOR_TRANSACAO</th><th>NUMERO_DOCUMENTO_TRANSACAO</th><th>NUMERO_BANCO_OD</th><th>NUMERO_AGENCIA_OD</th><th>NUMERO_CONTA_OD</th><th>TIPO_CONTA_OD</th><th>TIPO_PESSOA_OD</th><th>CPF_CNPJ_OD</th><th>NOME_PESSOA_OD</th><th>NOME_DOC_IDENTIFICACAO_OD</th><th>NUMERO_DOC_IDENTIFICACAO_OD</th><th>CODIGO_DE_BARRAS</th><th>NOME_ENDOSSANTE_CHEQUE</th><th>DOC_ENDOSSANTE_CHEQUE</th><th>SITUACAO_IDENTIFICACAO</th><th>OBSERVACAO</th><th>CODIGO_CHAVE_EXTRATO</th><th>NUMERO_BANCO</th><th>NUMERO_AGENCIA</th><th>NUMERO_CONTA</th><th>TIPO_CONTA</th><th>DATA_LANCAMENTO</th><th>NUMERO_DOCUMENTO</th><th>DESCRICAO_LANCAMENTO</th><th>TIPO_LANCAMENTO</th><th>VALOR_LANCAMENTO</th><th>NATUREZA_LANCAMENTO</th><th>VALOR_SALDO</th><th>NATUREZA_SALDO</th><th>LOCAL_TRANSACAO</th></tr><tr><td>1001</td><td>1</td><td>100000</td><td>123</td><td>1</td><td>101</td><td>4455</td><td>1</td><td>2</td><td>1210313000137</td><td>EMPRESA</td><td>DE CARRO</td><td></td><td></td><td></td><td></td><td>0</td><td>DINHEIRO</td><td>1</td><td>888</td><td>101</td><td>111111</td><td>1</td><td>2006-01-01 00:00:00.000</td><td>123</td><td>PAGTO SALARIO</td><td>219</td><td>100000</td><td>C</td><td>5100000</td><td>C</td><td>AGENCIA TESTE - BRASILIA/DF</td></tr><tr><td>1002</td><td>2</td><td>50000</td><td>1241</td><td>0</td><td>0</td><td></td><td>0</td><td>1</td><td>0</td><td>ENVOLVIDO 4</td><td>RG</td><td>442456 SSP/PE</td><td></td><td></td><td></td><td>0</td><td></td><td>2</td><td>888</td><td>101</td><td>111111</td><td>1</td><td>2006-01-01 00:00:00.000</td><td>124</td><td>DEPOSITO</td><td>201</td><td>100000</td><td>C</td><td>5200000</td><td>C</td><td>AGENCIA TESTE - BRASILIA/DF</td></tr><tr><td>1003</td><td>2</td><td>50000</td><td>1242</td><td>0</td><td>0</td><td></td><td>0</td><td>1</td><td>0</td><td>ENVOLVIDO 4</td><td>RG</td><td>442456 SSP/PE</td><td></td><td></td><td></td><td>0</td><td></td><td>2</td><td>888</td><td>101</td><td>111111</td><td>1</td><td>2006-01-01 00:00:00.000</td><td>124</td><td>DEPOSITO</td><td>201</td><td>100000</td><td>C</td><td>5200000</td><td>C</td><td>AGENCIA TESTE - BRASILIA/DF</td></tr><tr><td>1004</td><td>3</td><td>45250</td><td>101</td><td>0</td><td>0</td><td></td><td>0</td><td>0</td><td>1666666000146</td><td>NOME DO CEDENTE</td><td></td><td></td><td>84610000001058100100509051499836863214040508</td><td></td><td></td><td>0</td><td></td><td>3</td><td>888</td><td>101</td><td>111111</td><td>1</td><td>2006-01-01 00:00:00.000</td><td>101</td><td>PGTO LUZ</td><td>105</td><td>45250</td><td>D</td><td>5154750</td><td>C</td><td>TELEFONE</td></tr><tr><td>1005</td><td>4</td><td>400000</td><td>0122</td><td>888</td><td>101</td><td>222221</td><td>1</td><td>1</td><td>12345678909</td><td>MARLENE MATOS</td><td></td><td></td><td></td><td></td><td></td><td>0</td><td></td><td>4</td><td>888</td><td>101</td><td>111111</td><td>1</td><td>2006-01-01 00:00:00.000</td><td>0122</td><td>TRANSFER</td><td>117</td><td>400000</td><td>D</td><td>5114750</td><td>C</td><td>INTERNET</td></tr><tr><td>1006</td><td>5</td><td>100050</td><td>4654</td><td>104</td><td>2344</td><td>77777</td><td>1</td><td>2</td><td>11112222333359</td><td>CALDOS E COMPANHIA SA</td><td></td><td></td><td></td><td></td><td></td><td>0</td><td></td><td>5</td><td>888</td><td>101</td><td>111111</td><td>1</td><td>2006-02-01 00:00:00.000</td><td>4654</td><td>TED OUTRO BCO</td><td>209</td><td>100050</td><td>C</td><td>5214800</td><td>C</td><td>AGENCIA DA SERRA</td></tr><tr><td>1009</td><td>6</td><td>100000</td><td>46546</td><td>0</td><td>0</td><td></td><td>0</td><td>0</td><td>0</td><td></td><td></td><td></td><td></td><td></td><td></td><td>0</td><td></td><td>6</td><td>888</td><td>101</td><td>111111</td><td>1</td><td>2006-02-01 00:00:00.000</td><td>46546</td><td>SAQUE TERMINAL</td><td>114</td><td>100000</td><td>D</td><td>5114800</td><td>C</td><td>PAB ALTAMIRA - BELEM/PA</td></tr><tr><td>1010</td><td>7</td><td>100000</td><td>041651</td><td>0</td><td>0</td><td></td><td>0</td><td>0</td><td>0</td><td>RECEBEDOR DO CHEQUE FINAL</td><td></td><td></td><td></td><td></td><td></td><td>0</td><td></td><td>7</td><td>888</td><td>101</td><td>111111</td><td>1</td><td>2006-03-01 00:00:00.000</td><td>041651</td><td>CHEQUE DESCONTADO</td><td>101</td><td>100000</td><td>D</td><td>5014800</td><td>C</td><td>AGENCIA DA LAGOA - RIO DE JANEIRO</td></tr><tr><td>1011</td><td>8</td><td>100000</td><td>254</td><td>0</td><td>0</td><td></td><td>0</td><td>0</td><td>78943213204</td><td>PESSOA BENEFICIARIA DO CHEQUE FINAL</td><td></td><td></td><td></td><td>NOME DO ENDOSSANTE</td><td>RG 12334 SSP/DF</td><td>0</td><td>SAQUE EM ESPECIE</td><td>8</td><td>888</td><td>101</td><td>111111</td><td>1</td><td>2006-04-01 00:00:00.000</td><td>254</td><td>CHEQUE DESCONTADO</td><td>101</td><td>100000</td><td>D</td><td>4914800</td><td>C</td><td>AGENCIA DA SERRA</td></tr><tr><td>1012</td><td>9</td><td>900000</td><td>126</td><td>888</td><td>103</td><td>333331</td><td>1</td><td>2</td><td>11112222111100</td><td>PJ MATERIAIS DE CONSTRUÇÃO</td><td></td><td></td><td></td><td></td><td></td><td>0</td><td></td><td>9</td><td>888</td><td>101</td><td>111111</td><td>1</td><td>2006-05-01 00:00:00.000</td><td>126</td><td>DEPOSITO CHEQUE</td><td>201</td><td>900000</td><td>C</td><td>5814800</td><td>C</td><td></td></tr><tr><td>1013</td><td>10</td><td>100000</td><td>127</td><td>104</td><td>2311</td><td>001004445</td><td>0</td><td>1</td><td>66666666151</td><td>MARIA DA SILVA</td><td></td><td></td><td></td><td></td><td></td><td>0</td><td></td><td>10</td><td>888</td><td>101</td><td>111111</td><td>1</td><td>2006-05-01 00:00:00.000</td><td>127</td><td>DEPOSITO CHEQUE</td><td>201</td><td>100000</td><td>C</td><td>5914800</td><td>C</td><td>LOTERICA JK - BRASILIA/DF</td></tr><tr><td>1014</td><td>11</td><td>150000</td><td>2123</td><td>888</td><td>102</td><td>456555</td><td>1</td><td>1</td><td>55555555121</td><td>FULANO DA SILVA</td><td></td><td></td><td></td><td></td><td></td><td>0</td><td></td><td>11</td><td>888</td><td>103</td><td>333331</td><td>1</td><td>2006-01-01 00:00:00.000</td><td>2123</td><td>DEPOSITO CH BLOQ</td><td>201</td><td>200000</td><td>*</td><td>5914800</td><td>C</td><td></td></tr><tr><td>1015</td><td>11</td><td>50000</td><td>2123</td><td>1</td><td>2315</td><td>9799</td><td>0</td><td>1</td><td>77777777181</td><td>CICLANO DE SOUZA</td><td></td><td></td><td></td><td></td><td></td><td>0</td><td></td><td>11</td><td>888</td><td>103</td><td>333331</td><td>1</td><td>2006-01-01 00:00:00.000</td><td>2123</td><td>DEPOSITO CH BLOQ</td><td>201</td><td>200000</td><td>*</td><td>5914800</td><td>C</td><td></td></tr><tr><td>1016</td><td>12</td><td>150000</td><td>2123</td><td>888</td><td>102</td><td>456555</td><td>1</td><td>1</td><td>55555555121</td><td>FULANO DA SILVA</td><td></td><td></td><td></td><td></td><td></td><td>0</td><td></td><td>12</td><td>888</td><td>103</td><td>333331</td><td>1</td><td>2006-01-03 00:00:00.000</td><td>212301</td><td>LIBERACAO CH BLOQ</td><td>201</td><td>150000</td><td>C</td><td>6064800</td><td>C</td><td></td></tr><tr><td>1017</td><td>13</td><td>50000</td><td>2123</td><td>1</td><td>2315</td><td>9799</td><td>0</td><td>1</td><td>77777777181</td><td>CICLANO DE SOUZA</td><td></td><td></td><td></td><td></td><td></td><td>0</td><td></td><td>13</td><td>888</td><td>103</td><td>333331</td><td>1</td><td>2006-01-03 00:00:00.000</td><td>212302</td><td>LIBERACAO CH BLOQ</td><td>201</td><td>50000</td><td>C</td><td>6065300</td><td>C</td><td></td></tr><tr><td>1018</td><td>14</td><td>1300000</td><td>015</td><td>104</td><td>2122</td><td>9890980</td><td>0</td><td>1</td><td>1234567890</td><td>PESSOA QUE RECEBEU O DOC</td><td></td><td></td><td></td><td></td><td></td><td>0</td><td></td><td>14</td><td>888</td><td>103</td><td>333331</td><td>1</td><td>2006-01-03 00:00:00.000</td><td>2022</td><td>DOC</td><td>120</td><td>1300000</td><td>D</td><td>4765300</td><td>C</td><td></td></tr><tr><td>1019</td><td>15</td><td>340000</td><td>016</td><td>205</td><td>5</td><td>004756</td><td>0</td><td>2</td><td>77778888777745</td><td>EMPRESA QUE FEZ O TED</td><td></td><td></td><td></td><td></td><td></td><td>0</td><td></td><td>15</td><td>888</td><td>103</td><td>333331</td><td>1</td><td>2006-01-04 00:00:00.000</td><td>2654</td><td>TED OUTRO BCO</td><td>209</td><td>340000</td><td>C</td><td>4799300</td><td>C</td><td></td></tr><tr><td>1020</td><td>16</td><td>200000</td><td>017</td><td>0</td><td>0</td><td></td><td>0</td><td>0</td><td>0</td><td></td><td></td><td></td><td></td><td></td><td></td><td>0</td><td></td><td>16</td><td>888</td><td>103</td><td>333331</td><td>1</td><td>2006-01-08 00:00:00.000</td><td>26546</td><td>SAQUE TERMINAL</td><td>114</td><td>200000</td><td>D</td><td>4599300</td><td>C</td><td>SUPERMERCADO</td></tr><tr><td>1021</td><td>17</td><td>500000</td><td>018</td><td>0</td><td>0</td><td></td><td>0</td><td>0</td><td>0</td><td></td><td></td><td></td><td></td><td></td><td></td><td>0</td><td></td><td>17</td><td>888</td><td>103</td><td>333331</td><td>1</td><td>2006-01-09 00:00:00.000</td><td>241651</td><td>SAQUE 24H</td><td>114</td><td>500000</td><td>D</td><td>4099300</td><td>C</td><td>POSTO IGREJINHA - BRASILIA/DF</td></tr><tr><td>1022</td><td>18</td><td>205450</td><td>001542</td><td>0</td><td>0</td><td></td><td>0</td><td>0</td><td>0</td><td>NOME PESSOA DO VERSO</td><td>RG</td><td>78954</td><td></td><td>JOSE ENDOSSOU ANVERSO</td><td>RG 777</td><td>0</td><td></td><td>18</td><td>888</td><td>103</td><td>333331</td><td>1</td><td>2006-01-09 00:00:00.000</td><td>254</td><td>CHEQUE PAGO</td><td>101</td><td>205450</td><td>D</td><td>3893850</td><td>C</td><td></td></tr><tr><td>1023</td><td>19</td><td>450000</td><td>22601</td><td>888</td><td>102</td><td>07303</td><td>1</td><td>1</td><td>35463200009</td><td>JOAO ALMEIDA</td><td></td><td></td><td></td><td></td><td></td><td>0</td><td></td><td>19</td><td>888</td><td>103</td><td>333331</td><td>1</td><td>2006-02-01 00:00:00.000</td><td>226</td><td>DEPOSITO CH BLOQ</td><td>201</td><td>1000000</td><td>*</td><td>3893850</td><td>C</td><td>LOTERICA SAO GON</td></tr><tr><td>1024</td><td>19</td><td>550000</td><td>22602</td><td>604</td><td>6016</td><td>6466001</td><td>0</td><td>2</td><td>3456273000133</td><td>EMPRESA DO PAPAI</td><td></td><td></td><td></td><td></td><td></td><td>0</td><td></td><td>19</td><td>888</td><td>103</td><td>333331</td><td>1</td><td>2006-02-01 00:00:00.000</td><td>226</td><td>DEPOSITO CH BLOQ</td><td>201</td><td>1000000</td><td>*</td><td>3893850</td><td>C</td><td>LOTERICA SAO GON</td></tr><tr><td>1025</td><td>20</td><td>3800000</td><td>227</td><td>0</td><td>0</td><td></td><td>0</td><td>0</td><td>0</td><td></td><td></td><td></td><td></td><td></td><td></td><td>0</td><td></td><td>20</td><td>888</td><td>103</td><td>333331</td><td>1</td><td>2006-02-02 00:00:00.000</td><td>227</td><td>BLOQUEIO JUDICIAL</td><td>122</td><td>3800000</td><td>*</td><td>3893850</td><td>C</td><td></td></tr><tr><td>1026</td><td>21</td><td>450000</td><td>22601</td><td>888</td><td>102</td><td>07303</td><td>1</td><td>1</td><td>35463200009</td><td>JOAO ALMEIDA</td><td></td><td></td><td></td><td></td><td></td><td>0</td><td></td><td>21</td><td>888</td><td>103</td><td>333331</td><td>1</td><td>2006-02-07 00:00:00.000</td><td>4500</td><td>LIBERACAO DE CH</td><td>201</td><td>450000</td><td>C</td><td>4343850</td><td>C</td><td></td></tr><tr><td>1027</td><td>22</td><td>550000</td><td>22602</td><td>604</td><td>6016</td><td>6466001</td><td>0</td><td>2</td><td>3456273000133</td><td>EMPRESA DO PAPAI</td><td></td><td></td><td></td><td></td><td></td><td>0</td><td></td><td>22</td><td>888</td><td>103</td><td>333331</td><td>1</td><td>2006-02-07 00:00:00.000</td><td>4501</td><td>LIBERACAO DE CH</td><td>201</td><td>550000</td><td>C</td><td>4893850</td><td>C</td><td></td></tr><tr><td>1028</td><td>23</td><td>550000</td><td>22602</td><td>604</td><td>6016</td><td>6466001</td><td>0</td><td>2</td><td>3456273000133</td><td>EMPRESA DO PAPAI</td><td></td><td></td><td></td><td></td><td></td><td>0</td><td></td><td>23</td><td>888</td><td>103</td><td>333331</td><td>1</td><td>2006-02-07 00:00:00.000</td><td>4502</td><td>ESTORNO CH DEVOL</td><td>103</td><td>550000</td><td>D</td><td>4343850</td><td>C</td><td></td></tr><tr><td>1029</td><td>24</td><td>40000</td><td>10333</td><td>888</td><td>101</td><td>111111</td><td>0</td><td>1</td><td>20050506870</td><td>INVESTIGADO</td><td>200</td><td></td><td></td><td></td><td></td><td>0</td><td></td><td>24</td><td>888</td><td>103</td><td>333331</td><td>1</td><td>2006-02-08 00:00:00.000</td><td>10333</td><td>TRANSFER AUTOMATICO</td><td>213</td><td>40000</td><td>C</td><td>4383850</td><td>C</td><td></td></tr></table>"
                    },
                    "metadata": {}
                }
            ],
            "execution_count": 9
        }
    ]
}